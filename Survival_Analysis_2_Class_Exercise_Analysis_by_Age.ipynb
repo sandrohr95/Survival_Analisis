{
 "cells": [
  {
   "cell_type": "markdown",
   "id": "ed23ab5a",
   "metadata": {},
   "source": [
    "## Estimador de Kaplan-Meier con grupos"
   ]
  },
  {
   "cell_type": "markdown",
   "id": "2e6b6c58",
   "metadata": {},
   "source": [
    "Hasta ahora, vimos cómo podíamos encontrar la probabilidad de supervivencia y la probabilidad de peligro para todas nuestras observaciones. Ahora es el momento de realizar un análisis de nuestros datos para determinar si existe alguna diferencia en la probabilidad de supervivencia si dividimos nuestros datos en grupos en función de características específicas. Dividamos nuestros datos en dos grupos según el sexo: masculino y femenino. Nuestro objetivo aquí es comprobar si existe alguna diferencia significativa en la tasa de supervivencia si dividimos nuestro conjunto de datos en función de la edad.\n",
    "\n",
    "##### Ejercicio en clase\n",
    "Hacer el mismo análisis pero agrupando por edades en lugar de por sexo. La idea es ver si existe una diferencia significativa si dividimos lo datos según dos grupos de edad (Adultos = <60 Ancianos = >60)"
   ]
  },
  {
   "cell_type": "markdown",
   "id": "c6e17366",
   "metadata": {},
   "source": [
    "##### 1) Importe las bibliotecas necesarias"
   ]
  },
  {
   "cell_type": "code",
   "execution_count": 1,
   "id": "04ad3a07",
   "metadata": {},
   "outputs": [
    {
     "data": {
      "text/html": [
       "<div>\n",
       "<style scoped>\n",
       "    .dataframe tbody tr th:only-of-type {\n",
       "        vertical-align: middle;\n",
       "    }\n",
       "\n",
       "    .dataframe tbody tr th {\n",
       "        vertical-align: top;\n",
       "    }\n",
       "\n",
       "    .dataframe thead th {\n",
       "        text-align: right;\n",
       "    }\n",
       "</style>\n",
       "<table border=\"1\" class=\"dataframe\">\n",
       "  <thead>\n",
       "    <tr style=\"text-align: right;\">\n",
       "      <th></th>\n",
       "      <th>inst</th>\n",
       "      <th>time</th>\n",
       "      <th>status</th>\n",
       "      <th>age</th>\n",
       "      <th>sex</th>\n",
       "      <th>ph.ecog</th>\n",
       "      <th>ph.karno</th>\n",
       "      <th>pat.karno</th>\n",
       "      <th>meal.cal</th>\n",
       "      <th>wt.loss</th>\n",
       "    </tr>\n",
       "  </thead>\n",
       "  <tbody>\n",
       "    <tr>\n",
       "      <th>0</th>\n",
       "      <td>3.0</td>\n",
       "      <td>306</td>\n",
       "      <td>2</td>\n",
       "      <td>74</td>\n",
       "      <td>1</td>\n",
       "      <td>1.0</td>\n",
       "      <td>90.0</td>\n",
       "      <td>100.0</td>\n",
       "      <td>1175.0</td>\n",
       "      <td>NaN</td>\n",
       "    </tr>\n",
       "    <tr>\n",
       "      <th>1</th>\n",
       "      <td>3.0</td>\n",
       "      <td>455</td>\n",
       "      <td>2</td>\n",
       "      <td>68</td>\n",
       "      <td>1</td>\n",
       "      <td>0.0</td>\n",
       "      <td>90.0</td>\n",
       "      <td>90.0</td>\n",
       "      <td>1225.0</td>\n",
       "      <td>15.0</td>\n",
       "    </tr>\n",
       "    <tr>\n",
       "      <th>2</th>\n",
       "      <td>3.0</td>\n",
       "      <td>1010</td>\n",
       "      <td>1</td>\n",
       "      <td>56</td>\n",
       "      <td>1</td>\n",
       "      <td>0.0</td>\n",
       "      <td>90.0</td>\n",
       "      <td>90.0</td>\n",
       "      <td>NaN</td>\n",
       "      <td>15.0</td>\n",
       "    </tr>\n",
       "    <tr>\n",
       "      <th>3</th>\n",
       "      <td>5.0</td>\n",
       "      <td>210</td>\n",
       "      <td>2</td>\n",
       "      <td>57</td>\n",
       "      <td>1</td>\n",
       "      <td>1.0</td>\n",
       "      <td>90.0</td>\n",
       "      <td>60.0</td>\n",
       "      <td>1150.0</td>\n",
       "      <td>11.0</td>\n",
       "    </tr>\n",
       "    <tr>\n",
       "      <th>4</th>\n",
       "      <td>1.0</td>\n",
       "      <td>883</td>\n",
       "      <td>2</td>\n",
       "      <td>60</td>\n",
       "      <td>1</td>\n",
       "      <td>0.0</td>\n",
       "      <td>100.0</td>\n",
       "      <td>90.0</td>\n",
       "      <td>NaN</td>\n",
       "      <td>0.0</td>\n",
       "    </tr>\n",
       "  </tbody>\n",
       "</table>\n",
       "</div>"
      ],
      "text/plain": [
       "   inst  time  status  age  sex  ph.ecog  ph.karno  pat.karno  meal.cal  \\\n",
       "0   3.0   306       2   74    1      1.0      90.0      100.0    1175.0   \n",
       "1   3.0   455       2   68    1      0.0      90.0       90.0    1225.0   \n",
       "2   3.0  1010       1   56    1      0.0      90.0       90.0       NaN   \n",
       "3   5.0   210       2   57    1      1.0      90.0       60.0    1150.0   \n",
       "4   1.0   883       2   60    1      0.0     100.0       90.0       NaN   \n",
       "\n",
       "   wt.loss  \n",
       "0      NaN  \n",
       "1     15.0  \n",
       "2     15.0  \n",
       "3     11.0  \n",
       "4      0.0  "
      ]
     },
     "execution_count": 1,
     "metadata": {},
     "output_type": "execute_result"
    }
   ],
   "source": [
    "#Import required libraries:\n",
    "\n",
    "import pandas as pd\n",
    "import numpy as np\n",
    "import matplotlib.pyplot as plt\n",
    "from lifelines import KaplanMeierFitter\n",
    "\n",
    "#Read the dataset:\n",
    "\n",
    "data = pd.read_csv(\"lung.csv\")\n",
    "data = data.drop(columns=['Unnamed: 0'])\n",
    "data.head()"
   ]
  },
  {
   "cell_type": "code",
   "execution_count": 2,
   "id": "3dc07ab3",
   "metadata": {},
   "outputs": [
    {
     "data": {
      "text/html": [
       "<div>\n",
       "<style scoped>\n",
       "    .dataframe tbody tr th:only-of-type {\n",
       "        vertical-align: middle;\n",
       "    }\n",
       "\n",
       "    .dataframe tbody tr th {\n",
       "        vertical-align: top;\n",
       "    }\n",
       "\n",
       "    .dataframe thead th {\n",
       "        text-align: right;\n",
       "    }\n",
       "</style>\n",
       "<table border=\"1\" class=\"dataframe\">\n",
       "  <thead>\n",
       "    <tr style=\"text-align: right;\">\n",
       "      <th></th>\n",
       "      <th>inst</th>\n",
       "      <th>time</th>\n",
       "      <th>status</th>\n",
       "      <th>age</th>\n",
       "      <th>sex</th>\n",
       "      <th>ph.ecog</th>\n",
       "      <th>ph.karno</th>\n",
       "      <th>pat.karno</th>\n",
       "      <th>meal.cal</th>\n",
       "      <th>wt.loss</th>\n",
       "      <th>dead</th>\n",
       "    </tr>\n",
       "  </thead>\n",
       "  <tbody>\n",
       "    <tr>\n",
       "      <th>0</th>\n",
       "      <td>3.0</td>\n",
       "      <td>306</td>\n",
       "      <td>2</td>\n",
       "      <td>74</td>\n",
       "      <td>1</td>\n",
       "      <td>1.0</td>\n",
       "      <td>90.0</td>\n",
       "      <td>100.0</td>\n",
       "      <td>1175.0</td>\n",
       "      <td>NaN</td>\n",
       "      <td>1.0</td>\n",
       "    </tr>\n",
       "    <tr>\n",
       "      <th>1</th>\n",
       "      <td>3.0</td>\n",
       "      <td>455</td>\n",
       "      <td>2</td>\n",
       "      <td>68</td>\n",
       "      <td>1</td>\n",
       "      <td>0.0</td>\n",
       "      <td>90.0</td>\n",
       "      <td>90.0</td>\n",
       "      <td>1225.0</td>\n",
       "      <td>15.0</td>\n",
       "      <td>1.0</td>\n",
       "    </tr>\n",
       "    <tr>\n",
       "      <th>2</th>\n",
       "      <td>3.0</td>\n",
       "      <td>1010</td>\n",
       "      <td>1</td>\n",
       "      <td>56</td>\n",
       "      <td>1</td>\n",
       "      <td>0.0</td>\n",
       "      <td>90.0</td>\n",
       "      <td>90.0</td>\n",
       "      <td>NaN</td>\n",
       "      <td>15.0</td>\n",
       "      <td>0.0</td>\n",
       "    </tr>\n",
       "    <tr>\n",
       "      <th>3</th>\n",
       "      <td>5.0</td>\n",
       "      <td>210</td>\n",
       "      <td>2</td>\n",
       "      <td>57</td>\n",
       "      <td>1</td>\n",
       "      <td>1.0</td>\n",
       "      <td>90.0</td>\n",
       "      <td>60.0</td>\n",
       "      <td>1150.0</td>\n",
       "      <td>11.0</td>\n",
       "      <td>1.0</td>\n",
       "    </tr>\n",
       "    <tr>\n",
       "      <th>4</th>\n",
       "      <td>1.0</td>\n",
       "      <td>883</td>\n",
       "      <td>2</td>\n",
       "      <td>60</td>\n",
       "      <td>1</td>\n",
       "      <td>0.0</td>\n",
       "      <td>100.0</td>\n",
       "      <td>90.0</td>\n",
       "      <td>NaN</td>\n",
       "      <td>0.0</td>\n",
       "      <td>1.0</td>\n",
       "    </tr>\n",
       "  </tbody>\n",
       "</table>\n",
       "</div>"
      ],
      "text/plain": [
       "   inst  time  status  age  sex  ph.ecog  ph.karno  pat.karno  meal.cal  \\\n",
       "0   3.0   306       2   74    1      1.0      90.0      100.0    1175.0   \n",
       "1   3.0   455       2   68    1      0.0      90.0       90.0    1225.0   \n",
       "2   3.0  1010       1   56    1      0.0      90.0       90.0       NaN   \n",
       "3   5.0   210       2   57    1      1.0      90.0       60.0    1150.0   \n",
       "4   1.0   883       2   60    1      0.0     100.0       90.0       NaN   \n",
       "\n",
       "   wt.loss  dead  \n",
       "0      NaN   1.0  \n",
       "1     15.0   1.0  \n",
       "2     15.0   0.0  \n",
       "3     11.0   1.0  \n",
       "4      0.0   1.0  "
      ]
     },
     "execution_count": 2,
     "metadata": {},
     "output_type": "execute_result"
    }
   ],
   "source": [
    "#Organize our data:\n",
    "\n",
    "#If status = 1 , then dead = 0\n",
    "#If status = 2 , then dead = 1\n",
    "\n",
    "data.loc[data.status == 1, 'dead'] = 0\n",
    "data.loc[data.status == 2, 'dead'] = 1\n",
    "\n",
    "data.head()"
   ]
  },
  {
   "cell_type": "markdown",
   "id": "ffc91da2",
   "metadata": {},
   "source": [
    "##### Cree dos objetos de Kaplan-Meier-Fitter ():"
   ]
  },
  {
   "cell_type": "code",
   "execution_count": 3,
   "id": "9fe2ddbd",
   "metadata": {},
   "outputs": [],
   "source": [
    "#Create two objects for groups:\n",
    "\n",
    "#kmf_ad for adults data:\n",
    "#kmf_el for elderly data:\n",
    "\n",
    "kmf_ad = KaplanMeierFitter() \n",
    "kmf_el = KaplanMeierFitter() "
   ]
  },
  {
   "cell_type": "markdown",
   "id": "9f6d3c18",
   "metadata": {},
   "source": [
    "##### Dividir los datos en dos grupos"
   ]
  },
  {
   "cell_type": "code",
   "execution_count": 4,
   "id": "a804697c",
   "metadata": {},
   "outputs": [
    {
     "name": "stdout",
     "output_type": "stream",
     "text": [
      "AxesSubplot(0.125,0.125;0.775x0.755)\n"
     ]
    },
    {
     "data": {
      "image/png": "[encoded data removed]",
      "text/plain": [
       "<Figure size 432x288 with 1 Axes>"
      ]
     },
     "metadata": {
      "needs_background": "light"
     },
     "output_type": "display_data"
    }
   ],
   "source": [
    "print(data[\"age\"].hist())"
   ]
  },
  {
   "cell_type": "code",
   "execution_count": 5,
   "id": "4c357835",
   "metadata": {},
   "outputs": [
    {
     "data": {
      "text/html": [
       "<div>\n",
       "<style scoped>\n",
       "    .dataframe tbody tr th:only-of-type {\n",
       "        vertical-align: middle;\n",
       "    }\n",
       "\n",
       "    .dataframe tbody tr th {\n",
       "        vertical-align: top;\n",
       "    }\n",
       "\n",
       "    .dataframe thead th {\n",
       "        text-align: right;\n",
       "    }\n",
       "</style>\n",
       "<table border=\"1\" class=\"dataframe\">\n",
       "  <thead>\n",
       "    <tr style=\"text-align: right;\">\n",
       "      <th></th>\n",
       "      <th>inst</th>\n",
       "      <th>time</th>\n",
       "      <th>status</th>\n",
       "      <th>age</th>\n",
       "      <th>sex</th>\n",
       "      <th>ph.ecog</th>\n",
       "      <th>ph.karno</th>\n",
       "      <th>pat.karno</th>\n",
       "      <th>meal.cal</th>\n",
       "      <th>wt.loss</th>\n",
       "      <th>dead</th>\n",
       "    </tr>\n",
       "  </thead>\n",
       "  <tbody>\n",
       "    <tr>\n",
       "      <th>2</th>\n",
       "      <td>3.0</td>\n",
       "      <td>1010</td>\n",
       "      <td>1</td>\n",
       "      <td>56</td>\n",
       "      <td>1</td>\n",
       "      <td>0.0</td>\n",
       "      <td>90.0</td>\n",
       "      <td>90.0</td>\n",
       "      <td>NaN</td>\n",
       "      <td>15.0</td>\n",
       "      <td>0.0</td>\n",
       "    </tr>\n",
       "    <tr>\n",
       "      <th>3</th>\n",
       "      <td>5.0</td>\n",
       "      <td>210</td>\n",
       "      <td>2</td>\n",
       "      <td>57</td>\n",
       "      <td>1</td>\n",
       "      <td>1.0</td>\n",
       "      <td>90.0</td>\n",
       "      <td>60.0</td>\n",
       "      <td>1150.0</td>\n",
       "      <td>11.0</td>\n",
       "      <td>1.0</td>\n",
       "    </tr>\n",
       "    <tr>\n",
       "      <th>4</th>\n",
       "      <td>1.0</td>\n",
       "      <td>883</td>\n",
       "      <td>2</td>\n",
       "      <td>60</td>\n",
       "      <td>1</td>\n",
       "      <td>0.0</td>\n",
       "      <td>100.0</td>\n",
       "      <td>90.0</td>\n",
       "      <td>NaN</td>\n",
       "      <td>0.0</td>\n",
       "      <td>1.0</td>\n",
       "    </tr>\n",
       "    <tr>\n",
       "      <th>8</th>\n",
       "      <td>1.0</td>\n",
       "      <td>218</td>\n",
       "      <td>2</td>\n",
       "      <td>53</td>\n",
       "      <td>1</td>\n",
       "      <td>1.0</td>\n",
       "      <td>70.0</td>\n",
       "      <td>80.0</td>\n",
       "      <td>825.0</td>\n",
       "      <td>16.0</td>\n",
       "      <td>1.0</td>\n",
       "    </tr>\n",
       "    <tr>\n",
       "      <th>10</th>\n",
       "      <td>6.0</td>\n",
       "      <td>170</td>\n",
       "      <td>2</td>\n",
       "      <td>57</td>\n",
       "      <td>1</td>\n",
       "      <td>1.0</td>\n",
       "      <td>80.0</td>\n",
       "      <td>80.0</td>\n",
       "      <td>1025.0</td>\n",
       "      <td>27.0</td>\n",
       "      <td>1.0</td>\n",
       "    </tr>\n",
       "  </tbody>\n",
       "</table>\n",
       "</div>"
      ],
      "text/plain": [
       "    inst  time  status  age  sex  ph.ecog  ph.karno  pat.karno  meal.cal  \\\n",
       "2    3.0  1010       1   56    1      0.0      90.0       90.0       NaN   \n",
       "3    5.0   210       2   57    1      1.0      90.0       60.0    1150.0   \n",
       "4    1.0   883       2   60    1      0.0     100.0       90.0       NaN   \n",
       "8    1.0   218       2   53    1      1.0      70.0       80.0     825.0   \n",
       "10   6.0   170       2   57    1      1.0      80.0       80.0    1025.0   \n",
       "\n",
       "    wt.loss  dead  \n",
       "2      15.0   0.0  \n",
       "3      11.0   1.0  \n",
       "4       0.0   1.0  \n",
       "8      16.0   1.0  \n",
       "10     27.0   1.0  "
      ]
     },
     "execution_count": 5,
     "metadata": {},
     "output_type": "execute_result"
    }
   ],
   "source": [
    "#Dividing data into groups:\n",
    "\n",
    "adults = data[data[\"age\"]<=60]\n",
    "elderly = data[data[\"age\"] > 60]\n",
    "\n",
    "#View data of Male group:\n",
    "\n",
    "adults.head()"
   ]
  },
  {
   "cell_type": "code",
   "execution_count": 6,
   "id": "fdc8b845",
   "metadata": {},
   "outputs": [
    {
     "data": {
      "text/html": [
       "<div>\n",
       "<style scoped>\n",
       "    .dataframe tbody tr th:only-of-type {\n",
       "        vertical-align: middle;\n",
       "    }\n",
       "\n",
       "    .dataframe tbody tr th {\n",
       "        vertical-align: top;\n",
       "    }\n",
       "\n",
       "    .dataframe thead th {\n",
       "        text-align: right;\n",
       "    }\n",
       "</style>\n",
       "<table border=\"1\" class=\"dataframe\">\n",
       "  <thead>\n",
       "    <tr style=\"text-align: right;\">\n",
       "      <th></th>\n",
       "      <th>inst</th>\n",
       "      <th>time</th>\n",
       "      <th>status</th>\n",
       "      <th>age</th>\n",
       "      <th>sex</th>\n",
       "      <th>ph.ecog</th>\n",
       "      <th>ph.karno</th>\n",
       "      <th>pat.karno</th>\n",
       "      <th>meal.cal</th>\n",
       "      <th>wt.loss</th>\n",
       "      <th>dead</th>\n",
       "    </tr>\n",
       "  </thead>\n",
       "  <tbody>\n",
       "    <tr>\n",
       "      <th>0</th>\n",
       "      <td>3.0</td>\n",
       "      <td>306</td>\n",
       "      <td>2</td>\n",
       "      <td>74</td>\n",
       "      <td>1</td>\n",
       "      <td>1.0</td>\n",
       "      <td>90.0</td>\n",
       "      <td>100.0</td>\n",
       "      <td>1175.0</td>\n",
       "      <td>NaN</td>\n",
       "      <td>1.0</td>\n",
       "    </tr>\n",
       "    <tr>\n",
       "      <th>1</th>\n",
       "      <td>3.0</td>\n",
       "      <td>455</td>\n",
       "      <td>2</td>\n",
       "      <td>68</td>\n",
       "      <td>1</td>\n",
       "      <td>0.0</td>\n",
       "      <td>90.0</td>\n",
       "      <td>90.0</td>\n",
       "      <td>1225.0</td>\n",
       "      <td>15.0</td>\n",
       "      <td>1.0</td>\n",
       "    </tr>\n",
       "    <tr>\n",
       "      <th>5</th>\n",
       "      <td>12.0</td>\n",
       "      <td>1022</td>\n",
       "      <td>1</td>\n",
       "      <td>74</td>\n",
       "      <td>1</td>\n",
       "      <td>1.0</td>\n",
       "      <td>50.0</td>\n",
       "      <td>80.0</td>\n",
       "      <td>513.0</td>\n",
       "      <td>0.0</td>\n",
       "      <td>0.0</td>\n",
       "    </tr>\n",
       "    <tr>\n",
       "      <th>6</th>\n",
       "      <td>7.0</td>\n",
       "      <td>310</td>\n",
       "      <td>2</td>\n",
       "      <td>68</td>\n",
       "      <td>2</td>\n",
       "      <td>2.0</td>\n",
       "      <td>70.0</td>\n",
       "      <td>60.0</td>\n",
       "      <td>384.0</td>\n",
       "      <td>10.0</td>\n",
       "      <td>1.0</td>\n",
       "    </tr>\n",
       "    <tr>\n",
       "      <th>7</th>\n",
       "      <td>11.0</td>\n",
       "      <td>361</td>\n",
       "      <td>2</td>\n",
       "      <td>71</td>\n",
       "      <td>2</td>\n",
       "      <td>2.0</td>\n",
       "      <td>60.0</td>\n",
       "      <td>80.0</td>\n",
       "      <td>538.0</td>\n",
       "      <td>1.0</td>\n",
       "      <td>1.0</td>\n",
       "    </tr>\n",
       "  </tbody>\n",
       "</table>\n",
       "</div>"
      ],
      "text/plain": [
       "   inst  time  status  age  sex  ph.ecog  ph.karno  pat.karno  meal.cal  \\\n",
       "0   3.0   306       2   74    1      1.0      90.0      100.0    1175.0   \n",
       "1   3.0   455       2   68    1      0.0      90.0       90.0    1225.0   \n",
       "5  12.0  1022       1   74    1      1.0      50.0       80.0     513.0   \n",
       "6   7.0   310       2   68    2      2.0      70.0       60.0     384.0   \n",
       "7  11.0   361       2   71    2      2.0      60.0       80.0     538.0   \n",
       "\n",
       "   wt.loss  dead  \n",
       "0      NaN   1.0  \n",
       "1     15.0   1.0  \n",
       "5      0.0   0.0  \n",
       "6     10.0   1.0  \n",
       "7      1.0   1.0  "
      ]
     },
     "execution_count": 6,
     "metadata": {},
     "output_type": "execute_result"
    }
   ],
   "source": [
    "#View data of Female group:\n",
    "\n",
    "elderly.head()"
   ]
  },
  {
   "cell_type": "markdown",
   "id": "c82374b9",
   "metadata": {},
   "source": [
    "#####  Encajar datos en nuestros objetos"
   ]
  },
  {
   "cell_type": "code",
   "execution_count": 7,
   "id": "1430512a",
   "metadata": {},
   "outputs": [
    {
     "data": {
      "text/plain": [
       "<lifelines.KaplanMeierFitter:\"Ancianos\", fitted with 134 total observations, 33 right-censored observations>"
      ]
     },
     "execution_count": 7,
     "metadata": {},
     "output_type": "execute_result"
    }
   ],
   "source": [
    "#Fit data into objects:\n",
    "\n",
    "kmf_ad.fit(durations =  adults[\"time\"],event_observed = adults[\"dead\"] ,label=\"Adultos\")\n",
    "kmf_el.fit(durations =  elderly[\"time\"],event_observed = elderly[\"dead\"], label=\"Ancianos\")"
   ]
  },
  {
   "cell_type": "markdown",
   "id": "e6e8ab74",
   "metadata": {},
   "source": [
    "##### Mesa de eventos para el grupo masculino:"
   ]
  },
  {
   "cell_type": "code",
   "execution_count": 8,
   "id": "6b2ef26a",
   "metadata": {},
   "outputs": [
    {
     "data": {
      "text/html": [
       "<div>\n",
       "<style scoped>\n",
       "    .dataframe tbody tr th:only-of-type {\n",
       "        vertical-align: middle;\n",
       "    }\n",
       "\n",
       "    .dataframe tbody tr th {\n",
       "        vertical-align: top;\n",
       "    }\n",
       "\n",
       "    .dataframe thead th {\n",
       "        text-align: right;\n",
       "    }\n",
       "</style>\n",
       "<table border=\"1\" class=\"dataframe\">\n",
       "  <thead>\n",
       "    <tr style=\"text-align: right;\">\n",
       "      <th></th>\n",
       "      <th>removed</th>\n",
       "      <th>observed</th>\n",
       "      <th>censored</th>\n",
       "      <th>entrance</th>\n",
       "      <th>at_risk</th>\n",
       "    </tr>\n",
       "    <tr>\n",
       "      <th>event_at</th>\n",
       "      <th></th>\n",
       "      <th></th>\n",
       "      <th></th>\n",
       "      <th></th>\n",
       "      <th></th>\n",
       "    </tr>\n",
       "  </thead>\n",
       "  <tbody>\n",
       "    <tr>\n",
       "      <th>0.0</th>\n",
       "      <td>0</td>\n",
       "      <td>0</td>\n",
       "      <td>0</td>\n",
       "      <td>94</td>\n",
       "      <td>94</td>\n",
       "    </tr>\n",
       "    <tr>\n",
       "      <th>61.0</th>\n",
       "      <td>1</td>\n",
       "      <td>1</td>\n",
       "      <td>0</td>\n",
       "      <td>0</td>\n",
       "      <td>94</td>\n",
       "    </tr>\n",
       "    <tr>\n",
       "      <th>71.0</th>\n",
       "      <td>1</td>\n",
       "      <td>1</td>\n",
       "      <td>0</td>\n",
       "      <td>0</td>\n",
       "      <td>93</td>\n",
       "    </tr>\n",
       "    <tr>\n",
       "      <th>81.0</th>\n",
       "      <td>2</td>\n",
       "      <td>2</td>\n",
       "      <td>0</td>\n",
       "      <td>0</td>\n",
       "      <td>92</td>\n",
       "    </tr>\n",
       "    <tr>\n",
       "      <th>88.0</th>\n",
       "      <td>1</td>\n",
       "      <td>1</td>\n",
       "      <td>0</td>\n",
       "      <td>0</td>\n",
       "      <td>90</td>\n",
       "    </tr>\n",
       "    <tr>\n",
       "      <th>...</th>\n",
       "      <td>...</td>\n",
       "      <td>...</td>\n",
       "      <td>...</td>\n",
       "      <td>...</td>\n",
       "      <td>...</td>\n",
       "    </tr>\n",
       "    <tr>\n",
       "      <th>765.0</th>\n",
       "      <td>1</td>\n",
       "      <td>1</td>\n",
       "      <td>0</td>\n",
       "      <td>0</td>\n",
       "      <td>5</td>\n",
       "    </tr>\n",
       "    <tr>\n",
       "      <th>791.0</th>\n",
       "      <td>1</td>\n",
       "      <td>1</td>\n",
       "      <td>0</td>\n",
       "      <td>0</td>\n",
       "      <td>4</td>\n",
       "    </tr>\n",
       "    <tr>\n",
       "      <th>806.0</th>\n",
       "      <td>1</td>\n",
       "      <td>0</td>\n",
       "      <td>1</td>\n",
       "      <td>0</td>\n",
       "      <td>3</td>\n",
       "    </tr>\n",
       "    <tr>\n",
       "      <th>883.0</th>\n",
       "      <td>1</td>\n",
       "      <td>1</td>\n",
       "      <td>0</td>\n",
       "      <td>0</td>\n",
       "      <td>2</td>\n",
       "    </tr>\n",
       "    <tr>\n",
       "      <th>1010.0</th>\n",
       "      <td>1</td>\n",
       "      <td>0</td>\n",
       "      <td>1</td>\n",
       "      <td>0</td>\n",
       "      <td>1</td>\n",
       "    </tr>\n",
       "  </tbody>\n",
       "</table>\n",
       "<p>89 rows × 5 columns</p>\n",
       "</div>"
      ],
      "text/plain": [
       "          removed  observed  censored  entrance  at_risk\n",
       "event_at                                                \n",
       "0.0             0         0         0        94       94\n",
       "61.0            1         1         0         0       94\n",
       "71.0            1         1         0         0       93\n",
       "81.0            2         2         0         0       92\n",
       "88.0            1         1         0         0       90\n",
       "...           ...       ...       ...       ...      ...\n",
       "765.0           1         1         0         0        5\n",
       "791.0           1         1         0         0        4\n",
       "806.0           1         0         1         0        3\n",
       "883.0           1         1         0         0        2\n",
       "1010.0          1         0         1         0        1\n",
       "\n",
       "[89 rows x 5 columns]"
      ]
     },
     "execution_count": 8,
     "metadata": {},
     "output_type": "execute_result"
    }
   ],
   "source": [
    "#Event table for male group:\n",
    "\n",
    "kmf_ad.event_table"
   ]
  },
  {
   "cell_type": "code",
   "execution_count": 9,
   "id": "316812a4",
   "metadata": {},
   "outputs": [
    {
     "data": {
      "text/html": [
       "<div>\n",
       "<style scoped>\n",
       "    .dataframe tbody tr th:only-of-type {\n",
       "        vertical-align: middle;\n",
       "    }\n",
       "\n",
       "    .dataframe tbody tr th {\n",
       "        vertical-align: top;\n",
       "    }\n",
       "\n",
       "    .dataframe thead th {\n",
       "        text-align: right;\n",
       "    }\n",
       "</style>\n",
       "<table border=\"1\" class=\"dataframe\">\n",
       "  <thead>\n",
       "    <tr style=\"text-align: right;\">\n",
       "      <th></th>\n",
       "      <th>removed</th>\n",
       "      <th>observed</th>\n",
       "      <th>censored</th>\n",
       "      <th>entrance</th>\n",
       "      <th>at_risk</th>\n",
       "    </tr>\n",
       "    <tr>\n",
       "      <th>event_at</th>\n",
       "      <th></th>\n",
       "      <th></th>\n",
       "      <th></th>\n",
       "      <th></th>\n",
       "      <th></th>\n",
       "    </tr>\n",
       "  </thead>\n",
       "  <tbody>\n",
       "    <tr>\n",
       "      <th>0.0</th>\n",
       "      <td>0</td>\n",
       "      <td>0</td>\n",
       "      <td>0</td>\n",
       "      <td>134</td>\n",
       "      <td>134</td>\n",
       "    </tr>\n",
       "    <tr>\n",
       "      <th>5.0</th>\n",
       "      <td>1</td>\n",
       "      <td>1</td>\n",
       "      <td>0</td>\n",
       "      <td>0</td>\n",
       "      <td>134</td>\n",
       "    </tr>\n",
       "    <tr>\n",
       "      <th>11.0</th>\n",
       "      <td>3</td>\n",
       "      <td>3</td>\n",
       "      <td>0</td>\n",
       "      <td>0</td>\n",
       "      <td>133</td>\n",
       "    </tr>\n",
       "    <tr>\n",
       "      <th>12.0</th>\n",
       "      <td>1</td>\n",
       "      <td>1</td>\n",
       "      <td>0</td>\n",
       "      <td>0</td>\n",
       "      <td>130</td>\n",
       "    </tr>\n",
       "    <tr>\n",
       "      <th>13.0</th>\n",
       "      <td>2</td>\n",
       "      <td>2</td>\n",
       "      <td>0</td>\n",
       "      <td>0</td>\n",
       "      <td>129</td>\n",
       "    </tr>\n",
       "    <tr>\n",
       "      <th>...</th>\n",
       "      <td>...</td>\n",
       "      <td>...</td>\n",
       "      <td>...</td>\n",
       "      <td>...</td>\n",
       "      <td>...</td>\n",
       "    </tr>\n",
       "    <tr>\n",
       "      <th>814.0</th>\n",
       "      <td>1</td>\n",
       "      <td>1</td>\n",
       "      <td>0</td>\n",
       "      <td>0</td>\n",
       "      <td>5</td>\n",
       "    </tr>\n",
       "    <tr>\n",
       "      <th>821.0</th>\n",
       "      <td>1</td>\n",
       "      <td>0</td>\n",
       "      <td>1</td>\n",
       "      <td>0</td>\n",
       "      <td>4</td>\n",
       "    </tr>\n",
       "    <tr>\n",
       "      <th>840.0</th>\n",
       "      <td>1</td>\n",
       "      <td>0</td>\n",
       "      <td>1</td>\n",
       "      <td>0</td>\n",
       "      <td>3</td>\n",
       "    </tr>\n",
       "    <tr>\n",
       "      <th>965.0</th>\n",
       "      <td>1</td>\n",
       "      <td>0</td>\n",
       "      <td>1</td>\n",
       "      <td>0</td>\n",
       "      <td>2</td>\n",
       "    </tr>\n",
       "    <tr>\n",
       "      <th>1022.0</th>\n",
       "      <td>1</td>\n",
       "      <td>0</td>\n",
       "      <td>1</td>\n",
       "      <td>0</td>\n",
       "      <td>1</td>\n",
       "    </tr>\n",
       "  </tbody>\n",
       "</table>\n",
       "<p>118 rows × 5 columns</p>\n",
       "</div>"
      ],
      "text/plain": [
       "          removed  observed  censored  entrance  at_risk\n",
       "event_at                                                \n",
       "0.0             0         0         0       134      134\n",
       "5.0             1         1         0         0      134\n",
       "11.0            3         3         0         0      133\n",
       "12.0            1         1         0         0      130\n",
       "13.0            2         2         0         0      129\n",
       "...           ...       ...       ...       ...      ...\n",
       "814.0           1         1         0         0        5\n",
       "821.0           1         0         1         0        4\n",
       "840.0           1         0         1         0        3\n",
       "965.0           1         0         1         0        2\n",
       "1022.0          1         0         1         0        1\n",
       "\n",
       "[118 rows x 5 columns]"
      ]
     },
     "execution_count": 9,
     "metadata": {},
     "output_type": "execute_result"
    }
   ],
   "source": [
    "#Event table for female group:\n",
    "\n",
    "kmf_el.event_table"
   ]
  },
  {
   "cell_type": "markdown",
   "id": "8d49fb4b",
   "metadata": {},
   "source": [
    "##### Predecir probabilidades de supervivencia:\n",
    "\n",
    "Ahora podemos predecir la probabilidad de supervivencia de ambos grupos."
   ]
  },
  {
   "cell_type": "code",
   "execution_count": 10,
   "id": "66a75140",
   "metadata": {},
   "outputs": [
    {
     "data": {
      "text/plain": [
       "0.08839202994149213"
      ]
     },
     "execution_count": 10,
     "metadata": {},
     "output_type": "execute_result"
    }
   ],
   "source": [
    "kmf_ad.predict(814)"
   ]
  },
  {
   "cell_type": "code",
   "execution_count": 11,
   "id": "bf424ab1",
   "metadata": {},
   "outputs": [
    {
     "data": {
      "text/plain": [
       "0.05462347688124835"
      ]
     },
     "execution_count": 11,
     "metadata": {},
     "output_type": "execute_result"
    }
   ],
   "source": [
    "kmf_el.predict(814)"
   ]
  },
  {
   "cell_type": "markdown",
   "id": "01277155",
   "metadata": {},
   "source": [
    "##### Obtenga la lista completa de probabilidades de supervivencia:\n",
    "\n",
    "##### a) Probabilidad de supervivencia para un grupo de hombres:"
   ]
  },
  {
   "cell_type": "code",
   "execution_count": 12,
   "id": "e0bdf3e8",
   "metadata": {},
   "outputs": [
    {
     "data": {
      "text/html": [
       "<div>\n",
       "<style scoped>\n",
       "    .dataframe tbody tr th:only-of-type {\n",
       "        vertical-align: middle;\n",
       "    }\n",
       "\n",
       "    .dataframe tbody tr th {\n",
       "        vertical-align: top;\n",
       "    }\n",
       "\n",
       "    .dataframe thead th {\n",
       "        text-align: right;\n",
       "    }\n",
       "</style>\n",
       "<table border=\"1\" class=\"dataframe\">\n",
       "  <thead>\n",
       "    <tr style=\"text-align: right;\">\n",
       "      <th></th>\n",
       "      <th>Adultos</th>\n",
       "    </tr>\n",
       "    <tr>\n",
       "      <th>timeline</th>\n",
       "      <th></th>\n",
       "    </tr>\n",
       "  </thead>\n",
       "  <tbody>\n",
       "    <tr>\n",
       "      <th>0.0</th>\n",
       "      <td>1.000000</td>\n",
       "    </tr>\n",
       "    <tr>\n",
       "      <th>61.0</th>\n",
       "      <td>0.989362</td>\n",
       "    </tr>\n",
       "    <tr>\n",
       "      <th>71.0</th>\n",
       "      <td>0.978723</td>\n",
       "    </tr>\n",
       "    <tr>\n",
       "      <th>81.0</th>\n",
       "      <td>0.957447</td>\n",
       "    </tr>\n",
       "    <tr>\n",
       "      <th>88.0</th>\n",
       "      <td>0.946809</td>\n",
       "    </tr>\n",
       "    <tr>\n",
       "      <th>...</th>\n",
       "      <td>...</td>\n",
       "    </tr>\n",
       "    <tr>\n",
       "      <th>765.0</th>\n",
       "      <td>0.117856</td>\n",
       "    </tr>\n",
       "    <tr>\n",
       "      <th>791.0</th>\n",
       "      <td>0.088392</td>\n",
       "    </tr>\n",
       "    <tr>\n",
       "      <th>806.0</th>\n",
       "      <td>0.088392</td>\n",
       "    </tr>\n",
       "    <tr>\n",
       "      <th>883.0</th>\n",
       "      <td>0.044196</td>\n",
       "    </tr>\n",
       "    <tr>\n",
       "      <th>1010.0</th>\n",
       "      <td>0.044196</td>\n",
       "    </tr>\n",
       "  </tbody>\n",
       "</table>\n",
       "<p>89 rows × 1 columns</p>\n",
       "</div>"
      ],
      "text/plain": [
       "           Adultos\n",
       "timeline          \n",
       "0.0       1.000000\n",
       "61.0      0.989362\n",
       "71.0      0.978723\n",
       "81.0      0.957447\n",
       "88.0      0.946809\n",
       "...            ...\n",
       "765.0     0.117856\n",
       "791.0     0.088392\n",
       "806.0     0.088392\n",
       "883.0     0.044196\n",
       "1010.0    0.044196\n",
       "\n",
       "[89 rows x 1 columns]"
      ]
     },
     "execution_count": 12,
     "metadata": {},
     "output_type": "execute_result"
    }
   ],
   "source": [
    "kmf_ad.survival_function_"
   ]
  },
  {
   "cell_type": "markdown",
   "id": "56d903e6",
   "metadata": {},
   "source": [
    "##### Probabilidad de supervivencia para el grupo de mujeres:"
   ]
  },
  {
   "cell_type": "code",
   "execution_count": 13,
   "id": "99bac5f6",
   "metadata": {},
   "outputs": [
    {
     "data": {
      "text/html": [
       "<div>\n",
       "<style scoped>\n",
       "    .dataframe tbody tr th:only-of-type {\n",
       "        vertical-align: middle;\n",
       "    }\n",
       "\n",
       "    .dataframe tbody tr th {\n",
       "        vertical-align: top;\n",
       "    }\n",
       "\n",
       "    .dataframe thead th {\n",
       "        text-align: right;\n",
       "    }\n",
       "</style>\n",
       "<table border=\"1\" class=\"dataframe\">\n",
       "  <thead>\n",
       "    <tr style=\"text-align: right;\">\n",
       "      <th></th>\n",
       "      <th>Ancianos</th>\n",
       "    </tr>\n",
       "    <tr>\n",
       "      <th>timeline</th>\n",
       "      <th></th>\n",
       "    </tr>\n",
       "  </thead>\n",
       "  <tbody>\n",
       "    <tr>\n",
       "      <th>0.0</th>\n",
       "      <td>1.000000</td>\n",
       "    </tr>\n",
       "    <tr>\n",
       "      <th>5.0</th>\n",
       "      <td>0.992537</td>\n",
       "    </tr>\n",
       "    <tr>\n",
       "      <th>11.0</th>\n",
       "      <td>0.970149</td>\n",
       "    </tr>\n",
       "    <tr>\n",
       "      <th>12.0</th>\n",
       "      <td>0.962687</td>\n",
       "    </tr>\n",
       "    <tr>\n",
       "      <th>13.0</th>\n",
       "      <td>0.947761</td>\n",
       "    </tr>\n",
       "    <tr>\n",
       "      <th>...</th>\n",
       "      <td>...</td>\n",
       "    </tr>\n",
       "    <tr>\n",
       "      <th>814.0</th>\n",
       "      <td>0.054623</td>\n",
       "    </tr>\n",
       "    <tr>\n",
       "      <th>821.0</th>\n",
       "      <td>0.054623</td>\n",
       "    </tr>\n",
       "    <tr>\n",
       "      <th>840.0</th>\n",
       "      <td>0.054623</td>\n",
       "    </tr>\n",
       "    <tr>\n",
       "      <th>965.0</th>\n",
       "      <td>0.054623</td>\n",
       "    </tr>\n",
       "    <tr>\n",
       "      <th>1022.0</th>\n",
       "      <td>0.054623</td>\n",
       "    </tr>\n",
       "  </tbody>\n",
       "</table>\n",
       "<p>118 rows × 1 columns</p>\n",
       "</div>"
      ],
      "text/plain": [
       "          Ancianos\n",
       "timeline          \n",
       "0.0       1.000000\n",
       "5.0       0.992537\n",
       "11.0      0.970149\n",
       "12.0      0.962687\n",
       "13.0      0.947761\n",
       "...            ...\n",
       "814.0     0.054623\n",
       "821.0     0.054623\n",
       "840.0     0.054623\n",
       "965.0     0.054623\n",
       "1022.0    0.054623\n",
       "\n",
       "[118 rows x 1 columns]"
      ]
     },
     "execution_count": 13,
     "metadata": {},
     "output_type": "execute_result"
    }
   ],
   "source": [
    "kmf_el.survival_function_"
   ]
  },
  {
   "cell_type": "markdown",
   "id": "488d2b40",
   "metadata": {},
   "source": [
    "##### Trace la gráfica de probabilidades de supervivencia:"
   ]
  },
  {
   "cell_type": "code",
   "execution_count": 14,
   "id": "3b26bdb2",
   "metadata": {},
   "outputs": [
    {
     "data": {
      "text/plain": [
       "Text(0.5, 1.0, 'KMF')"
      ]
     },
     "execution_count": 14,
     "metadata": {},
     "output_type": "execute_result"
    },
    {
     "data": {
      "image/png": "[encoded data removed]",
      "text/plain": [
       "<Figure size 432x288 with 1 Axes>"
      ]
     },
     "metadata": {
      "needs_background": "light"
     },
     "output_type": "display_data"
    }
   ],
   "source": [
    "#Plot the survival_function data:\n",
    "\n",
    "kmf_ad.plot()\n",
    "kmf_el.plot()\n",
    "\n",
    "plt.xlabel(\"Días\")\n",
    "plt.ylabel(\"Probabilidad de Supervivencia\")\n",
    "plt.title(\"KMF\")"
   ]
  },
  {
   "cell_type": "markdown",
   "id": "e569e61d",
   "metadata": {},
   "source": [
    "Aquí podemos notar que la probabilidad de que los adultos sobrevivan al cáncer de pulmón es mayor que la de los ancianos. Sin embargo, la diferencia no es del todo significativa, ya que ambos grupos tienen valores aproximados. \n",
    "\n",
    "Sin embargo, a partir de estos datos, se podría decir que los investigadores médicos podrían centrarse más en los factores que conducen a las bajas tasas de supervivencia de los pacientes ancianos. Aunque en este caso la edad no es un factor de mucho relevancia."
   ]
  },
  {
   "cell_type": "markdown",
   "id": "5e5fef0e",
   "metadata": {},
   "source": [
    "##### Obtenga la densidad acumulativa:\n",
    "\n",
    "a) Para el grupo adulto:"
   ]
  },
  {
   "cell_type": "code",
   "execution_count": 15,
   "id": "c62fa891",
   "metadata": {},
   "outputs": [
    {
     "data": {
      "text/html": [
       "<div>\n",
       "<style scoped>\n",
       "    .dataframe tbody tr th:only-of-type {\n",
       "        vertical-align: middle;\n",
       "    }\n",
       "\n",
       "    .dataframe tbody tr th {\n",
       "        vertical-align: top;\n",
       "    }\n",
       "\n",
       "    .dataframe thead th {\n",
       "        text-align: right;\n",
       "    }\n",
       "</style>\n",
       "<table border=\"1\" class=\"dataframe\">\n",
       "  <thead>\n",
       "    <tr style=\"text-align: right;\">\n",
       "      <th></th>\n",
       "      <th>Adultos</th>\n",
       "    </tr>\n",
       "    <tr>\n",
       "      <th>timeline</th>\n",
       "      <th></th>\n",
       "    </tr>\n",
       "  </thead>\n",
       "  <tbody>\n",
       "    <tr>\n",
       "      <th>0.0</th>\n",
       "      <td>0.000000</td>\n",
       "    </tr>\n",
       "    <tr>\n",
       "      <th>61.0</th>\n",
       "      <td>0.010638</td>\n",
       "    </tr>\n",
       "    <tr>\n",
       "      <th>71.0</th>\n",
       "      <td>0.021277</td>\n",
       "    </tr>\n",
       "    <tr>\n",
       "      <th>81.0</th>\n",
       "      <td>0.042553</td>\n",
       "    </tr>\n",
       "    <tr>\n",
       "      <th>88.0</th>\n",
       "      <td>0.053191</td>\n",
       "    </tr>\n",
       "    <tr>\n",
       "      <th>...</th>\n",
       "      <td>...</td>\n",
       "    </tr>\n",
       "    <tr>\n",
       "      <th>765.0</th>\n",
       "      <td>0.882144</td>\n",
       "    </tr>\n",
       "    <tr>\n",
       "      <th>791.0</th>\n",
       "      <td>0.911608</td>\n",
       "    </tr>\n",
       "    <tr>\n",
       "      <th>806.0</th>\n",
       "      <td>0.911608</td>\n",
       "    </tr>\n",
       "    <tr>\n",
       "      <th>883.0</th>\n",
       "      <td>0.955804</td>\n",
       "    </tr>\n",
       "    <tr>\n",
       "      <th>1010.0</th>\n",
       "      <td>0.955804</td>\n",
       "    </tr>\n",
       "  </tbody>\n",
       "</table>\n",
       "<p>89 rows × 1 columns</p>\n",
       "</div>"
      ],
      "text/plain": [
       "           Adultos\n",
       "timeline          \n",
       "0.0       0.000000\n",
       "61.0      0.010638\n",
       "71.0      0.021277\n",
       "81.0      0.042553\n",
       "88.0      0.053191\n",
       "...            ...\n",
       "765.0     0.882144\n",
       "791.0     0.911608\n",
       "806.0     0.911608\n",
       "883.0     0.955804\n",
       "1010.0    0.955804\n",
       "\n",
       "[89 rows x 1 columns]"
      ]
     },
     "execution_count": 15,
     "metadata": {},
     "output_type": "execute_result"
    }
   ],
   "source": [
    "kmf_ad.cumulative_density_"
   ]
  },
  {
   "cell_type": "markdown",
   "id": "0ae745bb",
   "metadata": {},
   "source": [
    "b) Para el grupo anciano:"
   ]
  },
  {
   "cell_type": "code",
   "execution_count": 16,
   "id": "3e131ae3",
   "metadata": {},
   "outputs": [
    {
     "data": {
      "text/html": [
       "<div>\n",
       "<style scoped>\n",
       "    .dataframe tbody tr th:only-of-type {\n",
       "        vertical-align: middle;\n",
       "    }\n",
       "\n",
       "    .dataframe tbody tr th {\n",
       "        vertical-align: top;\n",
       "    }\n",
       "\n",
       "    .dataframe thead th {\n",
       "        text-align: right;\n",
       "    }\n",
       "</style>\n",
       "<table border=\"1\" class=\"dataframe\">\n",
       "  <thead>\n",
       "    <tr style=\"text-align: right;\">\n",
       "      <th></th>\n",
       "      <th>Ancianos</th>\n",
       "    </tr>\n",
       "    <tr>\n",
       "      <th>timeline</th>\n",
       "      <th></th>\n",
       "    </tr>\n",
       "  </thead>\n",
       "  <tbody>\n",
       "    <tr>\n",
       "      <th>0.0</th>\n",
       "      <td>0.000000</td>\n",
       "    </tr>\n",
       "    <tr>\n",
       "      <th>5.0</th>\n",
       "      <td>0.007463</td>\n",
       "    </tr>\n",
       "    <tr>\n",
       "      <th>11.0</th>\n",
       "      <td>0.029851</td>\n",
       "    </tr>\n",
       "    <tr>\n",
       "      <th>12.0</th>\n",
       "      <td>0.037313</td>\n",
       "    </tr>\n",
       "    <tr>\n",
       "      <th>13.0</th>\n",
       "      <td>0.052239</td>\n",
       "    </tr>\n",
       "    <tr>\n",
       "      <th>...</th>\n",
       "      <td>...</td>\n",
       "    </tr>\n",
       "    <tr>\n",
       "      <th>814.0</th>\n",
       "      <td>0.945377</td>\n",
       "    </tr>\n",
       "    <tr>\n",
       "      <th>821.0</th>\n",
       "      <td>0.945377</td>\n",
       "    </tr>\n",
       "    <tr>\n",
       "      <th>840.0</th>\n",
       "      <td>0.945377</td>\n",
       "    </tr>\n",
       "    <tr>\n",
       "      <th>965.0</th>\n",
       "      <td>0.945377</td>\n",
       "    </tr>\n",
       "    <tr>\n",
       "      <th>1022.0</th>\n",
       "      <td>0.945377</td>\n",
       "    </tr>\n",
       "  </tbody>\n",
       "</table>\n",
       "<p>118 rows × 1 columns</p>\n",
       "</div>"
      ],
      "text/plain": [
       "          Ancianos\n",
       "timeline          \n",
       "0.0       0.000000\n",
       "5.0       0.007463\n",
       "11.0      0.029851\n",
       "12.0      0.037313\n",
       "13.0      0.052239\n",
       "...            ...\n",
       "814.0     0.945377\n",
       "821.0     0.945377\n",
       "840.0     0.945377\n",
       "965.0     0.945377\n",
       "1022.0    0.945377\n",
       "\n",
       "[118 rows x 1 columns]"
      ]
     },
     "execution_count": 16,
     "metadata": {},
     "output_type": "execute_result"
    }
   ],
   "source": [
    "kmf_el.cumulative_density_"
   ]
  },
  {
   "cell_type": "markdown",
   "id": "204d0d70",
   "metadata": {},
   "source": [
    "##### Trace el gráfico de densidad acumulada:"
   ]
  },
  {
   "cell_type": "code",
   "execution_count": 17,
   "id": "cf9d07cc",
   "metadata": {},
   "outputs": [
    {
     "data": {
      "text/plain": [
       "Text(0, 0.5, 'Probabilidad')"
      ]
     },
     "execution_count": 17,
     "metadata": {},
     "output_type": "execute_result"
    },
    {
     "data": {
      "image/png": "[encoded data removed]",
      "text/plain": [
       "<Figure size 432x288 with 1 Axes>"
      ]
     },
     "metadata": {
      "needs_background": "light"
     },
     "output_type": "display_data"
    }
   ],
   "source": [
    "#PLot the graph for cumulative density for both groups:\n",
    "\n",
    "kmf_ad.plot_cumulative_density()\n",
    "kmf_el.plot_cumulative_density()\n",
    "plt.title(\"Densidad acumulad\")\n",
    "plt.xlabel(\"Numero de días\")\n",
    "plt.ylabel(\"Probabilidad\")"
   ]
  },
  {
   "cell_type": "markdown",
   "id": "ca5c76f0",
   "metadata": {},
   "source": [
    "##### Función de peligro"
   ]
  },
  {
   "cell_type": "code",
   "execution_count": 18,
   "id": "0e9784df",
   "metadata": {},
   "outputs": [],
   "source": [
    "from lifelines import NelsonAalenFitter"
   ]
  },
  {
   "cell_type": "markdown",
   "id": "bb288b30",
   "metadata": {},
   "source": [
    "Encaja los datos en nuestros objetos:"
   ]
  },
  {
   "cell_type": "code",
   "execution_count": 19,
   "id": "889d215f",
   "metadata": {},
   "outputs": [
    {
     "data": {
      "text/plain": [
       "<lifelines.NelsonAalenFitter:\"NA_estimate\", fitted with 134 total observations, 33 right-censored observations>"
      ]
     },
     "execution_count": 19,
     "metadata": {},
     "output_type": "execute_result"
    }
   ],
   "source": [
    "naf_ad = NelsonAalenFitter()\n",
    "naf_el = NelsonAalenFitter()\n",
    "\n",
    "naf_ad.fit(adults[\"time\"],event_observed = adults[\"dead\"])\n",
    "naf_el.fit(elderly[\"time\"],event_observed = elderly[\"dead\"])"
   ]
  },
  {
   "cell_type": "markdown",
   "id": "cc9e8375",
   "metadata": {},
   "source": [
    "##### Probabilidad de peligro acumulada para ambos grupos"
   ]
  },
  {
   "cell_type": "code",
   "execution_count": 20,
   "id": "2d563497",
   "metadata": {},
   "outputs": [
    {
     "data": {
      "text/html": [
       "<div>\n",
       "<style scoped>\n",
       "    .dataframe tbody tr th:only-of-type {\n",
       "        vertical-align: middle;\n",
       "    }\n",
       "\n",
       "    .dataframe tbody tr th {\n",
       "        vertical-align: top;\n",
       "    }\n",
       "\n",
       "    .dataframe thead th {\n",
       "        text-align: right;\n",
       "    }\n",
       "</style>\n",
       "<table border=\"1\" class=\"dataframe\">\n",
       "  <thead>\n",
       "    <tr style=\"text-align: right;\">\n",
       "      <th></th>\n",
       "      <th>NA_estimate</th>\n",
       "    </tr>\n",
       "    <tr>\n",
       "      <th>timeline</th>\n",
       "      <th></th>\n",
       "    </tr>\n",
       "  </thead>\n",
       "  <tbody>\n",
       "    <tr>\n",
       "      <th>0.0</th>\n",
       "      <td>0.000000</td>\n",
       "    </tr>\n",
       "    <tr>\n",
       "      <th>61.0</th>\n",
       "      <td>0.010638</td>\n",
       "    </tr>\n",
       "    <tr>\n",
       "      <th>71.0</th>\n",
       "      <td>0.021391</td>\n",
       "    </tr>\n",
       "    <tr>\n",
       "      <th>81.0</th>\n",
       "      <td>0.043250</td>\n",
       "    </tr>\n",
       "    <tr>\n",
       "      <th>88.0</th>\n",
       "      <td>0.054361</td>\n",
       "    </tr>\n",
       "    <tr>\n",
       "      <th>...</th>\n",
       "      <td>...</td>\n",
       "    </tr>\n",
       "    <tr>\n",
       "      <th>765.0</th>\n",
       "      <td>2.056972</td>\n",
       "    </tr>\n",
       "    <tr>\n",
       "      <th>791.0</th>\n",
       "      <td>2.306972</td>\n",
       "    </tr>\n",
       "    <tr>\n",
       "      <th>806.0</th>\n",
       "      <td>2.306972</td>\n",
       "    </tr>\n",
       "    <tr>\n",
       "      <th>883.0</th>\n",
       "      <td>2.806972</td>\n",
       "    </tr>\n",
       "    <tr>\n",
       "      <th>1010.0</th>\n",
       "      <td>2.806972</td>\n",
       "    </tr>\n",
       "  </tbody>\n",
       "</table>\n",
       "<p>89 rows × 1 columns</p>\n",
       "</div>"
      ],
      "text/plain": [
       "          NA_estimate\n",
       "timeline             \n",
       "0.0          0.000000\n",
       "61.0         0.010638\n",
       "71.0         0.021391\n",
       "81.0         0.043250\n",
       "88.0         0.054361\n",
       "...               ...\n",
       "765.0        2.056972\n",
       "791.0        2.306972\n",
       "806.0        2.306972\n",
       "883.0        2.806972\n",
       "1010.0       2.806972\n",
       "\n",
       "[89 rows x 1 columns]"
      ]
     },
     "execution_count": 20,
     "metadata": {},
     "output_type": "execute_result"
    }
   ],
   "source": [
    "naf_ad.cumulative_hazard_"
   ]
  },
  {
   "cell_type": "code",
   "execution_count": 21,
   "id": "8a219aa4",
   "metadata": {},
   "outputs": [
    {
     "data": {
      "text/html": [
       "<div>\n",
       "<style scoped>\n",
       "    .dataframe tbody tr th:only-of-type {\n",
       "        vertical-align: middle;\n",
       "    }\n",
       "\n",
       "    .dataframe tbody tr th {\n",
       "        vertical-align: top;\n",
       "    }\n",
       "\n",
       "    .dataframe thead th {\n",
       "        text-align: right;\n",
       "    }\n",
       "</style>\n",
       "<table border=\"1\" class=\"dataframe\">\n",
       "  <thead>\n",
       "    <tr style=\"text-align: right;\">\n",
       "      <th></th>\n",
       "      <th>NA_estimate</th>\n",
       "    </tr>\n",
       "    <tr>\n",
       "      <th>timeline</th>\n",
       "      <th></th>\n",
       "    </tr>\n",
       "  </thead>\n",
       "  <tbody>\n",
       "    <tr>\n",
       "      <th>0.0</th>\n",
       "      <td>0.000000</td>\n",
       "    </tr>\n",
       "    <tr>\n",
       "      <th>5.0</th>\n",
       "      <td>0.007463</td>\n",
       "    </tr>\n",
       "    <tr>\n",
       "      <th>11.0</th>\n",
       "      <td>0.030191</td>\n",
       "    </tr>\n",
       "    <tr>\n",
       "      <th>12.0</th>\n",
       "      <td>0.037883</td>\n",
       "    </tr>\n",
       "    <tr>\n",
       "      <th>13.0</th>\n",
       "      <td>0.053448</td>\n",
       "    </tr>\n",
       "    <tr>\n",
       "      <th>...</th>\n",
       "      <td>...</td>\n",
       "    </tr>\n",
       "    <tr>\n",
       "      <th>814.0</th>\n",
       "      <td>2.800169</td>\n",
       "    </tr>\n",
       "    <tr>\n",
       "      <th>821.0</th>\n",
       "      <td>2.800169</td>\n",
       "    </tr>\n",
       "    <tr>\n",
       "      <th>840.0</th>\n",
       "      <td>2.800169</td>\n",
       "    </tr>\n",
       "    <tr>\n",
       "      <th>965.0</th>\n",
       "      <td>2.800169</td>\n",
       "    </tr>\n",
       "    <tr>\n",
       "      <th>1022.0</th>\n",
       "      <td>2.800169</td>\n",
       "    </tr>\n",
       "  </tbody>\n",
       "</table>\n",
       "<p>118 rows × 1 columns</p>\n",
       "</div>"
      ],
      "text/plain": [
       "          NA_estimate\n",
       "timeline             \n",
       "0.0          0.000000\n",
       "5.0          0.007463\n",
       "11.0         0.030191\n",
       "12.0         0.037883\n",
       "13.0         0.053448\n",
       "...               ...\n",
       "814.0        2.800169\n",
       "821.0        2.800169\n",
       "840.0        2.800169\n",
       "965.0        2.800169\n",
       "1022.0       2.800169\n",
       "\n",
       "[118 rows x 1 columns]"
      ]
     },
     "execution_count": 21,
     "metadata": {},
     "output_type": "execute_result"
    }
   ],
   "source": [
    "naf_el.cumulative_hazard_"
   ]
  },
  {
   "cell_type": "markdown",
   "id": "5d084c42",
   "metadata": {},
   "source": [
    "##### Trace el gráfico para la probabilidad de peligro acumulada:"
   ]
  },
  {
   "cell_type": "code",
   "execution_count": 22,
   "id": "761d4fef",
   "metadata": {},
   "outputs": [
    {
     "data": {
      "text/plain": [
       "Text(0, 0.5, 'Cumulative Hazard')"
      ]
     },
     "execution_count": 22,
     "metadata": {},
     "output_type": "execute_result"
    },
    {
     "data": {
      "image/png": "[encoded data removed]",
      "text/plain": [
       "<Figure size 432x288 with 1 Axes>"
      ]
     },
     "metadata": {
      "needs_background": "light"
     },
     "output_type": "display_data"
    }
   ],
   "source": [
    "naf_ad.plot_cumulative_hazard(label=\"Adultos\")\n",
    "naf_el.plot_cumulative_hazard(label=\"Ancianos\")\n",
    "plt.title(\"Cumulative Hazard Plot\")\n",
    "plt.xlabel(\"Number of Days\")\n",
    "plt.ylabel(\"Cumulative Hazard\")"
   ]
  },
  {
   "cell_type": "markdown",
   "id": "ab07af20",
   "metadata": {},
   "source": [
    "##### El tiempo medio hasta el evento para ambos grupos"
   ]
  },
  {
   "cell_type": "code",
   "execution_count": 25,
   "id": "01e9659d",
   "metadata": {},
   "outputs": [
    {
     "data": {
      "text/html": [
       "<div>\n",
       "<style scoped>\n",
       "    .dataframe tbody tr th:only-of-type {\n",
       "        vertical-align: middle;\n",
       "    }\n",
       "\n",
       "    .dataframe tbody tr th {\n",
       "        vertical-align: top;\n",
       "    }\n",
       "\n",
       "    .dataframe thead th {\n",
       "        text-align: right;\n",
       "    }\n",
       "</style>\n",
       "<table border=\"1\" class=\"dataframe\">\n",
       "  <thead>\n",
       "    <tr style=\"text-align: right;\">\n",
       "      <th></th>\n",
       "      <th>Adultos - Conditional median duration remaining to event</th>\n",
       "    </tr>\n",
       "    <tr>\n",
       "      <th>timeline</th>\n",
       "      <th></th>\n",
       "    </tr>\n",
       "  </thead>\n",
       "  <tbody>\n",
       "    <tr>\n",
       "      <th>0.0</th>\n",
       "      <td>348.0</td>\n",
       "    </tr>\n",
       "    <tr>\n",
       "      <th>61.0</th>\n",
       "      <td>292.0</td>\n",
       "    </tr>\n",
       "    <tr>\n",
       "      <th>71.0</th>\n",
       "      <td>282.0</td>\n",
       "    </tr>\n",
       "    <tr>\n",
       "      <th>81.0</th>\n",
       "      <td>282.0</td>\n",
       "    </tr>\n",
       "    <tr>\n",
       "      <th>88.0</th>\n",
       "      <td>275.0</td>\n",
       "    </tr>\n",
       "    <tr>\n",
       "      <th>...</th>\n",
       "      <td>...</td>\n",
       "    </tr>\n",
       "    <tr>\n",
       "      <th>765.0</th>\n",
       "      <td>118.0</td>\n",
       "    </tr>\n",
       "    <tr>\n",
       "      <th>791.0</th>\n",
       "      <td>92.0</td>\n",
       "    </tr>\n",
       "    <tr>\n",
       "      <th>806.0</th>\n",
       "      <td>77.0</td>\n",
       "    </tr>\n",
       "    <tr>\n",
       "      <th>883.0</th>\n",
       "      <td>inf</td>\n",
       "    </tr>\n",
       "    <tr>\n",
       "      <th>1010.0</th>\n",
       "      <td>inf</td>\n",
       "    </tr>\n",
       "  </tbody>\n",
       "</table>\n",
       "<p>89 rows × 1 columns</p>\n",
       "</div>"
      ],
      "text/plain": [
       "          Adultos - Conditional median duration remaining to event\n",
       "timeline                                                          \n",
       "0.0                                                   348.0       \n",
       "61.0                                                  292.0       \n",
       "71.0                                                  282.0       \n",
       "81.0                                                  282.0       \n",
       "88.0                                                  275.0       \n",
       "...                                                     ...       \n",
       "765.0                                                 118.0       \n",
       "791.0                                                  92.0       \n",
       "806.0                                                  77.0       \n",
       "883.0                                                   inf       \n",
       "1010.0                                                  inf       \n",
       "\n",
       "[89 rows x 1 columns]"
      ]
     },
     "execution_count": 25,
     "metadata": {},
     "output_type": "execute_result"
    }
   ],
   "source": [
    "kmf_ad.conditional_time_to_event_"
   ]
  },
  {
   "cell_type": "code",
   "execution_count": 27,
   "id": "8a91684e",
   "metadata": {},
   "outputs": [
    {
     "data": {
      "text/plain": [
       "<matplotlib.legend.Legend at 0x7fbebc4de550>"
      ]
     },
     "execution_count": 27,
     "metadata": {},
     "output_type": "execute_result"
    },
    {
     "data": {
      "image/png": "[encoded data removed]",
      "text/plain": [
       "<Figure size 432x288 with 1 Axes>"
      ]
     },
     "metadata": {
      "needs_background": "light"
     },
     "output_type": "display_data"
    }
   ],
   "source": [
    "# El gráfico de tiempo medio hasta el evento para el grupo de adultos:\n",
    "median_time_to_event = kmf_ad.conditional_time_to_event_\n",
    "plt.plot(median_time_to_event,label=\"Median Time left\")\n",
    "plt.title(\"Medain time to event\")\n",
    "plt.xlabel(\"Total days\")\n",
    "plt.ylabel(\"Conditional median time to event\")\n",
    "plt.legend()"
   ]
  },
  {
   "cell_type": "code",
   "execution_count": 29,
   "id": "740c7a64",
   "metadata": {},
   "outputs": [
    {
     "data": {
      "text/html": [
       "<div>\n",
       "<style scoped>\n",
       "    .dataframe tbody tr th:only-of-type {\n",
       "        vertical-align: middle;\n",
       "    }\n",
       "\n",
       "    .dataframe tbody tr th {\n",
       "        vertical-align: top;\n",
       "    }\n",
       "\n",
       "    .dataframe thead th {\n",
       "        text-align: right;\n",
       "    }\n",
       "</style>\n",
       "<table border=\"1\" class=\"dataframe\">\n",
       "  <thead>\n",
       "    <tr style=\"text-align: right;\">\n",
       "      <th></th>\n",
       "      <th>Ancianos - Conditional median duration remaining to event</th>\n",
       "    </tr>\n",
       "    <tr>\n",
       "      <th>timeline</th>\n",
       "      <th></th>\n",
       "    </tr>\n",
       "  </thead>\n",
       "  <tbody>\n",
       "    <tr>\n",
       "      <th>0.0</th>\n",
       "      <td>301.0</td>\n",
       "    </tr>\n",
       "    <tr>\n",
       "      <th>5.0</th>\n",
       "      <td>296.0</td>\n",
       "    </tr>\n",
       "    <tr>\n",
       "      <th>11.0</th>\n",
       "      <td>292.0</td>\n",
       "    </tr>\n",
       "    <tr>\n",
       "      <th>12.0</th>\n",
       "      <td>291.0</td>\n",
       "    </tr>\n",
       "    <tr>\n",
       "      <th>13.0</th>\n",
       "      <td>293.0</td>\n",
       "    </tr>\n",
       "    <tr>\n",
       "      <th>...</th>\n",
       "      <td>...</td>\n",
       "    </tr>\n",
       "    <tr>\n",
       "      <th>814.0</th>\n",
       "      <td>inf</td>\n",
       "    </tr>\n",
       "    <tr>\n",
       "      <th>821.0</th>\n",
       "      <td>inf</td>\n",
       "    </tr>\n",
       "    <tr>\n",
       "      <th>840.0</th>\n",
       "      <td>inf</td>\n",
       "    </tr>\n",
       "    <tr>\n",
       "      <th>965.0</th>\n",
       "      <td>inf</td>\n",
       "    </tr>\n",
       "    <tr>\n",
       "      <th>1022.0</th>\n",
       "      <td>inf</td>\n",
       "    </tr>\n",
       "  </tbody>\n",
       "</table>\n",
       "<p>118 rows × 1 columns</p>\n",
       "</div>"
      ],
      "text/plain": [
       "          Ancianos - Conditional median duration remaining to event\n",
       "timeline                                                           \n",
       "0.0                                                   301.0        \n",
       "5.0                                                   296.0        \n",
       "11.0                                                  292.0        \n",
       "12.0                                                  291.0        \n",
       "13.0                                                  293.0        \n",
       "...                                                     ...        \n",
       "814.0                                                   inf        \n",
       "821.0                                                   inf        \n",
       "840.0                                                   inf        \n",
       "965.0                                                   inf        \n",
       "1022.0                                                  inf        \n",
       "\n",
       "[118 rows x 1 columns]"
      ]
     },
     "execution_count": 29,
     "metadata": {},
     "output_type": "execute_result"
    }
   ],
   "source": [
    "# El tiempo medio hasta el evento para el grupo Anciano:\n",
    "kmf_el.conditional_time_to_event_"
   ]
  },
  {
   "cell_type": "code",
   "execution_count": 30,
   "id": "c11ff3b0",
   "metadata": {},
   "outputs": [
    {
     "data": {
      "text/plain": [
       "<matplotlib.legend.Legend at 0x7fbebe578850>"
      ]
     },
     "execution_count": 30,
     "metadata": {},
     "output_type": "execute_result"
    },
    {
     "data": {
      "image/png": "[encoded data removed]",
      "text/plain": [
       "<Figure size 432x288 with 1 Axes>"
      ]
     },
     "metadata": {
      "needs_background": "light"
     },
     "output_type": "display_data"
    }
   ],
   "source": [
    "# El gráfico de tiempo medio hasta el evento para el grupo de mujeres:\n",
    "median_time_to_event = kmf_el.conditional_time_to_event_\n",
    "plt.plot(median_time_to_event,label=\"Median Time left\")\n",
    "plt.title(\"Medain time to event\")\n",
    "plt.xlabel(\"Total days\")\n",
    "plt.ylabel(\"Conditional median time to event\")\n",
    "plt.legend()"
   ]
  },
  {
   "cell_type": "markdown",
   "id": "7debd8ec",
   "metadata": {},
   "source": [
    "##### Probabilidad de supervivencia con intervalo de confianza para ambos grupos"
   ]
  },
  {
   "cell_type": "code",
   "execution_count": 32,
   "id": "b899a3da",
   "metadata": {},
   "outputs": [
    {
     "data": {
      "text/html": [
       "<div>\n",
       "<style scoped>\n",
       "    .dataframe tbody tr th:only-of-type {\n",
       "        vertical-align: middle;\n",
       "    }\n",
       "\n",
       "    .dataframe tbody tr th {\n",
       "        vertical-align: top;\n",
       "    }\n",
       "\n",
       "    .dataframe thead th {\n",
       "        text-align: right;\n",
       "    }\n",
       "</style>\n",
       "<table border=\"1\" class=\"dataframe\">\n",
       "  <thead>\n",
       "    <tr style=\"text-align: right;\">\n",
       "      <th></th>\n",
       "      <th>Adultos_lower_0.95</th>\n",
       "      <th>Adultos_upper_0.95</th>\n",
       "    </tr>\n",
       "  </thead>\n",
       "  <tbody>\n",
       "    <tr>\n",
       "      <th>0.0</th>\n",
       "      <td>1.000000</td>\n",
       "      <td>1.000000</td>\n",
       "    </tr>\n",
       "    <tr>\n",
       "      <th>61.0</th>\n",
       "      <td>0.926884</td>\n",
       "      <td>0.998495</td>\n",
       "    </tr>\n",
       "    <tr>\n",
       "      <th>71.0</th>\n",
       "      <td>0.917600</td>\n",
       "      <td>0.994636</td>\n",
       "    </tr>\n",
       "    <tr>\n",
       "      <th>81.0</th>\n",
       "      <td>0.890590</td>\n",
       "      <td>0.983813</td>\n",
       "    </tr>\n",
       "    <tr>\n",
       "      <th>88.0</th>\n",
       "      <td>0.876926</td>\n",
       "      <td>0.977509</td>\n",
       "    </tr>\n",
       "    <tr>\n",
       "      <th>...</th>\n",
       "      <td>...</td>\n",
       "      <td>...</td>\n",
       "    </tr>\n",
       "    <tr>\n",
       "      <th>765.0</th>\n",
       "      <td>0.044097</td>\n",
       "      <td>0.231115</td>\n",
       "    </tr>\n",
       "    <tr>\n",
       "      <th>791.0</th>\n",
       "      <td>0.026145</td>\n",
       "      <td>0.198885</td>\n",
       "    </tr>\n",
       "    <tr>\n",
       "      <th>806.0</th>\n",
       "      <td>0.026145</td>\n",
       "      <td>0.198885</td>\n",
       "    </tr>\n",
       "    <tr>\n",
       "      <th>883.0</th>\n",
       "      <td>0.004599</td>\n",
       "      <td>0.164033</td>\n",
       "    </tr>\n",
       "    <tr>\n",
       "      <th>1010.0</th>\n",
       "      <td>0.004599</td>\n",
       "      <td>0.164033</td>\n",
       "    </tr>\n",
       "  </tbody>\n",
       "</table>\n",
       "<p>89 rows × 2 columns</p>\n",
       "</div>"
      ],
      "text/plain": [
       "        Adultos_lower_0.95  Adultos_upper_0.95\n",
       "0.0               1.000000            1.000000\n",
       "61.0              0.926884            0.998495\n",
       "71.0              0.917600            0.994636\n",
       "81.0              0.890590            0.983813\n",
       "88.0              0.876926            0.977509\n",
       "...                    ...                 ...\n",
       "765.0             0.044097            0.231115\n",
       "791.0             0.026145            0.198885\n",
       "806.0             0.026145            0.198885\n",
       "883.0             0.004599            0.164033\n",
       "1010.0            0.004599            0.164033\n",
       "\n",
       "[89 rows x 2 columns]"
      ]
     },
     "execution_count": 32,
     "metadata": {},
     "output_type": "execute_result"
    }
   ],
   "source": [
    "kmf_ad.confidence_interval_survival_function_"
   ]
  },
  {
   "cell_type": "code",
   "execution_count": 40,
   "id": "70bdaa3b",
   "metadata": {},
   "outputs": [
    {
     "data": {
      "text/plain": [
       "<matplotlib.legend.Legend at 0x7fbebbf09580>"
      ]
     },
     "execution_count": 40,
     "metadata": {},
     "output_type": "execute_result"
    },
    {
     "data": {
      "image/png": "[encoded data removed]",
      "text/plain": [
       "<Figure size 432x288 with 1 Axes>"
      ]
     },
     "metadata": {
      "needs_background": "light"
     },
     "output_type": "display_data"
    }
   ],
   "source": [
    "# Gráfico de probabilidad de supervivencia con intervalo de confianza para el grupo de hombres:\n",
    "confidence_surv_func = kmf_ad.confidence_interval_survival_function_\n",
    "\n",
    "plt.plot(confidence_surv_func[\"Adultos_lower_0.95\"],label=\"Lower\")\n",
    "plt.plot(confidence_surv_func[\"Adultos_upper_0.95\"],label=\"Upper\")\n",
    "plt.title(\"Survival Function With Confidence Interval\")\n",
    "plt.xlabel(\"Number of days\")\n",
    "plt.ylabel(\"Survival Probability\")\n",
    "plt.legend()"
   ]
  },
  {
   "cell_type": "code",
   "execution_count": 36,
   "id": "d40ff616",
   "metadata": {},
   "outputs": [
    {
     "data": {
      "text/html": [
       "<div>\n",
       "<style scoped>\n",
       "    .dataframe tbody tr th:only-of-type {\n",
       "        vertical-align: middle;\n",
       "    }\n",
       "\n",
       "    .dataframe tbody tr th {\n",
       "        vertical-align: top;\n",
       "    }\n",
       "\n",
       "    .dataframe thead th {\n",
       "        text-align: right;\n",
       "    }\n",
       "</style>\n",
       "<table border=\"1\" class=\"dataframe\">\n",
       "  <thead>\n",
       "    <tr style=\"text-align: right;\">\n",
       "      <th></th>\n",
       "      <th>Ancianos_lower_0.95</th>\n",
       "      <th>Ancianos_upper_0.95</th>\n",
       "    </tr>\n",
       "  </thead>\n",
       "  <tbody>\n",
       "    <tr>\n",
       "      <th>0.0</th>\n",
       "      <td>1.000000</td>\n",
       "      <td>1.000000</td>\n",
       "    </tr>\n",
       "    <tr>\n",
       "      <th>5.0</th>\n",
       "      <td>0.948212</td>\n",
       "      <td>0.998945</td>\n",
       "    </tr>\n",
       "    <tr>\n",
       "      <th>11.0</th>\n",
       "      <td>0.922425</td>\n",
       "      <td>0.988691</td>\n",
       "    </tr>\n",
       "    <tr>\n",
       "      <th>12.0</th>\n",
       "      <td>0.912683</td>\n",
       "      <td>0.984297</td>\n",
       "    </tr>\n",
       "    <tr>\n",
       "      <th>13.0</th>\n",
       "      <td>0.893551</td>\n",
       "      <td>0.974748</td>\n",
       "    </tr>\n",
       "    <tr>\n",
       "      <th>...</th>\n",
       "      <td>...</td>\n",
       "      <td>...</td>\n",
       "    </tr>\n",
       "    <tr>\n",
       "      <th>814.0</th>\n",
       "      <td>0.018299</td>\n",
       "      <td>0.120923</td>\n",
       "    </tr>\n",
       "    <tr>\n",
       "      <th>821.0</th>\n",
       "      <td>0.018299</td>\n",
       "      <td>0.120923</td>\n",
       "    </tr>\n",
       "    <tr>\n",
       "      <th>840.0</th>\n",
       "      <td>0.018299</td>\n",
       "      <td>0.120923</td>\n",
       "    </tr>\n",
       "    <tr>\n",
       "      <th>965.0</th>\n",
       "      <td>0.018299</td>\n",
       "      <td>0.120923</td>\n",
       "    </tr>\n",
       "    <tr>\n",
       "      <th>1022.0</th>\n",
       "      <td>0.018299</td>\n",
       "      <td>0.120923</td>\n",
       "    </tr>\n",
       "  </tbody>\n",
       "</table>\n",
       "<p>118 rows × 2 columns</p>\n",
       "</div>"
      ],
      "text/plain": [
       "        Ancianos_lower_0.95  Ancianos_upper_0.95\n",
       "0.0                1.000000             1.000000\n",
       "5.0                0.948212             0.998945\n",
       "11.0               0.922425             0.988691\n",
       "12.0               0.912683             0.984297\n",
       "13.0               0.893551             0.974748\n",
       "...                     ...                  ...\n",
       "814.0              0.018299             0.120923\n",
       "821.0              0.018299             0.120923\n",
       "840.0              0.018299             0.120923\n",
       "965.0              0.018299             0.120923\n",
       "1022.0             0.018299             0.120923\n",
       "\n",
       "[118 rows x 2 columns]"
      ]
     },
     "execution_count": 36,
     "metadata": {},
     "output_type": "execute_result"
    }
   ],
   "source": [
    "# Probabilidad de supervivencia con intervalo de confianza para el grupo de mujeres:\n",
    "kmf_el.confidence_interval_survival_function_"
   ]
  },
  {
   "cell_type": "code",
   "execution_count": 39,
   "id": "d57f8496",
   "metadata": {},
   "outputs": [
    {
     "data": {
      "text/plain": [
       "<matplotlib.legend.Legend at 0x7fbebbf8dfa0>"
      ]
     },
     "execution_count": 39,
     "metadata": {},
     "output_type": "execute_result"
    },
    {
     "data": {
      "image/png": "[encoded data removed]",
      "text/plain": [
       "<Figure size 432x288 with 1 Axes>"
      ]
     },
     "metadata": {
      "needs_background": "light"
     },
     "output_type": "display_data"
    }
   ],
   "source": [
    "#Gráfico de probabilidad de supervivencia con intervalo de confianza para el grupo de mujeres:\n",
    "confidence_surv_func = kmf_el.confidence_interval_survival_function_\n",
    "\n",
    "plt.plot(confidence_surv_func[\"Ancianos_lower_0.95\"],label=\"Lower\")\n",
    "plt.plot(confidence_surv_func[\"Ancianos_upper_0.95\"],label=\"Upper\")\n",
    "plt.title(\"Survival Function With Confidence Interval\")\n",
    "plt.xlabel(\"Number of days\")\n",
    "plt.ylabel(\"Survival Probability\")\n",
    "plt.legend()"
   ]
  },
  {
   "cell_type": "markdown",
   "id": "7b28203d",
   "metadata": {},
   "source": [
    "##### Comparación de densidad acumulada frente a peligro acumulativo:"
   ]
  },
  {
   "cell_type": "code",
   "execution_count": 41,
   "id": "8c59c9ad",
   "metadata": {},
   "outputs": [
    {
     "data": {
      "text/plain": [
       "Text(0.5, 0, 'Number of Days')"
      ]
     },
     "execution_count": 41,
     "metadata": {},
     "output_type": "execute_result"
    },
    {
     "data": {
      "image/png": "[encoded data removed]",
      "text/plain": [
       "<Figure size 432x288 with 1 Axes>"
      ]
     },
     "metadata": {
      "needs_background": "light"
     },
     "output_type": "display_data"
    }
   ],
   "source": [
    "kmf_ad.plot_cumulative_density(label=\"Densidad acumulada Adultos\")\n",
    "naf_ad.plot_cumulative_hazard(label=\"Adultos Hazard\")\n",
    "plt.xlabel(\"Number of Days\")"
   ]
  },
  {
   "cell_type": "code",
   "execution_count": 42,
   "id": "fd7f07c3",
   "metadata": {},
   "outputs": [
    {
     "data": {
      "text/plain": [
       "Text(0.5, 0, 'Number of Days')"
      ]
     },
     "execution_count": 42,
     "metadata": {},
     "output_type": "execute_result"
    },
    {
     "data": {
      "image/png": "[encoded data removed]",
      "text/plain": [
       "<Figure size 432x288 with 1 Axes>"
      ]
     },
     "metadata": {
      "needs_background": "light"
     },
     "output_type": "display_data"
    }
   ],
   "source": [
    "kmf_el.plot_cumulative_density(label=\"Densidad acumulada Ancianos\")\n",
    "naf_el.plot_cumulative_hazard(label=\"Ancianos Hazard\")\n",
    "plt.xlabel(\"Number of Days\")"
   ]
  },
  {
   "cell_type": "markdown",
   "id": "71386611",
   "metadata": {},
   "source": [
    "## Prueba de rango logarítmico:\n",
    "\n",
    "La prueba de rango logarítmico es una prueba de hipótesis que se utiliza para comparar la distribución de supervivencia de dos muestras.\n",
    "\n",
    "Objetivo: Nuestro objetivo es ver si existe alguna diferencia significativa entre los grupos que se comparan.\n",
    "\n",
    "Hipótesis nula : La hipótesis nula establece que no hay diferencia significativa entre los grupos estudiados. Si hay una diferencia significativa entre esos grupos, entonces tenemos que rechazar nuestra hipótesis nula.\n",
    "\n",
    "##### ¿Cómo decimos que hay una diferencia significativa?\n",
    "\n",
    "Un valor de p entre 0 y 1 denota la significancia estadística. Cuanto menor sea el valor p, más significativa será la diferencia estadística entre los grupos estudiados. Tenga en cuenta que nuestro objetivo es averiguar si existe alguna diferencia entre los grupos que estamos comparando. En caso afirmativo, podemos investigar más sobre por qué hay menos posibilidades de supervivencia para un grupo en particular en función de información diversa como su dieta, estilo de vida y otros.\n",
    "\n",
    "Menos de (5% = 0.05) valor de P significa que hay una diferencia significativa entre los grupos que comparamos. Podemos dividir nuestros grupos según su sexo, edad, raza, método de tratamiento y otros.\n",
    "\n",
    "##### Es una prueba para averiguar el valor de P."
   ]
  },
  {
   "cell_type": "code",
   "execution_count": 43,
   "id": "7aceb337",
   "metadata": {},
   "outputs": [],
   "source": [
    "# Obtenga las variables para la prueba de rango logarítmico:\n",
    "Time_A = adults['time']\n",
    "Event_A = adults['dead']\n",
    "\n",
    "Time_B = elderly['time']\n",
    "Event_B = elderly['dead']"
   ]
  },
  {
   "cell_type": "code",
   "execution_count": 44,
   "id": "9a6ffe2d",
   "metadata": {},
   "outputs": [
    {
     "data": {
      "text/html": [
       "<div>\n",
       "<style scoped>\n",
       "    .dataframe tbody tr th:only-of-type {\n",
       "        vertical-align: middle;\n",
       "    }\n",
       "\n",
       "    .dataframe tbody tr th {\n",
       "        vertical-align: top;\n",
       "    }\n",
       "\n",
       "    .dataframe thead th {\n",
       "        text-align: right;\n",
       "    }\n",
       "</style>\n",
       "<table border=\"1\" class=\"dataframe\">\n",
       "  <tbody>\n",
       "    <tr>\n",
       "      <th>t_0</th>\n",
       "      <td>-1</td>\n",
       "    </tr>\n",
       "    <tr>\n",
       "      <th>null_distribution</th>\n",
       "      <td>chi squared</td>\n",
       "    </tr>\n",
       "    <tr>\n",
       "      <th>degrees_of_freedom</th>\n",
       "      <td>1</td>\n",
       "    </tr>\n",
       "    <tr>\n",
       "      <th>test_name</th>\n",
       "      <td>logrank_test</td>\n",
       "    </tr>\n",
       "  </tbody>\n",
       "</table>\n",
       "</div><table border=\"1\" class=\"dataframe\">\n",
       "  <thead>\n",
       "    <tr style=\"text-align: right;\">\n",
       "      <th></th>\n",
       "      <th>test_statistic</th>\n",
       "      <th>p</th>\n",
       "      <th>-log2(p)</th>\n",
       "    </tr>\n",
       "  </thead>\n",
       "  <tbody>\n",
       "    <tr>\n",
       "      <th>0</th>\n",
       "      <td>1.83</td>\n",
       "      <td>0.18</td>\n",
       "      <td>2.51</td>\n",
       "    </tr>\n",
       "  </tbody>\n",
       "</table>"
      ],
      "text/latex": [
       "\\begin{tabular}{lrrr}\n",
       "\\toprule\n",
       "{} &  test\\_statistic &         p &  -log2(p) \\\\\n",
       "\\midrule\n",
       "0 &        1.834196 &  0.175633 &  2.509366 \\\\\n",
       "\\bottomrule\n",
       "\\end{tabular}\n"
      ],
      "text/plain": [
       "<lifelines.StatisticalResult: logrank_test>\n",
       "               t_0 = -1\n",
       " null_distribution = chi squared\n",
       "degrees_of_freedom = 1\n",
       "         test_name = logrank_test\n",
       "\n",
       "---\n",
       " test_statistic    p  -log2(p)\n",
       "           1.83 0.18      2.51"
      ]
     },
     "metadata": {},
     "output_type": "display_data"
    }
   ],
   "source": [
    "from lifelines.statistics import logrank_test\n",
    "\n",
    "results = logrank_test(Time_A, Time_B, event_observed_A=Event_A, event_observed_B=Event_B)\n",
    "results.print_summary()"
   ]
  },
  {
   "cell_type": "code",
   "execution_count": 45,
   "id": "76fba67d",
   "metadata": {},
   "outputs": [
    {
     "name": "stdout",
     "output_type": "stream",
     "text": [
      "P-value : 0.17563274599296763\n"
     ]
    }
   ],
   "source": [
    "print(\"P-value :\",results.p_value)"
   ]
  },
  {
   "cell_type": "markdown",
   "id": "668e63be",
   "metadata": {},
   "source": [
    "Hemos comparado las distribuciones de supervivencia de dos grupos diferentes utilizando el famoso método estadístico, la prueba de rango logarítmico. Aquí podemos notar que el valor p es 0.00131 (<0.005) para nuestros grupos, lo que denota que tenemos que rechazar la hipótesis nula y admitir que la función de supervivencia para ambos grupos es significativamente diferente. Los valores p nos dan una fuerte evidencia de que el \"sexo\" se asoció con el número de días de supervivencia. En resumen, podemos decir que el \"sexo\" de una persona marca una diferencia significativa en la probabilidad de supervivencia."
   ]
  }
 ],
 "metadata": {
  "kernelspec": {
   "display_name": "Python 3 (ipykernel)",
   "language": "python",
   "name": "python3"
  },
  "language_info": {
   "codemirror_mode": {
    "name": "ipython",
    "version": 3
   },
   "file_extension": ".py",
   "mimetype": "text/x-python",
   "name": "python",
   "nbconvert_exporter": "python",
   "pygments_lexer": "ipython3",
   "version": "3.8.12"
  }
 },
 "nbformat": 4,
 "nbformat_minor": 5
}
