{
 "cells": [
  {
   "cell_type": "markdown",
   "id": "bfdfd8b6",
   "metadata": {},
   "source": [
    "## PRÁCTICA ANÁLISIS DE SUPERVIVENCIA"
   ]
  },
  {
   "cell_type": "markdown",
   "id": "2c34cf12",
   "metadata": {},
   "source": [
    "Conjunto de datos: Datos de Cancer de Melanoma específicados en clase.\n",
    "\n",
    "Curvas de supervivencia\n",
    "La idea es reproducir lo aprendido en clase con otro conjunto de datos.\n",
    "Estimación de curvas de supervivencia global (OS) y libre de progresión (RFS) para la población completa. Incluir:\n",
    "- Análisis estadístico de los datos (distribución de los datos, información adicional de los datos, Histogramas, Visualizaciones, etc)\n",
    "- Generar tabla con eventos\n",
    "- Intervalos de confianza\n",
    "- Análisis de algún que otro parámetro gráfico\n",
    "\n",
    "Estimación de curvas de supervivencia global y RFS para grupos de pacientes estratificados por diferentes variables, tanto continuas como categóricas. \n",
    "\n",
    "    En caso de las variables continuas habrá que discretizarlas por diferentes intervalos. a) Probar diferentes intervalos y calcular el p-valor asociado al test de Log-rank que permitirá analizar si existe diferencia estadísticamente significativa entre las curvas de supervivencia. b) Investigar en la literatura sobre posible valores de corte para los intervalos en base a los factores pronóstico analizados.\n",
    "    Calcular supervivencia de los fenotipos en cáncer de mama calculado a partir de los receptores de estrógeno (RE), receptores de progesterona (RP) y Her2, en función de la siguiente regla: Si RE o RP son positivos, fenotipo = Luminal; Si RE o RP son negativos y HER2 es positivo, fenotipo = HER2+; Si RE, RP y HER2 son negativos, fenotipo = Triple Negativo (TN). Discutir los resultados.\n",
    "\n",
    "\n",
    "Regresión de Cox\n",
    "\n",
    "    Estimar modelos de regresión de Cox univariantes para los factores pronóstico relacionados con cáncer de mama que se encuentren en el conjunto de datos. Analizar los resultados en base al HR y coeficientes beta del modelo.\n",
    "    Estimar el mejor modelo de Cox multivariante utilizando algún procedimiento de selección de variables. Podéis realizar una búsqueda exhaustiva del mejor modelo (de forma similar a como hicimos en Minería de Datos) o aplicar algunos de los algoritmos presentes en paquetes publicados en la literatura.\n",
    "    Es importante comprobar que para los modelos seleccionados se verifica el criterio de proporcionalidad de riesgos, aspecto fundamental para considerar como válido cualquier modelo de Cox.\n",
    "\n",
    "https://stat.ethz.ch/R-manual/R-devel/library/survival/html/cox.zph.html\n",
    "\n",
    "\n",
    "Nota: Un p-valor < 0.05 (como resultado de la aplicación de la función cox.zph) indicaría violación de la asunción de proporcionalidad de los riesgos, lo que llevaría a descartar como válido el modelo en cuestión"
   ]
  }
 ],
 "metadata": {
  "kernelspec": {
   "display_name": "Python 3 (ipykernel)",
   "language": "python",
   "name": "python3"
  },
  "language_info": {
   "codemirror_mode": {
    "name": "ipython",
    "version": 3
   },
   "file_extension": ".py",
   "mimetype": "text/x-python",
   "name": "python",
   "nbconvert_exporter": "python",
   "pygments_lexer": "ipython3",
   "version": "3.8.12"
  }
 },
 "nbformat": 4,
 "nbformat_minor": 5
}
