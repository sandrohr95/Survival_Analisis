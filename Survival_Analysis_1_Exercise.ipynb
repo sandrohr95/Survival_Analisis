{
 "cells": [
  {
   "cell_type": "markdown",
   "id": "d7f36cf3",
   "metadata": {},
   "source": [
    "# Análisis de Supervivencia"
   ]
  },
  {
   "cell_type": "markdown",
   "id": "1bdbe300",
   "metadata": {},
   "source": [
    "Tabla de contenido:\n",
    "- Conceptos básicos del análisis de supervivencia\n",
    "- Teoría del ajustador de Kaplan-Meier con un ejemplo.\n",
    "- Teoría del ajustador de Nelson-Aalen con un ejemplo.\n",
    "- Instalador Kaplan-Meier basado en diferentes grupos.\n",
    "- Prueba de rango logarítmico con un ejemplo.\n",
    "- Regresión de Cox con un ejemplo.\n",
    "- Recursos."
   ]
  },
  {
   "cell_type": "markdown",
   "id": "30e0808d",
   "metadata": {},
   "source": [
    "##### Instalación de librerías mendiantes pip install o conda install\n"
   ]
  },
  {
   "cell_type": "markdown",
   "id": "d8ba7783",
   "metadata": {},
   "source": [
    "- pip install lifelines\n",
    "- pip install panda\n",
    "- pip install numpy\n",
    "- pip install matplotlib"
   ]
  },
  {
   "cell_type": "code",
   "execution_count": 1,
   "id": "8f3fa6f2",
   "metadata": {},
   "outputs": [],
   "source": [
    "#Importamos las librerías Necesarias para trabajar\n",
    "import pandas as pd\n",
    "import numpy as np\n",
    "import matplotlib.pyplot as plt\n",
    "from lifelines import KaplanMeierFitter"
   ]
  },
  {
   "cell_type": "markdown",
   "id": "ca2d39fd",
   "metadata": {},
   "source": [
    "##### Lectura del dataset:"
   ]
  },
  {
   "cell_type": "code",
   "execution_count": 3,
   "id": "53da847c",
   "metadata": {},
   "outputs": [
    {
     "data": {
      "text/html": [
       "<div>\n",
       "<style scoped>\n",
       "    .dataframe tbody tr th:only-of-type {\n",
       "        vertical-align: middle;\n",
       "    }\n",
       "\n",
       "    .dataframe tbody tr th {\n",
       "        vertical-align: top;\n",
       "    }\n",
       "\n",
       "    .dataframe thead th {\n",
       "        text-align: right;\n",
       "    }\n",
       "</style>\n",
       "<table border=\"1\" class=\"dataframe\">\n",
       "  <thead>\n",
       "    <tr style=\"text-align: right;\">\n",
       "      <th></th>\n",
       "      <th>Unnamed: 0</th>\n",
       "      <th>time</th>\n",
       "      <th>status</th>\n",
       "      <th>sex</th>\n",
       "      <th>age</th>\n",
       "      <th>year</th>\n",
       "      <th>thickness</th>\n",
       "      <th>ulcer</th>\n",
       "    </tr>\n",
       "  </thead>\n",
       "  <tbody>\n",
       "    <tr>\n",
       "      <th>0</th>\n",
       "      <td>1</td>\n",
       "      <td>10</td>\n",
       "      <td>3</td>\n",
       "      <td>1</td>\n",
       "      <td>76</td>\n",
       "      <td>1972</td>\n",
       "      <td>6.76</td>\n",
       "      <td>1</td>\n",
       "    </tr>\n",
       "    <tr>\n",
       "      <th>1</th>\n",
       "      <td>2</td>\n",
       "      <td>30</td>\n",
       "      <td>3</td>\n",
       "      <td>1</td>\n",
       "      <td>56</td>\n",
       "      <td>1968</td>\n",
       "      <td>0.65</td>\n",
       "      <td>0</td>\n",
       "    </tr>\n",
       "    <tr>\n",
       "      <th>2</th>\n",
       "      <td>3</td>\n",
       "      <td>35</td>\n",
       "      <td>2</td>\n",
       "      <td>1</td>\n",
       "      <td>41</td>\n",
       "      <td>1977</td>\n",
       "      <td>1.34</td>\n",
       "      <td>0</td>\n",
       "    </tr>\n",
       "    <tr>\n",
       "      <th>3</th>\n",
       "      <td>4</td>\n",
       "      <td>99</td>\n",
       "      <td>3</td>\n",
       "      <td>0</td>\n",
       "      <td>71</td>\n",
       "      <td>1968</td>\n",
       "      <td>2.90</td>\n",
       "      <td>0</td>\n",
       "    </tr>\n",
       "    <tr>\n",
       "      <th>4</th>\n",
       "      <td>5</td>\n",
       "      <td>185</td>\n",
       "      <td>1</td>\n",
       "      <td>1</td>\n",
       "      <td>52</td>\n",
       "      <td>1965</td>\n",
       "      <td>12.08</td>\n",
       "      <td>1</td>\n",
       "    </tr>\n",
       "  </tbody>\n",
       "</table>\n",
       "</div>"
      ],
      "text/plain": [
       "   Unnamed: 0  time  status  sex  age  year  thickness  ulcer\n",
       "0           1    10       3    1   76  1972       6.76      1\n",
       "1           2    30       3    1   56  1968       0.65      0\n",
       "2           3    35       2    1   41  1977       1.34      0\n",
       "3           4    99       3    0   71  1968       2.90      0\n",
       "4           5   185       1    1   52  1965      12.08      1"
      ]
     },
     "execution_count": 3,
     "metadata": {},
     "output_type": "execute_result"
    }
   ],
   "source": [
    "data = pd.read_csv(\"Melanoma.csv\")\n",
    "data.head()"
   ]
  },
  {
   "cell_type": "markdown",
   "id": "6223b23a",
   "metadata": {},
   "source": [
    "#####  Imprima las columnas en nuestro conjunto de datos:"
   ]
  },
  {
   "cell_type": "code",
   "execution_count": 4,
   "id": "878ebcb4",
   "metadata": {},
   "outputs": [
    {
     "name": "stdout",
     "output_type": "stream",
     "text": [
      "Index(['Unnamed: 0', 'time', 'status', 'sex', 'age', 'year', 'thickness',\n",
      "       'ulcer'],\n",
      "      dtype='object')\n"
     ]
    }
   ],
   "source": [
    "#Print the column names of our data:\n",
    "print(data.columns)"
   ]
  },
  {
   "cell_type": "markdown",
   "id": "800ec6f8",
   "metadata": {},
   "source": [
    "##### Limpieza de los datos"
   ]
  },
  {
   "cell_type": "markdown",
   "id": "26977641",
   "metadata": {},
   "source": [
    "Necesitamos eliminar las columnas que no ofrecen información a nuestro modelo de predicción"
   ]
  },
  {
   "cell_type": "code",
   "execution_count": 5,
   "id": "40628bb4",
   "metadata": {},
   "outputs": [
    {
     "data": {
      "text/html": [
       "<div>\n",
       "<style scoped>\n",
       "    .dataframe tbody tr th:only-of-type {\n",
       "        vertical-align: middle;\n",
       "    }\n",
       "\n",
       "    .dataframe tbody tr th {\n",
       "        vertical-align: top;\n",
       "    }\n",
       "\n",
       "    .dataframe thead th {\n",
       "        text-align: right;\n",
       "    }\n",
       "</style>\n",
       "<table border=\"1\" class=\"dataframe\">\n",
       "  <thead>\n",
       "    <tr style=\"text-align: right;\">\n",
       "      <th></th>\n",
       "      <th>time</th>\n",
       "      <th>status</th>\n",
       "      <th>sex</th>\n",
       "      <th>age</th>\n",
       "      <th>year</th>\n",
       "      <th>thickness</th>\n",
       "      <th>ulcer</th>\n",
       "    </tr>\n",
       "  </thead>\n",
       "  <tbody>\n",
       "    <tr>\n",
       "      <th>0</th>\n",
       "      <td>10</td>\n",
       "      <td>3</td>\n",
       "      <td>1</td>\n",
       "      <td>76</td>\n",
       "      <td>1972</td>\n",
       "      <td>6.76</td>\n",
       "      <td>1</td>\n",
       "    </tr>\n",
       "    <tr>\n",
       "      <th>1</th>\n",
       "      <td>30</td>\n",
       "      <td>3</td>\n",
       "      <td>1</td>\n",
       "      <td>56</td>\n",
       "      <td>1968</td>\n",
       "      <td>0.65</td>\n",
       "      <td>0</td>\n",
       "    </tr>\n",
       "    <tr>\n",
       "      <th>2</th>\n",
       "      <td>35</td>\n",
       "      <td>2</td>\n",
       "      <td>1</td>\n",
       "      <td>41</td>\n",
       "      <td>1977</td>\n",
       "      <td>1.34</td>\n",
       "      <td>0</td>\n",
       "    </tr>\n",
       "    <tr>\n",
       "      <th>3</th>\n",
       "      <td>99</td>\n",
       "      <td>3</td>\n",
       "      <td>0</td>\n",
       "      <td>71</td>\n",
       "      <td>1968</td>\n",
       "      <td>2.90</td>\n",
       "      <td>0</td>\n",
       "    </tr>\n",
       "    <tr>\n",
       "      <th>4</th>\n",
       "      <td>185</td>\n",
       "      <td>1</td>\n",
       "      <td>1</td>\n",
       "      <td>52</td>\n",
       "      <td>1965</td>\n",
       "      <td>12.08</td>\n",
       "      <td>1</td>\n",
       "    </tr>\n",
       "  </tbody>\n",
       "</table>\n",
       "</div>"
      ],
      "text/plain": [
       "   time  status  sex  age  year  thickness  ulcer\n",
       "0    10       3    1   76  1972       6.76      1\n",
       "1    30       3    1   56  1968       0.65      0\n",
       "2    35       2    1   41  1977       1.34      0\n",
       "3    99       3    0   71  1968       2.90      0\n",
       "4   185       1    1   52  1965      12.08      1"
      ]
     },
     "execution_count": 5,
     "metadata": {},
     "output_type": "execute_result"
    }
   ],
   "source": [
    "data = data.drop(columns=['Unnamed: 0'])\n",
    "# Si queremos eliminar varias columnas:\n",
    "# data.drop(columns=['Unnamed: 0','sex'])\n",
    "data.head()"
   ]
  },
  {
   "cell_type": "markdown",
   "id": "0bec7863",
   "metadata": {},
   "source": [
    "##### Obtenga información adicional sobre el conjunto de datos:"
   ]
  },
  {
   "cell_type": "markdown",
   "id": "5b8a3702",
   "metadata": {},
   "source": [
    "Nos da información sobre el tipo de datos de las columnas junto con su contador de valor nulo. Necesitamos eliminar las filas con un valor nulo para algunos de los métodos de análisis de supervivencia."
   ]
  },
  {
   "cell_type": "code",
   "execution_count": 6,
   "id": "0927a3ce",
   "metadata": {},
   "outputs": [
    {
     "name": "stdout",
     "output_type": "stream",
     "text": [
      "<class 'pandas.core.frame.DataFrame'>\n",
      "RangeIndex: 205 entries, 0 to 204\n",
      "Data columns (total 7 columns):\n",
      " #   Column     Non-Null Count  Dtype  \n",
      "---  ------     --------------  -----  \n",
      " 0   time       205 non-null    int64  \n",
      " 1   status     205 non-null    int64  \n",
      " 2   sex        205 non-null    int64  \n",
      " 3   age        205 non-null    int64  \n",
      " 4   year       205 non-null    int64  \n",
      " 5   thickness  205 non-null    float64\n",
      " 6   ulcer      205 non-null    int64  \n",
      "dtypes: float64(1), int64(6)\n",
      "memory usage: 11.3 KB\n"
     ]
    }
   ],
   "source": [
    "#Additional info about our dataset:\n",
    "data.info()"
   ]
  },
  {
   "cell_type": "markdown",
   "id": "8055aa96",
   "metadata": {},
   "source": [
    "##### Obtenga información estadística sobre el conjunto de datos:"
   ]
  },
  {
   "cell_type": "markdown",
   "id": "9dfdd270",
   "metadata": {},
   "source": [
    "Nos da alguna información estadística como el número total de filas, media, desviación estándar, valor mínimo, percentil 25, percentil 50, percentil 75 y valor máximo para cada columna."
   ]
  },
  {
   "cell_type": "code",
   "execution_count": 7,
   "id": "ea783a22",
   "metadata": {},
   "outputs": [
    {
     "data": {
      "text/html": [
       "<div>\n",
       "<style scoped>\n",
       "    .dataframe tbody tr th:only-of-type {\n",
       "        vertical-align: middle;\n",
       "    }\n",
       "\n",
       "    .dataframe tbody tr th {\n",
       "        vertical-align: top;\n",
       "    }\n",
       "\n",
       "    .dataframe thead th {\n",
       "        text-align: right;\n",
       "    }\n",
       "</style>\n",
       "<table border=\"1\" class=\"dataframe\">\n",
       "  <thead>\n",
       "    <tr style=\"text-align: right;\">\n",
       "      <th></th>\n",
       "      <th>time</th>\n",
       "      <th>status</th>\n",
       "      <th>sex</th>\n",
       "      <th>age</th>\n",
       "      <th>year</th>\n",
       "      <th>thickness</th>\n",
       "      <th>ulcer</th>\n",
       "    </tr>\n",
       "  </thead>\n",
       "  <tbody>\n",
       "    <tr>\n",
       "      <th>count</th>\n",
       "      <td>205.000000</td>\n",
       "      <td>205.000000</td>\n",
       "      <td>205.000000</td>\n",
       "      <td>205.000000</td>\n",
       "      <td>205.000000</td>\n",
       "      <td>205.000000</td>\n",
       "      <td>205.000000</td>\n",
       "    </tr>\n",
       "    <tr>\n",
       "      <th>mean</th>\n",
       "      <td>2152.800000</td>\n",
       "      <td>1.790244</td>\n",
       "      <td>0.385366</td>\n",
       "      <td>52.463415</td>\n",
       "      <td>1969.907317</td>\n",
       "      <td>2.919854</td>\n",
       "      <td>0.439024</td>\n",
       "    </tr>\n",
       "    <tr>\n",
       "      <th>std</th>\n",
       "      <td>1122.060667</td>\n",
       "      <td>0.551204</td>\n",
       "      <td>0.487873</td>\n",
       "      <td>16.671711</td>\n",
       "      <td>2.575563</td>\n",
       "      <td>2.959433</td>\n",
       "      <td>0.497483</td>\n",
       "    </tr>\n",
       "    <tr>\n",
       "      <th>min</th>\n",
       "      <td>10.000000</td>\n",
       "      <td>1.000000</td>\n",
       "      <td>0.000000</td>\n",
       "      <td>4.000000</td>\n",
       "      <td>1962.000000</td>\n",
       "      <td>0.100000</td>\n",
       "      <td>0.000000</td>\n",
       "    </tr>\n",
       "    <tr>\n",
       "      <th>25%</th>\n",
       "      <td>1525.000000</td>\n",
       "      <td>1.000000</td>\n",
       "      <td>0.000000</td>\n",
       "      <td>42.000000</td>\n",
       "      <td>1968.000000</td>\n",
       "      <td>0.970000</td>\n",
       "      <td>0.000000</td>\n",
       "    </tr>\n",
       "    <tr>\n",
       "      <th>50%</th>\n",
       "      <td>2005.000000</td>\n",
       "      <td>2.000000</td>\n",
       "      <td>0.000000</td>\n",
       "      <td>54.000000</td>\n",
       "      <td>1970.000000</td>\n",
       "      <td>1.940000</td>\n",
       "      <td>0.000000</td>\n",
       "    </tr>\n",
       "    <tr>\n",
       "      <th>75%</th>\n",
       "      <td>3042.000000</td>\n",
       "      <td>2.000000</td>\n",
       "      <td>1.000000</td>\n",
       "      <td>65.000000</td>\n",
       "      <td>1972.000000</td>\n",
       "      <td>3.560000</td>\n",
       "      <td>1.000000</td>\n",
       "    </tr>\n",
       "    <tr>\n",
       "      <th>max</th>\n",
       "      <td>5565.000000</td>\n",
       "      <td>3.000000</td>\n",
       "      <td>1.000000</td>\n",
       "      <td>95.000000</td>\n",
       "      <td>1977.000000</td>\n",
       "      <td>17.420000</td>\n",
       "      <td>1.000000</td>\n",
       "    </tr>\n",
       "  </tbody>\n",
       "</table>\n",
       "</div>"
      ],
      "text/plain": [
       "              time      status         sex         age         year  \\\n",
       "count   205.000000  205.000000  205.000000  205.000000   205.000000   \n",
       "mean   2152.800000    1.790244    0.385366   52.463415  1969.907317   \n",
       "std    1122.060667    0.551204    0.487873   16.671711     2.575563   \n",
       "min      10.000000    1.000000    0.000000    4.000000  1962.000000   \n",
       "25%    1525.000000    1.000000    0.000000   42.000000  1968.000000   \n",
       "50%    2005.000000    2.000000    0.000000   54.000000  1970.000000   \n",
       "75%    3042.000000    2.000000    1.000000   65.000000  1972.000000   \n",
       "max    5565.000000    3.000000    1.000000   95.000000  1977.000000   \n",
       "\n",
       "        thickness       ulcer  \n",
       "count  205.000000  205.000000  \n",
       "mean     2.919854    0.439024  \n",
       "std      2.959433    0.497483  \n",
       "min      0.100000    0.000000  \n",
       "25%      0.970000    0.000000  \n",
       "50%      1.940000    0.000000  \n",
       "75%      3.560000    1.000000  \n",
       "max     17.420000    1.000000  "
      ]
     },
     "execution_count": 7,
     "metadata": {},
     "output_type": "execute_result"
    }
   ],
   "source": [
    "#Statistical info about our dataset:\n",
    "data.describe()"
   ]
  },
  {
   "cell_type": "markdown",
   "id": "8e8e4de1",
   "metadata": {},
   "source": [
    "##### distribución mediante el histograma"
   ]
  },
  {
   "cell_type": "markdown",
   "id": "5f903db8",
   "metadata": {},
   "source": [
    "Esto nos da una idea general sobre cómo se distribuyen nuestros datos. En el siguiente gráfico, podemos ver que alrededor de 139 valores tienen un estado de 1, y aproximadamente 90 valores tienen un estado de 2, lo que significa que hay 139 hombres y alrededor de 90 mujeres en nuestro conjunto de datos."
   ]
  },
  {
   "cell_type": "code",
   "execution_count": 8,
   "id": "d623c306",
   "metadata": {},
   "outputs": [
    {
     "name": "stdout",
     "output_type": "stream",
     "text": [
      "AxesSubplot(0.125,0.125;0.775x0.755)\n"
     ]
    },
    {
     "data": {
      "image/png": "[encoded data removed]",
      "text/plain": [
       "<Figure size 432x288 with 1 Axes>"
      ]
     },
     "metadata": {
      "needs_background": "light"
     },
     "output_type": "display_data"
    }
   ],
   "source": [
    "#Plot histogram for sex of patient:\n",
    "print(data[\"sex\"].hist())"
   ]
  },
  {
   "cell_type": "code",
   "execution_count": 9,
   "id": "71e8cf82",
   "metadata": {},
   "outputs": [
    {
     "name": "stdout",
     "output_type": "stream",
     "text": [
      "AxesSubplot(0.125,0.125;0.775x0.755)\n"
     ]
    },
    {
     "data": {
      "image/png": "[encoded data removed]",
      "text/plain": [
       "<Figure size 432x288 with 1 Axes>"
      ]
     },
     "metadata": {
      "needs_background": "light"
     },
     "output_type": "display_data"
    }
   ],
   "source": [
    "print(data[\"age\"].hist())"
   ]
  },
  {
   "cell_type": "code",
   "execution_count": 10,
   "id": "459520cb",
   "metadata": {},
   "outputs": [
    {
     "name": "stdout",
     "output_type": "stream",
     "text": [
      "AxesSubplot(0.125,0.125;0.775x0.755)\n"
     ]
    },
    {
     "data": {
      "image/png": "[encoded data removed]",
      "text/plain": [
       "<Figure size 432x288 with 1 Axes>"
      ]
     },
     "metadata": {
      "needs_background": "light"
     },
     "output_type": "display_data"
    }
   ],
   "source": [
    "print(data[\"status\"].hist())"
   ]
  },
  {
   "cell_type": "markdown",
   "id": "affde22f",
   "metadata": {},
   "source": [
    "##### Organización de los datos"
   ]
  },
  {
   "cell_type": "markdown",
   "id": "da217486",
   "metadata": {},
   "source": [
    "Ahora necesitamos organizar nuestros datos. Agregaremos una nueva columna en nuestro conjunto de datos que se llama \"muerto\". Almacena los datos sobre si una persona que es parte de nuestro experimento está viva o muerta (según el valor de estado). Si nuestro valor de estado es 1, entonces esa persona está viva, y si nuestro valor de estado es 2, entonces la persona está muerta. Es un paso crucial para lo que debemos hacer en el siguiente paso, ya que vamos a almacenar nuestros datos en columnas denominadas censuradas y observadas. Donde los datos observados almacenan el valor de las personas muertas en una línea de tiempo específica, y los datos censurados almacenan el valor de las personas vivas o personas que no vamos a investigar."
   ]
  },
  {
   "cell_type": "code",
   "execution_count": 12,
   "id": "9aff02e5",
   "metadata": {},
   "outputs": [
    {
     "data": {
      "text/html": [
       "<div>\n",
       "<style scoped>\n",
       "    .dataframe tbody tr th:only-of-type {\n",
       "        vertical-align: middle;\n",
       "    }\n",
       "\n",
       "    .dataframe tbody tr th {\n",
       "        vertical-align: top;\n",
       "    }\n",
       "\n",
       "    .dataframe thead th {\n",
       "        text-align: right;\n",
       "    }\n",
       "</style>\n",
       "<table border=\"1\" class=\"dataframe\">\n",
       "  <thead>\n",
       "    <tr style=\"text-align: right;\">\n",
       "      <th></th>\n",
       "      <th>time</th>\n",
       "      <th>status</th>\n",
       "      <th>sex</th>\n",
       "      <th>age</th>\n",
       "      <th>year</th>\n",
       "      <th>thickness</th>\n",
       "      <th>ulcer</th>\n",
       "      <th>dead</th>\n",
       "    </tr>\n",
       "  </thead>\n",
       "  <tbody>\n",
       "    <tr>\n",
       "      <th>0</th>\n",
       "      <td>10</td>\n",
       "      <td>3</td>\n",
       "      <td>1</td>\n",
       "      <td>76</td>\n",
       "      <td>1972</td>\n",
       "      <td>6.76</td>\n",
       "      <td>1</td>\n",
       "      <td>1.0</td>\n",
       "    </tr>\n",
       "    <tr>\n",
       "      <th>1</th>\n",
       "      <td>30</td>\n",
       "      <td>3</td>\n",
       "      <td>1</td>\n",
       "      <td>56</td>\n",
       "      <td>1968</td>\n",
       "      <td>0.65</td>\n",
       "      <td>0</td>\n",
       "      <td>1.0</td>\n",
       "    </tr>\n",
       "    <tr>\n",
       "      <th>2</th>\n",
       "      <td>35</td>\n",
       "      <td>2</td>\n",
       "      <td>1</td>\n",
       "      <td>41</td>\n",
       "      <td>1977</td>\n",
       "      <td>1.34</td>\n",
       "      <td>0</td>\n",
       "      <td>1.0</td>\n",
       "    </tr>\n",
       "    <tr>\n",
       "      <th>3</th>\n",
       "      <td>99</td>\n",
       "      <td>3</td>\n",
       "      <td>0</td>\n",
       "      <td>71</td>\n",
       "      <td>1968</td>\n",
       "      <td>2.90</td>\n",
       "      <td>0</td>\n",
       "      <td>1.0</td>\n",
       "    </tr>\n",
       "    <tr>\n",
       "      <th>4</th>\n",
       "      <td>185</td>\n",
       "      <td>1</td>\n",
       "      <td>1</td>\n",
       "      <td>52</td>\n",
       "      <td>1965</td>\n",
       "      <td>12.08</td>\n",
       "      <td>1</td>\n",
       "      <td>0.0</td>\n",
       "    </tr>\n",
       "  </tbody>\n",
       "</table>\n",
       "</div>"
      ],
      "text/plain": [
       "   time  status  sex  age  year  thickness  ulcer  dead\n",
       "0    10       3    1   76  1972       6.76      1   1.0\n",
       "1    30       3    1   56  1968       0.65      0   1.0\n",
       "2    35       2    1   41  1977       1.34      0   1.0\n",
       "3    99       3    0   71  1968       2.90      0   1.0\n",
       "4   185       1    1   52  1965      12.08      1   0.0"
      ]
     },
     "execution_count": 12,
     "metadata": {},
     "output_type": "execute_result"
    }
   ],
   "source": [
    "#Create an object of KaplanMeierFitter:\n",
    "kmf = KaplanMeierFitter() \n",
    "\n",
    "#Organize our data:\n",
    "\n",
    "#If status = 1 , then dead = 0\n",
    "#If status = 2 , then dead = 1\n",
    "\n",
    "data.loc[data.status == 1, 'dead'] = 0\n",
    "data.loc[data.status == 2, 'dead'] = 1\n",
    "data.loc[data.status == 3, 'dead'] = 1\n",
    "\n",
    "\n",
    "\n",
    "data.head()"
   ]
  },
  {
   "cell_type": "markdown",
   "id": "8a06fd3d",
   "metadata": {},
   "source": [
    "##### Ajustar nuestros datos a un objeto"
   ]
  },
  {
   "cell_type": "markdown",
   "id": "0d412d89",
   "metadata": {},
   "source": [
    "Aquí nuestro objetivo es encontrar el número de días que sobrevivió un paciente antes de morir. Nuestro evento de interés será \"muerte\", que se almacena en la columna \"muertos\". El primer argumento que se necesita es la línea de tiempo de nuestro experimento."
   ]
  },
  {
   "cell_type": "code",
   "execution_count": 13,
   "id": "a6c52625",
   "metadata": {},
   "outputs": [
    {
     "data": {
      "text/plain": [
       "<lifelines.KaplanMeierFitter:\"KM_estimate\", fitted with 205 total observations, 57 right-censored observations>"
      ]
     },
     "execution_count": 13,
     "metadata": {},
     "output_type": "execute_result"
    }
   ],
   "source": [
    "#Fit the parameter values in our object:\n",
    "kmf.fit(durations =  data[\"time\"], event_observed = data[\"dead\"])"
   ]
  },
  {
   "cell_type": "markdown",
   "id": "2613694b",
   "metadata": {},
   "source": [
    "#####  Generar tabla de eventos:"
   ]
  },
  {
   "cell_type": "markdown",
   "id": "4693b19d",
   "metadata": {},
   "source": [
    "Uno de los métodos más importantes del objeto kmf es \"event_table\". Nos da diversa información para nuestro análisis de supervivencia. Echemos un vistazo columna por columna."
   ]
  },
  {
   "cell_type": "code",
   "execution_count": 14,
   "id": "f1901431",
   "metadata": {},
   "outputs": [
    {
     "data": {
      "text/html": [
       "<div>\n",
       "<style scoped>\n",
       "    .dataframe tbody tr th:only-of-type {\n",
       "        vertical-align: middle;\n",
       "    }\n",
       "\n",
       "    .dataframe tbody tr th {\n",
       "        vertical-align: top;\n",
       "    }\n",
       "\n",
       "    .dataframe thead th {\n",
       "        text-align: right;\n",
       "    }\n",
       "</style>\n",
       "<table border=\"1\" class=\"dataframe\">\n",
       "  <thead>\n",
       "    <tr style=\"text-align: right;\">\n",
       "      <th></th>\n",
       "      <th>removed</th>\n",
       "      <th>observed</th>\n",
       "      <th>censored</th>\n",
       "      <th>entrance</th>\n",
       "      <th>at_risk</th>\n",
       "    </tr>\n",
       "    <tr>\n",
       "      <th>event_at</th>\n",
       "      <th></th>\n",
       "      <th></th>\n",
       "      <th></th>\n",
       "      <th></th>\n",
       "      <th></th>\n",
       "    </tr>\n",
       "  </thead>\n",
       "  <tbody>\n",
       "    <tr>\n",
       "      <th>0.0</th>\n",
       "      <td>0</td>\n",
       "      <td>0</td>\n",
       "      <td>0</td>\n",
       "      <td>205</td>\n",
       "      <td>205</td>\n",
       "    </tr>\n",
       "    <tr>\n",
       "      <th>10.0</th>\n",
       "      <td>1</td>\n",
       "      <td>1</td>\n",
       "      <td>0</td>\n",
       "      <td>0</td>\n",
       "      <td>205</td>\n",
       "    </tr>\n",
       "    <tr>\n",
       "      <th>30.0</th>\n",
       "      <td>1</td>\n",
       "      <td>1</td>\n",
       "      <td>0</td>\n",
       "      <td>0</td>\n",
       "      <td>204</td>\n",
       "    </tr>\n",
       "    <tr>\n",
       "      <th>35.0</th>\n",
       "      <td>1</td>\n",
       "      <td>1</td>\n",
       "      <td>0</td>\n",
       "      <td>0</td>\n",
       "      <td>203</td>\n",
       "    </tr>\n",
       "    <tr>\n",
       "      <th>99.0</th>\n",
       "      <td>1</td>\n",
       "      <td>1</td>\n",
       "      <td>0</td>\n",
       "      <td>0</td>\n",
       "      <td>202</td>\n",
       "    </tr>\n",
       "    <tr>\n",
       "      <th>...</th>\n",
       "      <td>...</td>\n",
       "      <td>...</td>\n",
       "      <td>...</td>\n",
       "      <td>...</td>\n",
       "      <td>...</td>\n",
       "    </tr>\n",
       "    <tr>\n",
       "      <th>4492.0</th>\n",
       "      <td>1</td>\n",
       "      <td>1</td>\n",
       "      <td>0</td>\n",
       "      <td>0</td>\n",
       "      <td>5</td>\n",
       "    </tr>\n",
       "    <tr>\n",
       "      <th>4668.0</th>\n",
       "      <td>1</td>\n",
       "      <td>1</td>\n",
       "      <td>0</td>\n",
       "      <td>0</td>\n",
       "      <td>4</td>\n",
       "    </tr>\n",
       "    <tr>\n",
       "      <th>4688.0</th>\n",
       "      <td>1</td>\n",
       "      <td>1</td>\n",
       "      <td>0</td>\n",
       "      <td>0</td>\n",
       "      <td>3</td>\n",
       "    </tr>\n",
       "    <tr>\n",
       "      <th>4926.0</th>\n",
       "      <td>1</td>\n",
       "      <td>1</td>\n",
       "      <td>0</td>\n",
       "      <td>0</td>\n",
       "      <td>2</td>\n",
       "    </tr>\n",
       "    <tr>\n",
       "      <th>5565.0</th>\n",
       "      <td>1</td>\n",
       "      <td>1</td>\n",
       "      <td>0</td>\n",
       "      <td>0</td>\n",
       "      <td>1</td>\n",
       "    </tr>\n",
       "  </tbody>\n",
       "</table>\n",
       "<p>195 rows × 5 columns</p>\n",
       "</div>"
      ],
      "text/plain": [
       "          removed  observed  censored  entrance  at_risk\n",
       "event_at                                                \n",
       "0.0             0         0         0       205      205\n",
       "10.0            1         1         0         0      205\n",
       "30.0            1         1         0         0      204\n",
       "35.0            1         1         0         0      203\n",
       "99.0            1         1         0         0      202\n",
       "...           ...       ...       ...       ...      ...\n",
       "4492.0          1         1         0         0        5\n",
       "4668.0          1         1         0         0        4\n",
       "4688.0          1         1         0         0        3\n",
       "4926.0          1         1         0         0        2\n",
       "5565.0          1         1         0         0        1\n",
       "\n",
       "[195 rows x 5 columns]"
      ]
     },
     "execution_count": 14,
     "metadata": {},
     "output_type": "execute_result"
    }
   ],
   "source": [
    "#Print the event table:\n",
    "\n",
    "kmf.event_table\n",
    "\n",
    "# Removed = Observed + Censored\n",
    "# Censored = Person that didn't die.(They are of no use to us!)\n",
    "# Observed = Persons that died."
   ]
  },
  {
   "cell_type": "code",
   "execution_count": 39,
   "id": "397d7201",
   "metadata": {},
   "outputs": [
    {
     "name": "stdout",
     "output_type": "stream",
     "text": [
      "          removed  observed  censored  entrance  at_risk\n",
      "event_at                                                \n",
      "0.0             0         0         0       205      205\n",
      "10.0            1         1         0         0      205\n",
      "30.0            1         1         0         0      204\n",
      "35.0            1         1         0         0      203\n",
      "99.0            1         1         0         0      202\n",
      "...           ...       ...       ...       ...      ...\n",
      "4479.0          1         1         0         0        6\n",
      "4492.0          1         1         0         0        5\n",
      "4668.0          1         1         0         0        4\n",
      "4688.0          1         1         0         0        3\n",
      "4926.0          1         1         0         0        2\n",
      "\n",
      "[194 rows x 5 columns]\n"
     ]
    }
   ],
   "source": [
    "events_table = kmf.event_table\n",
    "# df.iloc[filas:columnas]\n",
    "# print(events_table.iloc[:20,:])\n",
    "print(events_table.head(-1))"
   ]
  },
  {
   "attachments": {
    "imagen-2.png": {
     "image/png": "[encoded data removed]"
    },
    "imagen.png": {
     "image/png": "[encoded data removed]"
    }
   },
   "cell_type": "markdown",
   "id": "29b822cd",
   "metadata": {},
   "source": [
    "a) event_at: Almacena el valor de la línea de tiempo para nuestro conjunto de datos. es decir, cuándo se observó al paciente en nuestro experimento o cuándo se realizó el experimento. Pueden ser varios minutos, días, meses, años y otros. En nuestro caso, será por muchos días. Almacena el valor de los días de supervivencia de los sujetos.\n",
    "\n",
    "b) at_risk: Almacena el número de pacientes actuales bajo observación. Al principio, será el número total de pacientes que vamos a observar en nuestro experimento. Si se agregan nuevos pacientes en un momento determinado, tenemos que aumentar su valor en consecuencia. Por lo tanto:\n",
    "\n",
    "![imagen-2.png](attachment:imagen-2.png)\n",
    "\n",
    "c) entrada: almacena el valor de los nuevos pacientes en una línea de tiempo determinada. Es posible que durante la experimentación, otros pacientes también sean diagnosticados con la enfermedad. Para dar cuenta de eso, tenemos la columna de entrada.\n",
    "\n",
    "d) censurado: Nuestro objetivo final es encontrar la probabilidad de supervivencia de un paciente. Al final del experimento, si la persona aún está viva, la agregaremos a la categoría censurada. Ya hemos discutido los tipos de censura.\n",
    "\n",
    "e) observado: Almacena el valor del número de sujetos que murieron durante el experimento. Desde una perspectiva amplia, estas son las personas que conocieron nuestro evento de interés.\n",
    "\n",
    "f) eliminado: Almacena los valores de los pacientes que ya no forman parte de nuestro experimento. Si una persona muere o es censurada, entra en esta categoría. En resumen, es una adición de los datos en la categoría de observados y censurados.\n",
    "\n",
    "![imagen.png](attachment:imagen.png)"
   ]
  },
  {
   "cell_type": "markdown",
   "id": "0f6261b8",
   "metadata": {},
   "source": [
    "##### Cálculo de la probabilidad de supervivencia para líneas de tiempo individuales:"
   ]
  },
  {
   "attachments": {
    "imagen.png": {
     "image/png": "[encoded data removed]"
    }
   },
   "cell_type": "markdown",
   "id": "78ff956b",
   "metadata": {},
   "source": [
    "Veamos primero la fórmula para calcular la supervivencia de una persona en particular en un momento dado.\n",
    "\n",
    "![imagen.png](attachment:imagen.png)"
   ]
  },
  {
   "cell_type": "markdown",
   "id": "6534995f",
   "metadata": {},
   "source": [
    "a) Probabilidad de supervivencia en t = 0 únicamente:"
   ]
  },
  {
   "cell_type": "code",
   "execution_count": 16,
   "id": "9da42d9b",
   "metadata": {},
   "outputs": [
    {
     "name": "stdout",
     "output_type": "stream",
     "text": [
      "1.0\n"
     ]
    }
   ],
   "source": [
    "#Calculamos la probabilidad de suvervivencia en un instante de tiempo t:\n",
    "\n",
    "# Indicamos que queremos coger la primera fila t = 0  y todas las columnas\n",
    "event_at_0 = kmf.event_table.iloc[0,:]  \n",
    "\n",
    "#Calculamos la probabilidad de suvervivencia en un instante de tiempo t=0:\n",
    "\n",
    "#Accedemos a las columnas del dataframe con dataframe.columna\n",
    "surv_for_0 = (event_at_0.at_risk - event_at_0.observed)/event_at_0.at_risk\n",
    "\n",
    "# La probabilidad de supervivencia en el instante t=0 será del 100%\n",
    "print(surv_for_0)"
   ]
  },
  {
   "cell_type": "markdown",
   "id": "dc42fe71",
   "metadata": {},
   "source": [
    "b) Probabilidad de supervivencia en t = 10:"
   ]
  },
  {
   "cell_type": "code",
   "execution_count": 36,
   "id": "d116d8dd",
   "metadata": {},
   "outputs": [
    {
     "name": "stdout",
     "output_type": "stream",
     "text": [
      "event_at\n",
      "10.0    0.995122\n",
      "dtype: float64\n"
     ]
    }
   ],
   "source": [
    "event_table_10 = events_table[events_table.index == 10.0]\n",
    "# event_table_10 = kmf.event_table.iloc[1,:]  \n",
    "\n",
    "#Calculamos la probabilidad de suvervivencia en un instante de tiempo t=10:\n",
    "\n",
    "#Accedemos a las columnas del dataframe con dataframe.columna\n",
    "surv_for_10 = (event_table_10.at_risk - event_table_10.observed)/event_table_10.at_risk\n",
    "\n",
    "# La probabilidad de supervivencia en el instante t=0 será del 100%\n",
    "print(surv_for_10)"
   ]
  },
  {
   "cell_type": "code",
   "execution_count": 35,
   "id": "41bc1ab6",
   "metadata": {},
   "outputs": [
    {
     "data": {
      "text/plain": [
       "event_at\n",
       "659.0    1.0\n",
       "dtype: float64"
      ]
     },
     "execution_count": 35,
     "metadata": {},
     "output_type": "execute_result"
    }
   ],
   "source": [
    "#Calculating the survival probability for a given time:\n",
    "event_at_659 = events_table[events_table.index == 659.0]\n",
    "#Calculate the survival probability for t=5:\n",
    "surv_for_659 = (event_at_659.at_risk - event_at_659.observed)/event_at_659.at_risk\n",
    "surv_for_659"
   ]
  },
  {
   "cell_type": "markdown",
   "id": "0627e62a",
   "metadata": {},
   "source": [
    "Ahora, lo que encontramos aquí es la probabilidad para un tiempo específico. Lo que queremos es la probabilidad de todo el tiempo para un paciente. es decir, la probabilidad de que el paciente sobreviva a todas las rondas del experimento.\n",
    "\n",
    "En pocas palabras, queremos encontrar la probabilidad de que una persona sobreviva todo el tiempo que vivió después del diagnóstico. Lo que acabamos de encontrar es la probabilidad de un experimento en particular solamente."
   ]
  },
  {
   "cell_type": "markdown",
   "id": "57ef56e6",
   "metadata": {},
   "source": [
    "#### Predecir la probabilidad:\n",
    "Ahora, la función de predicción del objeto kmf hace todo este trabajo por nosotros. Sin embargo, siempre es una buena práctica conocer la lógica detrás de esto."
   ]
  },
  {
   "cell_type": "code",
   "execution_count": 40,
   "id": "93d43621",
   "metadata": {},
   "outputs": [
    {
     "name": "stdout",
     "output_type": "stream",
     "text": [
      "Survival probability for t=0:  1.0\n",
      "Survival probability for t=5:  0.9705073109775152\n",
      "Survival probability for t=11:  0.9653993777618443\n",
      "Survival probability for t=11:  0.007564720241682766\n"
     ]
    }
   ],
   "source": [
    "#Get the probability values the easy way!\n",
    "print(\"Survival probability for t=0: \",kmf.predict(0))\n",
    "print(\"Survival probability for t=5: \",kmf.predict(426))\n",
    "print(\"Survival probability for t=11: \",kmf.predict(659))\n",
    "print(\"Survival probability for t=11: \",kmf.predict(4926))"
   ]
  },
  {
   "cell_type": "markdown",
   "id": "5197b707",
   "metadata": {},
   "source": [
    "##### Encontrar la probabilidad de supervivencia para una matriz de la línea de tiempo:"
   ]
  },
  {
   "cell_type": "code",
   "execution_count": 41,
   "id": "921249fd",
   "metadata": {},
   "outputs": [
    {
     "data": {
      "text/plain": [
       "0       1.000000\n",
       "426     0.970507\n",
       "659     0.965399\n",
       "4926    0.007565\n",
       "Name: KM_estimate, dtype: float64"
      ]
     },
     "execution_count": 41,
     "metadata": {},
     "output_type": "execute_result"
    }
   ],
   "source": [
    "kmf.predict([0,426,659,4926])"
   ]
  },
  {
   "cell_type": "markdown",
   "id": "d15ec3d7",
   "metadata": {},
   "source": [
    "##### Obtenga la probabilidad de supervivencia para toda la línea de tiempo:"
   ]
  },
  {
   "cell_type": "code",
   "execution_count": 42,
   "id": "8d6c5b61",
   "metadata": {},
   "outputs": [
    {
     "data": {
      "text/html": [
       "<div>\n",
       "<style scoped>\n",
       "    .dataframe tbody tr th:only-of-type {\n",
       "        vertical-align: middle;\n",
       "    }\n",
       "\n",
       "    .dataframe tbody tr th {\n",
       "        vertical-align: top;\n",
       "    }\n",
       "\n",
       "    .dataframe thead th {\n",
       "        text-align: right;\n",
       "    }\n",
       "</style>\n",
       "<table border=\"1\" class=\"dataframe\">\n",
       "  <thead>\n",
       "    <tr style=\"text-align: right;\">\n",
       "      <th></th>\n",
       "      <th>KM_estimate</th>\n",
       "    </tr>\n",
       "    <tr>\n",
       "      <th>timeline</th>\n",
       "      <th></th>\n",
       "    </tr>\n",
       "  </thead>\n",
       "  <tbody>\n",
       "    <tr>\n",
       "      <th>0.0</th>\n",
       "      <td>1.000000</td>\n",
       "    </tr>\n",
       "    <tr>\n",
       "      <th>10.0</th>\n",
       "      <td>0.995122</td>\n",
       "    </tr>\n",
       "    <tr>\n",
       "      <th>30.0</th>\n",
       "      <td>0.990244</td>\n",
       "    </tr>\n",
       "    <tr>\n",
       "      <th>35.0</th>\n",
       "      <td>0.985366</td>\n",
       "    </tr>\n",
       "    <tr>\n",
       "      <th>99.0</th>\n",
       "      <td>0.980488</td>\n",
       "    </tr>\n",
       "    <tr>\n",
       "      <th>...</th>\n",
       "      <td>...</td>\n",
       "    </tr>\n",
       "    <tr>\n",
       "      <th>4492.0</th>\n",
       "      <td>0.030259</td>\n",
       "    </tr>\n",
       "    <tr>\n",
       "      <th>4668.0</th>\n",
       "      <td>0.022694</td>\n",
       "    </tr>\n",
       "    <tr>\n",
       "      <th>4688.0</th>\n",
       "      <td>0.015129</td>\n",
       "    </tr>\n",
       "    <tr>\n",
       "      <th>4926.0</th>\n",
       "      <td>0.007565</td>\n",
       "    </tr>\n",
       "    <tr>\n",
       "      <th>5565.0</th>\n",
       "      <td>0.000000</td>\n",
       "    </tr>\n",
       "  </tbody>\n",
       "</table>\n",
       "<p>195 rows × 1 columns</p>\n",
       "</div>"
      ],
      "text/plain": [
       "          KM_estimate\n",
       "timeline             \n",
       "0.0          1.000000\n",
       "10.0         0.995122\n",
       "30.0         0.990244\n",
       "35.0         0.985366\n",
       "99.0         0.980488\n",
       "...               ...\n",
       "4492.0       0.030259\n",
       "4668.0       0.022694\n",
       "4688.0       0.015129\n",
       "4926.0       0.007565\n",
       "5565.0       0.000000\n",
       "\n",
       "[195 rows x 1 columns]"
      ]
     },
     "execution_count": 42,
     "metadata": {},
     "output_type": "execute_result"
    }
   ],
   "source": [
    "#To get the full list:\n",
    "kmf.survival_function_"
   ]
  },
  {
   "cell_type": "markdown",
   "id": "64d6d98c",
   "metadata": {},
   "source": [
    "La probabilidad de supervivencia de un paciente en la línea de tiempo 0 es 1. Al captar nuestros pensamientos, deducimos que la probabilidad de que una persona muera el primer día del diagnóstico es casi igual a 0. Por lo tanto, podemos decir que la probabilidad de supervivencia es tan alta como posible. A medida que aumenta la línea de tiempo, la probabilidad de supervivencia disminuye para un paciente."
   ]
  },
  {
   "cell_type": "markdown",
   "id": "22c4c8e9",
   "metadata": {},
   "source": [
    "##### Trace el gráfico:"
   ]
  },
  {
   "cell_type": "code",
   "execution_count": 43,
   "id": "5214e545",
   "metadata": {},
   "outputs": [
    {
     "data": {
      "text/plain": [
       "Text(0, 0.5, 'Probability of survival')"
      ]
     },
     "execution_count": 43,
     "metadata": {},
     "output_type": "execute_result"
    },
    {
     "data": {
      "image/png": "[encoded data removed]",
      "text/plain": [
       "<Figure size 432x288 with 1 Axes>"
      ]
     },
     "metadata": {
      "needs_background": "light"
     },
     "output_type": "display_data"
    }
   ],
   "source": [
    "#Plot the graph:\n",
    "kmf.plot()\n",
    "plt.title(\"The Kaplan-Meier Estimate\")\n",
    "plt.xlabel(\"Number of days\")\n",
    "plt.ylabel(\"Probability of survival\")"
   ]
  },
  {
   "cell_type": "markdown",
   "id": "4c7164e7",
   "metadata": {},
   "source": [
    "##### La mediana del número de días de supervivencia:\n",
    "Proporciona el número de días en los que, en promedio, sobrevivió el 50% de los pacientes."
   ]
  },
  {
   "cell_type": "code",
   "execution_count": 44,
   "id": "b9f56ed1",
   "metadata": {},
   "outputs": [
    {
     "name": "stdout",
     "output_type": "stream",
     "text": [
      "The median survival time:  2426.0\n"
     ]
    }
   ],
   "source": [
    "#The median number of days:\n",
    "print(\"The median survival time: \",kmf.median_survival_time_)"
   ]
  },
  {
   "cell_type": "markdown",
   "id": "1af91396",
   "metadata": {},
   "source": [
    "Del código anterior, podemos decir que, en promedio, una persona vivió 2426 días después del día del diagnóstico."
   ]
  },
  {
   "cell_type": "markdown",
   "id": "8277383d",
   "metadata": {},
   "source": [
    "##### Probabilidad de supervivencia con intervalo de confianza:"
   ]
  },
  {
   "cell_type": "code",
   "execution_count": 45,
   "id": "20bb26da",
   "metadata": {},
   "outputs": [
    {
     "data": {
      "text/html": [
       "<div>\n",
       "<style scoped>\n",
       "    .dataframe tbody tr th:only-of-type {\n",
       "        vertical-align: middle;\n",
       "    }\n",
       "\n",
       "    .dataframe tbody tr th {\n",
       "        vertical-align: top;\n",
       "    }\n",
       "\n",
       "    .dataframe thead th {\n",
       "        text-align: right;\n",
       "    }\n",
       "</style>\n",
       "<table border=\"1\" class=\"dataframe\">\n",
       "  <thead>\n",
       "    <tr style=\"text-align: right;\">\n",
       "      <th></th>\n",
       "      <th>KM_estimate_lower_0.95</th>\n",
       "      <th>KM_estimate_upper_0.95</th>\n",
       "    </tr>\n",
       "  </thead>\n",
       "  <tbody>\n",
       "    <tr>\n",
       "      <th>0.0</th>\n",
       "      <td>1.000000</td>\n",
       "      <td>1.000000</td>\n",
       "    </tr>\n",
       "    <tr>\n",
       "      <th>10.0</th>\n",
       "      <td>0.965881</td>\n",
       "      <td>0.999311</td>\n",
       "    </tr>\n",
       "    <tr>\n",
       "      <th>30.0</th>\n",
       "      <td>0.961558</td>\n",
       "      <td>0.997551</td>\n",
       "    </tr>\n",
       "    <tr>\n",
       "      <th>35.0</th>\n",
       "      <td>0.955319</td>\n",
       "      <td>0.995257</td>\n",
       "    </tr>\n",
       "    <tr>\n",
       "      <th>99.0</th>\n",
       "      <td>0.948851</td>\n",
       "      <td>0.992632</td>\n",
       "    </tr>\n",
       "    <tr>\n",
       "      <th>...</th>\n",
       "      <td>...</td>\n",
       "      <td>...</td>\n",
       "    </tr>\n",
       "    <tr>\n",
       "      <th>4492.0</th>\n",
       "      <td>0.010006</td>\n",
       "      <td>0.070138</td>\n",
       "    </tr>\n",
       "    <tr>\n",
       "      <th>4668.0</th>\n",
       "      <td>0.006201</td>\n",
       "      <td>0.059643</td>\n",
       "    </tr>\n",
       "    <tr>\n",
       "      <th>4688.0</th>\n",
       "      <td>0.002981</td>\n",
       "      <td>0.048781</td>\n",
       "    </tr>\n",
       "    <tr>\n",
       "      <th>4926.0</th>\n",
       "      <td>0.000688</td>\n",
       "      <td>0.037780</td>\n",
       "    </tr>\n",
       "    <tr>\n",
       "      <th>5565.0</th>\n",
       "      <td>0.000000</td>\n",
       "      <td>0.000000</td>\n",
       "    </tr>\n",
       "  </tbody>\n",
       "</table>\n",
       "<p>195 rows × 2 columns</p>\n",
       "</div>"
      ],
      "text/plain": [
       "        KM_estimate_lower_0.95  KM_estimate_upper_0.95\n",
       "0.0                   1.000000                1.000000\n",
       "10.0                  0.965881                0.999311\n",
       "30.0                  0.961558                0.997551\n",
       "35.0                  0.955319                0.995257\n",
       "99.0                  0.948851                0.992632\n",
       "...                        ...                     ...\n",
       "4492.0                0.010006                0.070138\n",
       "4668.0                0.006201                0.059643\n",
       "4688.0                0.002981                0.048781\n",
       "4926.0                0.000688                0.037780\n",
       "5565.0                0.000000                0.000000\n",
       "\n",
       "[195 rows x 2 columns]"
      ]
     },
     "execution_count": 45,
     "metadata": {},
     "output_type": "execute_result"
    }
   ],
   "source": [
    "# Estimación de la probabilidad de supervivencia con un intervalo de confianza.\n",
    "kmf.confidence_interval_survival_function_"
   ]
  },
  {
   "cell_type": "markdown",
   "id": "9a9e3a16",
   "metadata": {},
   "source": [
    "##### Gráfico de probabilidad de supervivencia con intervalo de confianza:"
   ]
  },
  {
   "cell_type": "code",
   "execution_count": 46,
   "id": "f22dcf7e",
   "metadata": {},
   "outputs": [
    {
     "data": {
      "text/plain": [
       "<matplotlib.legend.Legend at 0x7fb79d51ca60>"
      ]
     },
     "execution_count": 46,
     "metadata": {},
     "output_type": "execute_result"
    },
    {
     "data": {
      "image/png": "[encoded data removed]",
      "text/plain": [
       "<Figure size 432x288 with 1 Axes>"
      ]
     },
     "metadata": {
      "needs_background": "light"
     },
     "output_type": "display_data"
    }
   ],
   "source": [
    "#Plot survival function with confidence interval:\n",
    "confidence_surv_func = kmf.confidence_interval_survival_function_\n",
    "plt.plot(confidence_surv_func[\"KM_estimate_lower_0.95\"],label=\"Lower\")\n",
    "plt.plot(confidence_surv_func[\"KM_estimate_upper_0.95\"],label=\"Upper\")\n",
    "plt.title(\"Survival Function With Confidence Interval\")\n",
    "plt.xlabel(\"Number of days\")\n",
    "plt.ylabel(\"Survival Probability\")\n",
    "plt.legend()"
   ]
  },
  {
   "cell_type": "markdown",
   "id": "f6304682",
   "metadata": {},
   "source": [
    "Ahora toda la información que tenemos es para la supervivencia de una persona. Ahora veremos cuál es la probabilidad de que una persona muera en una línea de tiempo específica. Aquí observe que una mayor probabilidad de supervivencia es adecuada para una persona, ¡pero una mayor densidad acumulativa (probabilidad de que una persona muera) no es tan buena!"
   ]
  },
  {
   "attachments": {
    "imagen-2.png": {
     "image/png": "[encoded data removed]"
    },
    "imagen-3.png": {
     "image/png": "[encoded data removed]"
    },
    "imagen-4.png": {
     "image/png": "[encoded data removed]"
    },
    "imagen-5.png": {
     "image/png": "[encoded data removed]"
    },
    "imagen-6.png": {
     "image/png": "[encoded data removed]"
    },
    "imagen-7.png": {
     "image/png": "[encoded data removed]"
    },
    "imagen-8.png": {
     "image/png": "[encoded data removed]"
    },
    "imagen.png": {
     "image/png": "[encoded data removed]"
    }
   },
   "cell_type": "markdown",
   "id": "4d932a10",
   "metadata": {},
   "source": [
    "##### Probabilidad de que una persona muera:\n",
    "\n",
    "![imagen.png](attachment:imagen.png)\n",
    "\n",
    "Aquí el valor del denominador está sujeto a riesgo en la fila anterior.\n",
    "\n",
    "La fórmula de la densidad acumulativa:\n",
    "\n",
    "![imagen-2.png](attachment:imagen-2.png)\n",
    "\n",
    "a) Probabilidad de que una persona muera en t = 0:\n",
    "\n",
    "![imagen-3.png](attachment:imagen-3.png)\n",
    "\n",
    "b) Probabilidad de que una persona muera en t = 5:\n",
    "\n",
    "![imagen-4.png](attachment:imagen-4.png)\n",
    "\n",
    "c) Probabilidad de que una persona muera en t = 11:\n",
    "\n",
    "![imagen-5.png](attachment:imagen-5.png)\n",
    "\n",
    "Encuentre la densidad acumulada:\n",
    "d) Densidad acumulada en t = 0:\n",
    "\n",
    "![imagen-6.png](attachment:imagen-6.png)\n",
    "\n",
    "e) Densidad acumulada en t = 5:\n",
    "\n",
    "![imagen-7.png](attachment:imagen-7.png)\n",
    "\n",
    "f) Densidad acumulada en t = 11:\n",
    "\n",
    "![imagen-8.png](attachment:imagen-8.png)"
   ]
  },
  {
   "cell_type": "code",
   "execution_count": 47,
   "id": "1dabb86b",
   "metadata": {},
   "outputs": [
    {
     "data": {
      "text/html": [
       "<div>\n",
       "<style scoped>\n",
       "    .dataframe tbody tr th:only-of-type {\n",
       "        vertical-align: middle;\n",
       "    }\n",
       "\n",
       "    .dataframe tbody tr th {\n",
       "        vertical-align: top;\n",
       "    }\n",
       "\n",
       "    .dataframe thead th {\n",
       "        text-align: right;\n",
       "    }\n",
       "</style>\n",
       "<table border=\"1\" class=\"dataframe\">\n",
       "  <thead>\n",
       "    <tr style=\"text-align: right;\">\n",
       "      <th></th>\n",
       "      <th>KM_estimate</th>\n",
       "    </tr>\n",
       "    <tr>\n",
       "      <th>timeline</th>\n",
       "      <th></th>\n",
       "    </tr>\n",
       "  </thead>\n",
       "  <tbody>\n",
       "    <tr>\n",
       "      <th>0.0</th>\n",
       "      <td>0.000000</td>\n",
       "    </tr>\n",
       "    <tr>\n",
       "      <th>10.0</th>\n",
       "      <td>0.004878</td>\n",
       "    </tr>\n",
       "    <tr>\n",
       "      <th>30.0</th>\n",
       "      <td>0.009756</td>\n",
       "    </tr>\n",
       "    <tr>\n",
       "      <th>35.0</th>\n",
       "      <td>0.014634</td>\n",
       "    </tr>\n",
       "    <tr>\n",
       "      <th>99.0</th>\n",
       "      <td>0.019512</td>\n",
       "    </tr>\n",
       "    <tr>\n",
       "      <th>...</th>\n",
       "      <td>...</td>\n",
       "    </tr>\n",
       "    <tr>\n",
       "      <th>4492.0</th>\n",
       "      <td>0.969741</td>\n",
       "    </tr>\n",
       "    <tr>\n",
       "      <th>4668.0</th>\n",
       "      <td>0.977306</td>\n",
       "    </tr>\n",
       "    <tr>\n",
       "      <th>4688.0</th>\n",
       "      <td>0.984871</td>\n",
       "    </tr>\n",
       "    <tr>\n",
       "      <th>4926.0</th>\n",
       "      <td>0.992435</td>\n",
       "    </tr>\n",
       "    <tr>\n",
       "      <th>5565.0</th>\n",
       "      <td>1.000000</td>\n",
       "    </tr>\n",
       "  </tbody>\n",
       "</table>\n",
       "<p>195 rows × 1 columns</p>\n",
       "</div>"
      ],
      "text/plain": [
       "          KM_estimate\n",
       "timeline             \n",
       "0.0          0.000000\n",
       "10.0         0.004878\n",
       "30.0         0.009756\n",
       "35.0         0.014634\n",
       "99.0         0.019512\n",
       "...               ...\n",
       "4492.0       0.969741\n",
       "4668.0       0.977306\n",
       "4688.0       0.984871\n",
       "4926.0       0.992435\n",
       "5565.0       1.000000\n",
       "\n",
       "[195 rows x 1 columns]"
      ]
     },
     "execution_count": 47,
     "metadata": {},
     "output_type": "execute_result"
    }
   ],
   "source": [
    "#Probabaility of a subject dying:\n",
    "#p(1022) = p(0) +......+p(1022)\n",
    "kmf.cumulative_density_"
   ]
  },
  {
   "cell_type": "markdown",
   "id": "36da0ce3",
   "metadata": {},
   "source": [
    "##### Trace el gráfico de densidad acumulada:"
   ]
  },
  {
   "cell_type": "code",
   "execution_count": 48,
   "id": "b932df9d",
   "metadata": {},
   "outputs": [
    {
     "data": {
      "text/plain": [
       "Text(0, 0.5, \"Probability of person's death\")"
      ]
     },
     "execution_count": 48,
     "metadata": {},
     "output_type": "execute_result"
    },
    {
     "data": {
      "image/png": "[encoded data removed]",
      "text/plain": [
       "<Figure size 432x288 with 1 Axes>"
      ]
     },
     "metadata": {
      "needs_background": "light"
     },
     "output_type": "display_data"
    }
   ],
   "source": [
    "#Plot the cumulative density graph:\n",
    "kmf.plot_cumulative_density()\n",
    "plt.title(\"Cumulative Density Plot\")\n",
    "plt.xlabel(\"Number of days\")\n",
    "plt.ylabel(\"Probability of person's death\")"
   ]
  },
  {
   "cell_type": "markdown",
   "id": "cf2ccef8",
   "metadata": {},
   "source": [
    "Observe que, a medida que aumenta el número de días de supervivencia, aumenta la probabilidad de que una persona muera."
   ]
  },
  {
   "cell_type": "markdown",
   "id": "ae8486fc",
   "metadata": {},
   "source": [
    "##### La densidad acumulada con intervalo de confianza:"
   ]
  },
  {
   "cell_type": "code",
   "execution_count": 49,
   "id": "077689f4",
   "metadata": {},
   "outputs": [
    {
     "data": {
      "text/html": [
       "<div>\n",
       "<style scoped>\n",
       "    .dataframe tbody tr th:only-of-type {\n",
       "        vertical-align: middle;\n",
       "    }\n",
       "\n",
       "    .dataframe tbody tr th {\n",
       "        vertical-align: top;\n",
       "    }\n",
       "\n",
       "    .dataframe thead th {\n",
       "        text-align: right;\n",
       "    }\n",
       "</style>\n",
       "<table border=\"1\" class=\"dataframe\">\n",
       "  <thead>\n",
       "    <tr style=\"text-align: right;\">\n",
       "      <th></th>\n",
       "      <th>KM_estimate_lower_0.95</th>\n",
       "      <th>KM_estimate_upper_0.95</th>\n",
       "    </tr>\n",
       "  </thead>\n",
       "  <tbody>\n",
       "    <tr>\n",
       "      <th>0.0</th>\n",
       "      <td>0.000000</td>\n",
       "      <td>0.000000</td>\n",
       "    </tr>\n",
       "    <tr>\n",
       "      <th>10.0</th>\n",
       "      <td>0.034119</td>\n",
       "      <td>0.000689</td>\n",
       "    </tr>\n",
       "    <tr>\n",
       "      <th>30.0</th>\n",
       "      <td>0.038442</td>\n",
       "      <td>0.002449</td>\n",
       "    </tr>\n",
       "    <tr>\n",
       "      <th>35.0</th>\n",
       "      <td>0.044681</td>\n",
       "      <td>0.004743</td>\n",
       "    </tr>\n",
       "    <tr>\n",
       "      <th>99.0</th>\n",
       "      <td>0.051149</td>\n",
       "      <td>0.007368</td>\n",
       "    </tr>\n",
       "    <tr>\n",
       "      <th>...</th>\n",
       "      <td>...</td>\n",
       "      <td>...</td>\n",
       "    </tr>\n",
       "    <tr>\n",
       "      <th>4492.0</th>\n",
       "      <td>0.989994</td>\n",
       "      <td>0.929862</td>\n",
       "    </tr>\n",
       "    <tr>\n",
       "      <th>4668.0</th>\n",
       "      <td>0.993799</td>\n",
       "      <td>0.940357</td>\n",
       "    </tr>\n",
       "    <tr>\n",
       "      <th>4688.0</th>\n",
       "      <td>0.997019</td>\n",
       "      <td>0.951219</td>\n",
       "    </tr>\n",
       "    <tr>\n",
       "      <th>4926.0</th>\n",
       "      <td>0.999312</td>\n",
       "      <td>0.962220</td>\n",
       "    </tr>\n",
       "    <tr>\n",
       "      <th>5565.0</th>\n",
       "      <td>1.000000</td>\n",
       "      <td>1.000000</td>\n",
       "    </tr>\n",
       "  </tbody>\n",
       "</table>\n",
       "<p>195 rows × 2 columns</p>\n",
       "</div>"
      ],
      "text/plain": [
       "        KM_estimate_lower_0.95  KM_estimate_upper_0.95\n",
       "0.0                   0.000000                0.000000\n",
       "10.0                  0.034119                0.000689\n",
       "30.0                  0.038442                0.002449\n",
       "35.0                  0.044681                0.004743\n",
       "99.0                  0.051149                0.007368\n",
       "...                        ...                     ...\n",
       "4492.0                0.989994                0.929862\n",
       "4668.0                0.993799                0.940357\n",
       "4688.0                0.997019                0.951219\n",
       "4926.0                0.999312                0.962220\n",
       "5565.0                1.000000                1.000000\n",
       "\n",
       "[195 rows x 2 columns]"
      ]
     },
     "execution_count": 49,
     "metadata": {},
     "output_type": "execute_result"
    }
   ],
   "source": [
    "#Cumulative density with confidence interval:\n",
    "kmf.confidence_interval_cumulative_density_"
   ]
  },
  {
   "cell_type": "markdown",
   "id": "c5733acb",
   "metadata": {},
   "source": [
    "##### Gráfico de densidad acumulada con intervalo de confianza:"
   ]
  },
  {
   "cell_type": "code",
   "execution_count": 50,
   "id": "2f9be171",
   "metadata": {},
   "outputs": [
    {
     "data": {
      "text/plain": [
       "<matplotlib.legend.Legend at 0x7fb79d117610>"
      ]
     },
     "execution_count": 50,
     "metadata": {},
     "output_type": "execute_result"
    },
    {
     "data": {
      "image/png": "[encoded data removed]",
      "text/plain": [
       "<Figure size 432x288 with 1 Axes>"
      ]
     },
     "metadata": {
      "needs_background": "light"
     },
     "output_type": "display_data"
    }
   ],
   "source": [
    "#Plot cumulative density with confidence interval:\n",
    "confidence_cumulative_density = kmf.confidence_interval_cumulative_density_\n",
    "plt.plot(kmf.confidence_interval_cumulative_density_[\"KM_estimate_lower_0.95\"],label=\"Lower\")\n",
    "plt.plot(kmf.confidence_interval_cumulative_density_[\"KM_estimate_upper_0.95\"],label=\"Upper\")\n",
    "plt.title(\"Cumulative Density With Confidence Interval\")\n",
    "plt.xlabel(\"Number of days\")\n",
    "plt.ylabel(\"Cumulative Density\")\n",
    "plt.legend()"
   ]
  },
  {
   "cell_type": "markdown",
   "id": "5efb5000",
   "metadata": {},
   "source": [
    "##### Obtenga la densidad acumulativa para un día en particular:"
   ]
  },
  {
   "cell_type": "code",
   "execution_count": 51,
   "id": "f506b583",
   "metadata": {},
   "outputs": [
    {
     "data": {
      "text/plain": [
       "200    0.019512\n",
       "Name: KM_estimate, dtype: float64"
      ]
     },
     "execution_count": 51,
     "metadata": {},
     "output_type": "execute_result"
    }
   ],
   "source": [
    "#Densidad acumulada con intervalo de confianza mayor al 95%\n",
    "#Encontramos en el punto t=200\n",
    "kmf.cumulative_density_at_times(times=200)"
   ]
  },
  {
   "cell_type": "markdown",
   "id": "37d2eb57",
   "metadata": {},
   "source": [
    "##### El tiempo medio hasta un evento:"
   ]
  },
  {
   "cell_type": "code",
   "execution_count": 52,
   "id": "7d26729d",
   "metadata": {},
   "outputs": [
    {
     "data": {
      "text/html": [
       "<div>\n",
       "<style scoped>\n",
       "    .dataframe tbody tr th:only-of-type {\n",
       "        vertical-align: middle;\n",
       "    }\n",
       "\n",
       "    .dataframe tbody tr th {\n",
       "        vertical-align: top;\n",
       "    }\n",
       "\n",
       "    .dataframe thead th {\n",
       "        text-align: right;\n",
       "    }\n",
       "</style>\n",
       "<table border=\"1\" class=\"dataframe\">\n",
       "  <thead>\n",
       "    <tr style=\"text-align: right;\">\n",
       "      <th></th>\n",
       "      <th>KM_estimate - Conditional median duration remaining to event</th>\n",
       "    </tr>\n",
       "    <tr>\n",
       "      <th>timeline</th>\n",
       "      <th></th>\n",
       "    </tr>\n",
       "  </thead>\n",
       "  <tbody>\n",
       "    <tr>\n",
       "      <th>0.0</th>\n",
       "      <td>2426.0</td>\n",
       "    </tr>\n",
       "    <tr>\n",
       "      <th>10.0</th>\n",
       "      <td>2416.0</td>\n",
       "    </tr>\n",
       "    <tr>\n",
       "      <th>30.0</th>\n",
       "      <td>2396.0</td>\n",
       "    </tr>\n",
       "    <tr>\n",
       "      <th>35.0</th>\n",
       "      <td>2391.0</td>\n",
       "    </tr>\n",
       "    <tr>\n",
       "      <th>99.0</th>\n",
       "      <td>2327.0</td>\n",
       "    </tr>\n",
       "    <tr>\n",
       "      <th>...</th>\n",
       "      <td>...</td>\n",
       "    </tr>\n",
       "    <tr>\n",
       "      <th>4492.0</th>\n",
       "      <td>196.0</td>\n",
       "    </tr>\n",
       "    <tr>\n",
       "      <th>4668.0</th>\n",
       "      <td>258.0</td>\n",
       "    </tr>\n",
       "    <tr>\n",
       "      <th>4688.0</th>\n",
       "      <td>238.0</td>\n",
       "    </tr>\n",
       "    <tr>\n",
       "      <th>4926.0</th>\n",
       "      <td>639.0</td>\n",
       "    </tr>\n",
       "    <tr>\n",
       "      <th>5565.0</th>\n",
       "      <td>0.0</td>\n",
       "    </tr>\n",
       "  </tbody>\n",
       "</table>\n",
       "<p>195 rows × 1 columns</p>\n",
       "</div>"
      ],
      "text/plain": [
       "          KM_estimate - Conditional median duration remaining to event\n",
       "timeline                                                              \n",
       "0.0                                                  2426.0           \n",
       "10.0                                                 2416.0           \n",
       "30.0                                                 2396.0           \n",
       "35.0                                                 2391.0           \n",
       "99.0                                                 2327.0           \n",
       "...                                                     ...           \n",
       "4492.0                                                196.0           \n",
       "4668.0                                                258.0           \n",
       "4688.0                                                238.0           \n",
       "4926.0                                                639.0           \n",
       "5565.0                                                  0.0           \n",
       "\n",
       "[195 rows x 1 columns]"
      ]
     },
     "execution_count": 52,
     "metadata": {},
     "output_type": "execute_result"
    }
   ],
   "source": [
    "#Podemos obtener la cantidad de tiempo restante del tiempo medio de supervivencia.\n",
    "kmf.conditional_time_to_event_"
   ]
  },
  {
   "cell_type": "markdown",
   "id": "3d6428f7",
   "metadata": {},
   "source": [
    "##### Gráfico de la mediana del tiempo transcurrido hasta el evento:"
   ]
  },
  {
   "cell_type": "code",
   "execution_count": 53,
   "id": "4c7d5f0b",
   "metadata": {},
   "outputs": [
    {
     "data": {
      "text/plain": [
       "<matplotlib.legend.Legend at 0x7fb79d0e1c40>"
      ]
     },
     "execution_count": 53,
     "metadata": {},
     "output_type": "execute_result"
    },
    {
     "data": {
      "image/png": "[encoded data removed]",
      "text/plain": [
       "<Figure size 432x288 with 1 Axes>"
      ]
     },
     "metadata": {
      "needs_background": "light"
     },
     "output_type": "display_data"
    }
   ],
   "source": [
    "#Conditional median time left for event:\n",
    "median_time_to_event = kmf.conditional_time_to_event_\n",
    "plt.plot(median_time_to_event,label=\"Median Time left\")\n",
    "plt.title(\"Medain time to event\")\n",
    "plt.xlabel(\"Total days\")\n",
    "plt.ylabel(\"Conditional median time to event\")\n",
    "plt.legend()"
   ]
  },
  {
   "attachments": {
    "imagen.png": {
     "image/png": "[encoded data removed]"
    }
   },
   "cell_type": "markdown",
   "id": "3d200915",
   "metadata": {},
   "source": [
    "## Estimación de las tasas de riesgo mediante Nelson-Aalen\n",
    "### Función de peligro H (t):\n",
    "Hasta ahora, discutimos la función de supervivencia de Kaplan-Meier. Usando eso, podemos obtener la probabilidad de que el evento de interés (muerte en nuestro caso) no ocurra en ese momento. Las funciones de supervivencia son una excelente manera de resumir y visualizar el conjunto de datos de supervivencia; sin embargo, no es la única forma. Podemos visualizar la información agregada sobre supervivencia utilizando la función de riesgo de Nelson-Aalen h (t). La función de riesgo h (t) nos da la probabilidad de que un sujeto bajo observación en el momento t tenga un evento de interés (muerte) en ese momento. Para obtener la información sobre la función de riesgo, no podemos transformar el estimador de Kaplan-Meier. Para eso, existe un estimador no paramétrico adecuado de la función de riesgo acumulativo :\n",
    "\n",
    "Función de riesgo acumulativo:\n",
    "\n",
    "![imagen.png](attachment:imagen.png)\n",
    "\n",
    "##### Importe las bibliotecas necesarias:"
   ]
  },
  {
   "cell_type": "code",
   "execution_count": 54,
   "id": "46abcb96",
   "metadata": {},
   "outputs": [
    {
     "data": {
      "text/plain": [
       "<lifelines.NelsonAalenFitter:\"NA_estimate\", fitted with 205 total observations, 57 right-censored observations>"
      ]
     },
     "execution_count": 54,
     "metadata": {},
     "output_type": "execute_result"
    }
   ],
   "source": [
    "#Hazard function:\n",
    "from lifelines import NelsonAalenFitter\n",
    "\n",
    "#Crea un objeto de Nelson-Aalen-Fitter:\n",
    "naf = NelsonAalenFitter()\n",
    "\n",
    "#Ajuste de los datos:\n",
    "naf.fit(data[\"time\"], event_observed=data[\"dead\"])"
   ]
  },
  {
   "cell_type": "markdown",
   "id": "669eec42",
   "metadata": {},
   "source": [
    "##### Encontrar el peligro acumulativo:\n",
    "Aquí usaremos la tabla de eventos generada en la parte anterior para comprender cómo funciona realmente la función de peligro."
   ]
  },
  {
   "cell_type": "code",
   "execution_count": 55,
   "id": "16e92a96",
   "metadata": {},
   "outputs": [
    {
     "data": {
      "text/html": [
       "<div>\n",
       "<style scoped>\n",
       "    .dataframe tbody tr th:only-of-type {\n",
       "        vertical-align: middle;\n",
       "    }\n",
       "\n",
       "    .dataframe tbody tr th {\n",
       "        vertical-align: top;\n",
       "    }\n",
       "\n",
       "    .dataframe thead th {\n",
       "        text-align: right;\n",
       "    }\n",
       "</style>\n",
       "<table border=\"1\" class=\"dataframe\">\n",
       "  <thead>\n",
       "    <tr style=\"text-align: right;\">\n",
       "      <th></th>\n",
       "      <th>removed</th>\n",
       "      <th>observed</th>\n",
       "      <th>censored</th>\n",
       "      <th>entrance</th>\n",
       "      <th>at_risk</th>\n",
       "    </tr>\n",
       "    <tr>\n",
       "      <th>event_at</th>\n",
       "      <th></th>\n",
       "      <th></th>\n",
       "      <th></th>\n",
       "      <th></th>\n",
       "      <th></th>\n",
       "    </tr>\n",
       "  </thead>\n",
       "  <tbody>\n",
       "    <tr>\n",
       "      <th>0.0</th>\n",
       "      <td>0</td>\n",
       "      <td>0</td>\n",
       "      <td>0</td>\n",
       "      <td>205</td>\n",
       "      <td>205</td>\n",
       "    </tr>\n",
       "    <tr>\n",
       "      <th>10.0</th>\n",
       "      <td>1</td>\n",
       "      <td>1</td>\n",
       "      <td>0</td>\n",
       "      <td>0</td>\n",
       "      <td>205</td>\n",
       "    </tr>\n",
       "    <tr>\n",
       "      <th>30.0</th>\n",
       "      <td>1</td>\n",
       "      <td>1</td>\n",
       "      <td>0</td>\n",
       "      <td>0</td>\n",
       "      <td>204</td>\n",
       "    </tr>\n",
       "    <tr>\n",
       "      <th>35.0</th>\n",
       "      <td>1</td>\n",
       "      <td>1</td>\n",
       "      <td>0</td>\n",
       "      <td>0</td>\n",
       "      <td>203</td>\n",
       "    </tr>\n",
       "    <tr>\n",
       "      <th>99.0</th>\n",
       "      <td>1</td>\n",
       "      <td>1</td>\n",
       "      <td>0</td>\n",
       "      <td>0</td>\n",
       "      <td>202</td>\n",
       "    </tr>\n",
       "    <tr>\n",
       "      <th>...</th>\n",
       "      <td>...</td>\n",
       "      <td>...</td>\n",
       "      <td>...</td>\n",
       "      <td>...</td>\n",
       "      <td>...</td>\n",
       "    </tr>\n",
       "    <tr>\n",
       "      <th>4492.0</th>\n",
       "      <td>1</td>\n",
       "      <td>1</td>\n",
       "      <td>0</td>\n",
       "      <td>0</td>\n",
       "      <td>5</td>\n",
       "    </tr>\n",
       "    <tr>\n",
       "      <th>4668.0</th>\n",
       "      <td>1</td>\n",
       "      <td>1</td>\n",
       "      <td>0</td>\n",
       "      <td>0</td>\n",
       "      <td>4</td>\n",
       "    </tr>\n",
       "    <tr>\n",
       "      <th>4688.0</th>\n",
       "      <td>1</td>\n",
       "      <td>1</td>\n",
       "      <td>0</td>\n",
       "      <td>0</td>\n",
       "      <td>3</td>\n",
       "    </tr>\n",
       "    <tr>\n",
       "      <th>4926.0</th>\n",
       "      <td>1</td>\n",
       "      <td>1</td>\n",
       "      <td>0</td>\n",
       "      <td>0</td>\n",
       "      <td>2</td>\n",
       "    </tr>\n",
       "    <tr>\n",
       "      <th>5565.0</th>\n",
       "      <td>1</td>\n",
       "      <td>1</td>\n",
       "      <td>0</td>\n",
       "      <td>0</td>\n",
       "      <td>1</td>\n",
       "    </tr>\n",
       "  </tbody>\n",
       "</table>\n",
       "<p>195 rows × 5 columns</p>\n",
       "</div>"
      ],
      "text/plain": [
       "          removed  observed  censored  entrance  at_risk\n",
       "event_at                                                \n",
       "0.0             0         0         0       205      205\n",
       "10.0            1         1         0         0      205\n",
       "30.0            1         1         0         0      204\n",
       "35.0            1         1         0         0      203\n",
       "99.0            1         1         0         0      202\n",
       "...           ...       ...       ...       ...      ...\n",
       "4492.0          1         1         0         0        5\n",
       "4668.0          1         1         0         0        4\n",
       "4688.0          1         1         0         0        3\n",
       "4926.0          1         1         0         0        2\n",
       "5565.0          1         1         0         0        1\n",
       "\n",
       "[195 rows x 5 columns]"
      ]
     },
     "execution_count": 55,
     "metadata": {},
     "output_type": "execute_result"
    }
   ],
   "source": [
    "kmf.event_table"
   ]
  },
  {
   "attachments": {
    "imagen-2.png": {
     "image/png": "[encoded data removed]"
    },
    "imagen-3.png": {
     "image/png": "[encoded data removed]"
    },
    "imagen-4.png": {
     "image/png": "[encoded data removed]"
    },
    "imagen-5.png": {
     "image/png": "[encoded data removed]"
    },
    "imagen-6.png": {
     "image/png": "[encoded data removed]"
    },
    "imagen-7.png": {
     "image/png": "[encoded data removed]"
    },
    "imagen.png": {
     "image/png": "[encoded data removed]"
    }
   },
   "cell_type": "markdown",
   "id": "14cfeb98",
   "metadata": {},
   "source": [
    "Aquí está la fórmula para encontrar la probabilidad de peligro no acumulativa en un momento específico:\n",
    "\n",
    "![imagen.png](attachment:imagen.png)\n",
    "\n",
    "a) Hallar la probabilidad de peligro en t = 0:\n",
    "\n",
    "![imagen-2.png](attachment:imagen-2.png)\n",
    "\n",
    "b) Encontrar la probabilidad de peligro en t = 5:\n",
    "\n",
    "![imagen-3.png](attachment:imagen-3.png)\n",
    "\n",
    "c) Encontrar la probabilidad de peligro en t = 11:\n",
    "\n",
    "![imagen-4.png](attachment:imagen-4.png)\n",
    "\n",
    "d) Encontrar la probabilidad de peligro acumulada en t = 0:\n",
    "\n",
    "![imagen-5.png](attachment:imagen-5.png)\n",
    "\n",
    "e) Hallar la probabilidad de peligro acumulada en t = 5:\n",
    "\n",
    "![imagen-6.png](attachment:imagen-6.png)\n",
    "\n",
    "f) Encontrar la probabilidad de peligro acumulada en t = 11:\n",
    "\n",
    "![imagen-7.png](attachment:imagen-7.png)"
   ]
  },
  {
   "cell_type": "code",
   "execution_count": 56,
   "id": "3a2f9331",
   "metadata": {},
   "outputs": [
    {
     "data": {
      "text/html": [
       "<div>\n",
       "<style scoped>\n",
       "    .dataframe tbody tr th:only-of-type {\n",
       "        vertical-align: middle;\n",
       "    }\n",
       "\n",
       "    .dataframe tbody tr th {\n",
       "        vertical-align: top;\n",
       "    }\n",
       "\n",
       "    .dataframe thead th {\n",
       "        text-align: right;\n",
       "    }\n",
       "</style>\n",
       "<table border=\"1\" class=\"dataframe\">\n",
       "  <thead>\n",
       "    <tr style=\"text-align: right;\">\n",
       "      <th></th>\n",
       "      <th>NA_estimate</th>\n",
       "    </tr>\n",
       "    <tr>\n",
       "      <th>timeline</th>\n",
       "      <th></th>\n",
       "    </tr>\n",
       "  </thead>\n",
       "  <tbody>\n",
       "    <tr>\n",
       "      <th>0.0</th>\n",
       "      <td>0.000000</td>\n",
       "    </tr>\n",
       "    <tr>\n",
       "      <th>10.0</th>\n",
       "      <td>0.004878</td>\n",
       "    </tr>\n",
       "    <tr>\n",
       "      <th>30.0</th>\n",
       "      <td>0.009780</td>\n",
       "    </tr>\n",
       "    <tr>\n",
       "      <th>35.0</th>\n",
       "      <td>0.014706</td>\n",
       "    </tr>\n",
       "    <tr>\n",
       "      <th>99.0</th>\n",
       "      <td>0.019657</td>\n",
       "    </tr>\n",
       "    <tr>\n",
       "      <th>...</th>\n",
       "      <td>...</td>\n",
       "    </tr>\n",
       "    <tr>\n",
       "      <th>4492.0</th>\n",
       "      <td>3.382799</td>\n",
       "    </tr>\n",
       "    <tr>\n",
       "      <th>4668.0</th>\n",
       "      <td>3.632799</td>\n",
       "    </tr>\n",
       "    <tr>\n",
       "      <th>4688.0</th>\n",
       "      <td>3.966132</td>\n",
       "    </tr>\n",
       "    <tr>\n",
       "      <th>4926.0</th>\n",
       "      <td>4.466132</td>\n",
       "    </tr>\n",
       "    <tr>\n",
       "      <th>5565.0</th>\n",
       "      <td>5.466132</td>\n",
       "    </tr>\n",
       "  </tbody>\n",
       "</table>\n",
       "<p>195 rows × 1 columns</p>\n",
       "</div>"
      ],
      "text/plain": [
       "          NA_estimate\n",
       "timeline             \n",
       "0.0          0.000000\n",
       "10.0         0.004878\n",
       "30.0         0.009780\n",
       "35.0         0.014706\n",
       "99.0         0.019657\n",
       "...               ...\n",
       "4492.0       3.382799\n",
       "4668.0       3.632799\n",
       "4688.0       3.966132\n",
       "4926.0       4.466132\n",
       "5565.0       5.466132\n",
       "\n",
       "[195 rows x 1 columns]"
      ]
     },
     "execution_count": 56,
     "metadata": {},
     "output_type": "execute_result"
    }
   ],
   "source": [
    "#Print the cumulative hazard:\n",
    "naf.cumulative_hazard_"
   ]
  },
  {
   "cell_type": "markdown",
   "id": "41c45d34",
   "metadata": {},
   "source": [
    "##### Trace el gráfico de peligro acumulativo"
   ]
  },
  {
   "cell_type": "code",
   "execution_count": 57,
   "id": "0124ce58",
   "metadata": {},
   "outputs": [
    {
     "data": {
      "text/plain": [
       "Text(0, 0.5, \"Cumulative Probability of person's death\")"
      ]
     },
     "execution_count": 57,
     "metadata": {},
     "output_type": "execute_result"
    },
    {
     "data": {
      "image/png": "[encoded data removed]",
      "text/plain": [
       "<Figure size 432x288 with 1 Axes>"
      ]
     },
     "metadata": {
      "needs_background": "light"
     },
     "output_type": "display_data"
    }
   ],
   "source": [
    "#Plot the cumulative hazard grpah:\n",
    "naf.plot_cumulative_hazard()\n",
    "plt.title(\"Cumulative Probability for Event of Interest\")\n",
    "plt.xlabel(\"Number of days\")\n",
    "plt.ylabel(\"Cumulative Probability of person's death\")"
   ]
  },
  {
   "cell_type": "markdown",
   "id": "ebcefe32",
   "metadata": {},
   "source": [
    "El peligro acumulativo tiene una comprensión menos clara que las funciones de supervivencia, pero las funciones de peligro se basan en técnicas de análisis de supervivencia más avanzadas."
   ]
  },
  {
   "cell_type": "markdown",
   "id": "088b687e",
   "metadata": {},
   "source": [
    "##### Predecir un valor"
   ]
  },
  {
   "cell_type": "code",
   "execution_count": 58,
   "id": "2d81f137",
   "metadata": {},
   "outputs": [
    {
     "name": "stdout",
     "output_type": "stream",
     "text": [
      "Time = 500 days:  0.035124915109189914\n",
      "Time = 1022 days:  0.04071150728796091\n"
     ]
    }
   ],
   "source": [
    "#We can predict the value at a certain point :\n",
    "print(\"Time = 500 days: \",naf.predict(500))\n",
    "print(\"Time = 1022 days: \",naf.predict(1022))"
   ]
  },
  {
   "cell_type": "markdown",
   "id": "7554a621",
   "metadata": {},
   "source": [
    "##### Probabilidad de peligro acumulada con intervalo de confianza"
   ]
  },
  {
   "cell_type": "code",
   "execution_count": 59,
   "id": "ee7f121e",
   "metadata": {},
   "outputs": [
    {
     "data": {
      "text/html": [
       "<div>\n",
       "<style scoped>\n",
       "    .dataframe tbody tr th:only-of-type {\n",
       "        vertical-align: middle;\n",
       "    }\n",
       "\n",
       "    .dataframe tbody tr th {\n",
       "        vertical-align: top;\n",
       "    }\n",
       "\n",
       "    .dataframe thead th {\n",
       "        text-align: right;\n",
       "    }\n",
       "</style>\n",
       "<table border=\"1\" class=\"dataframe\">\n",
       "  <thead>\n",
       "    <tr style=\"text-align: right;\">\n",
       "      <th></th>\n",
       "      <th>NA_estimate_lower_0.95</th>\n",
       "      <th>NA_estimate_upper_0.95</th>\n",
       "    </tr>\n",
       "  </thead>\n",
       "  <tbody>\n",
       "    <tr>\n",
       "      <th>0.0</th>\n",
       "      <td>0.000000</td>\n",
       "      <td>0.000000</td>\n",
       "    </tr>\n",
       "    <tr>\n",
       "      <th>10.0</th>\n",
       "      <td>0.000687</td>\n",
       "      <td>0.034630</td>\n",
       "    </tr>\n",
       "    <tr>\n",
       "      <th>30.0</th>\n",
       "      <td>0.002446</td>\n",
       "      <td>0.039105</td>\n",
       "    </tr>\n",
       "    <tr>\n",
       "      <th>35.0</th>\n",
       "      <td>0.004743</td>\n",
       "      <td>0.045598</td>\n",
       "    </tr>\n",
       "    <tr>\n",
       "      <th>99.0</th>\n",
       "      <td>0.007377</td>\n",
       "      <td>0.052374</td>\n",
       "    </tr>\n",
       "    <tr>\n",
       "      <th>...</th>\n",
       "      <td>...</td>\n",
       "      <td>...</td>\n",
       "    </tr>\n",
       "    <tr>\n",
       "      <th>4492.0</th>\n",
       "      <td>2.590611</td>\n",
       "      <td>4.417231</td>\n",
       "    </tr>\n",
       "    <tr>\n",
       "      <th>4668.0</th>\n",
       "      <td>2.738207</td>\n",
       "      <td>4.819659</td>\n",
       "    </tr>\n",
       "    <tr>\n",
       "      <th>4688.0</th>\n",
       "      <td>2.917994</td>\n",
       "      <td>5.390759</td>\n",
       "    </tr>\n",
       "    <tr>\n",
       "      <th>4926.0</th>\n",
       "      <td>3.147573</td>\n",
       "      <td>6.337053</td>\n",
       "    </tr>\n",
       "    <tr>\n",
       "      <th>5565.0</th>\n",
       "      <td>3.455580</td>\n",
       "      <td>8.646479</td>\n",
       "    </tr>\n",
       "  </tbody>\n",
       "</table>\n",
       "<p>195 rows × 2 columns</p>\n",
       "</div>"
      ],
      "text/plain": [
       "        NA_estimate_lower_0.95  NA_estimate_upper_0.95\n",
       "0.0                   0.000000                0.000000\n",
       "10.0                  0.000687                0.034630\n",
       "30.0                  0.002446                0.039105\n",
       "35.0                  0.004743                0.045598\n",
       "99.0                  0.007377                0.052374\n",
       "...                        ...                     ...\n",
       "4492.0                2.590611                4.417231\n",
       "4668.0                2.738207                4.819659\n",
       "4688.0                2.917994                5.390759\n",
       "4926.0                3.147573                6.337053\n",
       "5565.0                3.455580                8.646479\n",
       "\n",
       "[195 rows x 2 columns]"
      ]
     },
     "execution_count": 59,
     "metadata": {},
     "output_type": "execute_result"
    }
   ],
   "source": [
    "#Cumulative hazard with confidence interval:\n",
    "naf.confidence_interval_"
   ]
  },
  {
   "cell_type": "markdown",
   "id": "e169d612",
   "metadata": {},
   "source": [
    "##### Gráfico de probabilidad de peligro acumulada con intervalo de confianza"
   ]
  },
  {
   "cell_type": "code",
   "execution_count": 60,
   "id": "9ef4412d",
   "metadata": {},
   "outputs": [
    {
     "data": {
      "text/plain": [
       "<matplotlib.legend.Legend at 0x7fb79cff8730>"
      ]
     },
     "execution_count": 60,
     "metadata": {},
     "output_type": "execute_result"
    },
    {
     "data": {
      "image/png": "[encoded data removed]",
      "text/plain": [
       "<Figure size 432x288 with 1 Axes>"
      ]
     },
     "metadata": {
      "needs_background": "light"
     },
     "output_type": "display_data"
    }
   ],
   "source": [
    "#Plot cumulative hazard with confidence interval:\n",
    "confidence_interval = naf.confidence_interval_\n",
    "plt.plot(confidence_interval[\"NA_estimate_lower_0.95\"],label=\"Lower\")\n",
    "plt.plot(confidence_interval[\"NA_estimate_upper_0.95\"],label=\"Upper\")\n",
    "plt.title(\"Cumulative hazard With Confidence Interval\")\n",
    "plt.xlabel(\"Number of days\")\n",
    "plt.ylabel(\"Cumulative hazard\")\n",
    "plt.legend()"
   ]
  },
  {
   "cell_type": "markdown",
   "id": "48eed94e",
   "metadata": {},
   "source": [
    "##### Peligro acumulativo frente a densidad acumulada"
   ]
  },
  {
   "cell_type": "code",
   "execution_count": 61,
   "id": "903d5e02",
   "metadata": {},
   "outputs": [
    {
     "data": {
      "text/plain": [
       "Text(0.5, 0, 'Number of Days')"
      ]
     },
     "execution_count": 61,
     "metadata": {},
     "output_type": "execute_result"
    },
    {
     "data": {
      "image/png": "[encoded data removed]",
      "text/plain": [
       "<Figure size 432x288 with 1 Axes>"
      ]
     },
     "metadata": {
      "needs_background": "light"
     },
     "output_type": "display_data"
    }
   ],
   "source": [
    "#Plot the cumulative_hazard and cumulative density:\n",
    "kmf.plot_cumulative_density(label=\"Cumulative Hazard\")\n",
    "naf.plot_cumulative_hazard(label=\"Cumulative Density\")\n",
    "plt.xlabel(\"Number of Days\")"
   ]
  }
 ],
 "metadata": {
  "kernelspec": {
   "display_name": "Python 3 (ipykernel)",
   "language": "python",
   "name": "python3"
  },
  "language_info": {
   "codemirror_mode": {
    "name": "ipython",
    "version": 3
   },
   "file_extension": ".py",
   "mimetype": "text/x-python",
   "name": "python",
   "nbconvert_exporter": "python",
   "pygments_lexer": "ipython3",
   "version": "3.8.12"
  }
 },
 "nbformat": 4,
 "nbformat_minor": 5
}
