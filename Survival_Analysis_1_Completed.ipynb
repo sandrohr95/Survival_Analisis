{
 "cells": [
  {
   "cell_type": "markdown",
   "id": "d7f36cf3",
   "metadata": {},
   "source": [
    "# Análisis de Supervivencia"
   ]
  },
  {
   "cell_type": "markdown",
   "id": "1bdbe300",
   "metadata": {},
   "source": [
    "Tabla de contenido:\n",
    "- Conceptos básicos del análisis de supervivencia\n",
    "- Teoría del ajustador de Kaplan-Meier con un ejemplo.\n",
    "- Teoría del ajustador de Nelson-Aalen con un ejemplo.\n",
    "- Instalador Kaplan-Meier basado en diferentes grupos.\n",
    "- Prueba de rango logarítmico con un ejemplo.\n",
    "- Regresión de Cox con un ejemplo.\n",
    "- Recursos."
   ]
  },
  {
   "cell_type": "markdown",
   "id": "30e0808d",
   "metadata": {},
   "source": [
    "##### Instalación de librerías mendiantes pip install o conda install\n"
   ]
  },
  {
   "cell_type": "markdown",
   "id": "d8ba7783",
   "metadata": {},
   "source": [
    "- pip install lifelines\n",
    "- pip install panda\n",
    "- pip install numpy\n",
    "- pip install matplotlib"
   ]
  },
  {
   "cell_type": "code",
   "execution_count": 1,
   "id": "8f3fa6f2",
   "metadata": {},
   "outputs": [],
   "source": [
    "#Importamos las librerías Necesarias para trabajar\n",
    "import pandas as pd\n",
    "import numpy as np\n",
    "import matplotlib.pyplot as plt\n",
    "from lifelines import KaplanMeierFitter"
   ]
  },
  {
   "cell_type": "markdown",
   "id": "83e2aefa",
   "metadata": {},
   "source": [
    "##### Descargamos los datos"
   ]
  },
  {
   "cell_type": "code",
   "execution_count": 2,
   "id": "adf9d423",
   "metadata": {},
   "outputs": [],
   "source": [
    "# !wget https://raw.githubusercontent.com/towardsai/tutorials/master/survival_analysis_in_python/lung.csv"
   ]
  },
  {
   "cell_type": "markdown",
   "id": "ca2d39fd",
   "metadata": {},
   "source": [
    "##### Lectura del dataset:"
   ]
  },
  {
   "cell_type": "code",
   "execution_count": 3,
   "id": "53da847c",
   "metadata": {},
   "outputs": [
    {
     "data": {
      "text/html": [
       "<div>\n",
       "<style scoped>\n",
       "    .dataframe tbody tr th:only-of-type {\n",
       "        vertical-align: middle;\n",
       "    }\n",
       "\n",
       "    .dataframe tbody tr th {\n",
       "        vertical-align: top;\n",
       "    }\n",
       "\n",
       "    .dataframe thead th {\n",
       "        text-align: right;\n",
       "    }\n",
       "</style>\n",
       "<table border=\"1\" class=\"dataframe\">\n",
       "  <thead>\n",
       "    <tr style=\"text-align: right;\">\n",
       "      <th></th>\n",
       "      <th>Unnamed: 0</th>\n",
       "      <th>inst</th>\n",
       "      <th>time</th>\n",
       "      <th>status</th>\n",
       "      <th>age</th>\n",
       "      <th>sex</th>\n",
       "      <th>ph.ecog</th>\n",
       "      <th>ph.karno</th>\n",
       "      <th>pat.karno</th>\n",
       "      <th>meal.cal</th>\n",
       "      <th>wt.loss</th>\n",
       "    </tr>\n",
       "  </thead>\n",
       "  <tbody>\n",
       "    <tr>\n",
       "      <th>0</th>\n",
       "      <td>1</td>\n",
       "      <td>3.0</td>\n",
       "      <td>306</td>\n",
       "      <td>2</td>\n",
       "      <td>74</td>\n",
       "      <td>1</td>\n",
       "      <td>1.0</td>\n",
       "      <td>90.0</td>\n",
       "      <td>100.0</td>\n",
       "      <td>1175.0</td>\n",
       "      <td>NaN</td>\n",
       "    </tr>\n",
       "    <tr>\n",
       "      <th>1</th>\n",
       "      <td>2</td>\n",
       "      <td>3.0</td>\n",
       "      <td>455</td>\n",
       "      <td>2</td>\n",
       "      <td>68</td>\n",
       "      <td>1</td>\n",
       "      <td>0.0</td>\n",
       "      <td>90.0</td>\n",
       "      <td>90.0</td>\n",
       "      <td>1225.0</td>\n",
       "      <td>15.0</td>\n",
       "    </tr>\n",
       "    <tr>\n",
       "      <th>2</th>\n",
       "      <td>3</td>\n",
       "      <td>3.0</td>\n",
       "      <td>1010</td>\n",
       "      <td>1</td>\n",
       "      <td>56</td>\n",
       "      <td>1</td>\n",
       "      <td>0.0</td>\n",
       "      <td>90.0</td>\n",
       "      <td>90.0</td>\n",
       "      <td>NaN</td>\n",
       "      <td>15.0</td>\n",
       "    </tr>\n",
       "    <tr>\n",
       "      <th>3</th>\n",
       "      <td>4</td>\n",
       "      <td>5.0</td>\n",
       "      <td>210</td>\n",
       "      <td>2</td>\n",
       "      <td>57</td>\n",
       "      <td>1</td>\n",
       "      <td>1.0</td>\n",
       "      <td>90.0</td>\n",
       "      <td>60.0</td>\n",
       "      <td>1150.0</td>\n",
       "      <td>11.0</td>\n",
       "    </tr>\n",
       "    <tr>\n",
       "      <th>4</th>\n",
       "      <td>5</td>\n",
       "      <td>1.0</td>\n",
       "      <td>883</td>\n",
       "      <td>2</td>\n",
       "      <td>60</td>\n",
       "      <td>1</td>\n",
       "      <td>0.0</td>\n",
       "      <td>100.0</td>\n",
       "      <td>90.0</td>\n",
       "      <td>NaN</td>\n",
       "      <td>0.0</td>\n",
       "    </tr>\n",
       "  </tbody>\n",
       "</table>\n",
       "</div>"
      ],
      "text/plain": [
       "   Unnamed: 0  inst  time  status  age  sex  ph.ecog  ph.karno  pat.karno  \\\n",
       "0           1   3.0   306       2   74    1      1.0      90.0      100.0   \n",
       "1           2   3.0   455       2   68    1      0.0      90.0       90.0   \n",
       "2           3   3.0  1010       1   56    1      0.0      90.0       90.0   \n",
       "3           4   5.0   210       2   57    1      1.0      90.0       60.0   \n",
       "4           5   1.0   883       2   60    1      0.0     100.0       90.0   \n",
       "\n",
       "   meal.cal  wt.loss  \n",
       "0    1175.0      NaN  \n",
       "1    1225.0     15.0  \n",
       "2       NaN     15.0  \n",
       "3    1150.0     11.0  \n",
       "4       NaN      0.0  "
      ]
     },
     "execution_count": 3,
     "metadata": {},
     "output_type": "execute_result"
    }
   ],
   "source": [
    "data = pd.read_csv(\"lung.csv\")\n",
    "data.head()"
   ]
  },
  {
   "attachments": {
    "imagen.png": {
     "image/png": "[encoded data removed]"
    }
   },
   "cell_type": "markdown",
   "id": "de6ecff4",
   "metadata": {},
   "source": [
    "##### Descripción de los datos\n",
    "\n",
    "![imagen.png](attachment:imagen.png)\n",
    "\n",
    "##### Escala ECOG\n",
    "La escala ECOG es una forma práctica de medir la calidad de vida de un paciente exclusivamente con cáncer u oncológico, cuyas expectativas de vida cambian en el transcurso de meses, semanas e incluso días. \n",
    "\n",
    "La escala ECOG valora la evolución de las capacidades del paciente en su vida diaria manteniendo al máximo su autonomía. Este dato es muy importante cuando se plantea un tratamiento, ya que de esta escala dependerá el protocolo terapéutico y el pronóstico de la enfermedad.\n",
    "\n",
    "\n",
    "https://es.wikipedia.org/wiki/Escala_ECOG\n",
    "\n",
    "##### Escala Karnofsky\n",
    "La Escala Karnofsky, también llamada, KPS, es la forma típica de medir la capacidad de los pacientes con cáncer de realizar tareas rutinarias. Los puntajes de la escala de rendimiento de Karnofsky oscilan entre 0 y 100. Un puntaje más alto significa que el paciente tiene mejor capacidad de realizar las actividades cotidianas. La KPS se puede usar para determinar el pronóstico del paciente, medir los cambios en la capacidad del paciente para funcionar o decidir si un paciente puede ser incluido en un estudio clínico. \n",
    "\n",
    "https://es.wikipedia.org/wiki/Escala_Karnofsky"
   ]
  },
  {
   "cell_type": "markdown",
   "id": "6223b23a",
   "metadata": {},
   "source": [
    "#####  Imprima las columnas en nuestro conjunto de datos:"
   ]
  },
  {
   "cell_type": "code",
   "execution_count": 4,
   "id": "878ebcb4",
   "metadata": {},
   "outputs": [
    {
     "name": "stdout",
     "output_type": "stream",
     "text": [
      "Index(['Unnamed: 0', 'inst', 'time', 'status', 'age', 'sex', 'ph.ecog',\n",
      "       'ph.karno', 'pat.karno', 'meal.cal', 'wt.loss'],\n",
      "      dtype='object')\n"
     ]
    }
   ],
   "source": [
    "#Print the column names of our data:\n",
    "print(data.columns)"
   ]
  },
  {
   "cell_type": "markdown",
   "id": "800ec6f8",
   "metadata": {},
   "source": [
    "##### Limpieza de los datos"
   ]
  },
  {
   "cell_type": "markdown",
   "id": "26977641",
   "metadata": {},
   "source": [
    "Necesitamos eliminar las columnas que no ofrecen información a nuestro modelo de predicción"
   ]
  },
  {
   "cell_type": "code",
   "execution_count": 5,
   "id": "40628bb4",
   "metadata": {},
   "outputs": [
    {
     "data": {
      "text/html": [
       "<div>\n",
       "<style scoped>\n",
       "    .dataframe tbody tr th:only-of-type {\n",
       "        vertical-align: middle;\n",
       "    }\n",
       "\n",
       "    .dataframe tbody tr th {\n",
       "        vertical-align: top;\n",
       "    }\n",
       "\n",
       "    .dataframe thead th {\n",
       "        text-align: right;\n",
       "    }\n",
       "</style>\n",
       "<table border=\"1\" class=\"dataframe\">\n",
       "  <thead>\n",
       "    <tr style=\"text-align: right;\">\n",
       "      <th></th>\n",
       "      <th>Unnamed: 0</th>\n",
       "      <th>inst</th>\n",
       "      <th>time</th>\n",
       "      <th>status</th>\n",
       "      <th>age</th>\n",
       "      <th>sex</th>\n",
       "      <th>ph.ecog</th>\n",
       "      <th>ph.karno</th>\n",
       "      <th>pat.karno</th>\n",
       "      <th>meal.cal</th>\n",
       "      <th>wt.loss</th>\n",
       "    </tr>\n",
       "  </thead>\n",
       "  <tbody>\n",
       "    <tr>\n",
       "      <th>0</th>\n",
       "      <td>1</td>\n",
       "      <td>3.0</td>\n",
       "      <td>306</td>\n",
       "      <td>2</td>\n",
       "      <td>74</td>\n",
       "      <td>1</td>\n",
       "      <td>1.0</td>\n",
       "      <td>90.0</td>\n",
       "      <td>100.0</td>\n",
       "      <td>1175.0</td>\n",
       "      <td>NaN</td>\n",
       "    </tr>\n",
       "    <tr>\n",
       "      <th>1</th>\n",
       "      <td>2</td>\n",
       "      <td>3.0</td>\n",
       "      <td>455</td>\n",
       "      <td>2</td>\n",
       "      <td>68</td>\n",
       "      <td>1</td>\n",
       "      <td>0.0</td>\n",
       "      <td>90.0</td>\n",
       "      <td>90.0</td>\n",
       "      <td>1225.0</td>\n",
       "      <td>15.0</td>\n",
       "    </tr>\n",
       "    <tr>\n",
       "      <th>2</th>\n",
       "      <td>3</td>\n",
       "      <td>3.0</td>\n",
       "      <td>1010</td>\n",
       "      <td>1</td>\n",
       "      <td>56</td>\n",
       "      <td>1</td>\n",
       "      <td>0.0</td>\n",
       "      <td>90.0</td>\n",
       "      <td>90.0</td>\n",
       "      <td>NaN</td>\n",
       "      <td>15.0</td>\n",
       "    </tr>\n",
       "    <tr>\n",
       "      <th>3</th>\n",
       "      <td>4</td>\n",
       "      <td>5.0</td>\n",
       "      <td>210</td>\n",
       "      <td>2</td>\n",
       "      <td>57</td>\n",
       "      <td>1</td>\n",
       "      <td>1.0</td>\n",
       "      <td>90.0</td>\n",
       "      <td>60.0</td>\n",
       "      <td>1150.0</td>\n",
       "      <td>11.0</td>\n",
       "    </tr>\n",
       "    <tr>\n",
       "      <th>4</th>\n",
       "      <td>5</td>\n",
       "      <td>1.0</td>\n",
       "      <td>883</td>\n",
       "      <td>2</td>\n",
       "      <td>60</td>\n",
       "      <td>1</td>\n",
       "      <td>0.0</td>\n",
       "      <td>100.0</td>\n",
       "      <td>90.0</td>\n",
       "      <td>NaN</td>\n",
       "      <td>0.0</td>\n",
       "    </tr>\n",
       "  </tbody>\n",
       "</table>\n",
       "</div>"
      ],
      "text/plain": [
       "   Unnamed: 0  inst  time  status  age  sex  ph.ecog  ph.karno  pat.karno  \\\n",
       "0           1   3.0   306       2   74    1      1.0      90.0      100.0   \n",
       "1           2   3.0   455       2   68    1      0.0      90.0       90.0   \n",
       "2           3   3.0  1010       1   56    1      0.0      90.0       90.0   \n",
       "3           4   5.0   210       2   57    1      1.0      90.0       60.0   \n",
       "4           5   1.0   883       2   60    1      0.0     100.0       90.0   \n",
       "\n",
       "   meal.cal  wt.loss  \n",
       "0    1175.0      NaN  \n",
       "1    1225.0     15.0  \n",
       "2       NaN     15.0  \n",
       "3    1150.0     11.0  \n",
       "4       NaN      0.0  "
      ]
     },
     "execution_count": 5,
     "metadata": {},
     "output_type": "execute_result"
    }
   ],
   "source": [
    "data.drop(columns=['Unnamed: 0'])\n",
    "# Si queremos eliminar varias columnas:\n",
    "# data.drop(columns=['Unnamed: 0','sex'])\n",
    "data.head()"
   ]
  },
  {
   "cell_type": "markdown",
   "id": "0bec7863",
   "metadata": {},
   "source": [
    "##### Obtenga información adicional sobre el conjunto de datos:"
   ]
  },
  {
   "cell_type": "markdown",
   "id": "5b8a3702",
   "metadata": {},
   "source": [
    "Nos da información sobre el tipo de datos de las columnas junto con su contador de valor nulo. Necesitamos eliminar las filas con un valor nulo para algunos de los métodos de análisis de supervivencia."
   ]
  },
  {
   "cell_type": "code",
   "execution_count": 6,
   "id": "0927a3ce",
   "metadata": {},
   "outputs": [
    {
     "name": "stdout",
     "output_type": "stream",
     "text": [
      "<class 'pandas.core.frame.DataFrame'>\n",
      "RangeIndex: 228 entries, 0 to 227\n",
      "Data columns (total 11 columns):\n",
      " #   Column      Non-Null Count  Dtype  \n",
      "---  ------      --------------  -----  \n",
      " 0   Unnamed: 0  228 non-null    int64  \n",
      " 1   inst        227 non-null    float64\n",
      " 2   time        228 non-null    int64  \n",
      " 3   status      228 non-null    int64  \n",
      " 4   age         228 non-null    int64  \n",
      " 5   sex         228 non-null    int64  \n",
      " 6   ph.ecog     227 non-null    float64\n",
      " 7   ph.karno    227 non-null    float64\n",
      " 8   pat.karno   225 non-null    float64\n",
      " 9   meal.cal    181 non-null    float64\n",
      " 10  wt.loss     214 non-null    float64\n",
      "dtypes: float64(6), int64(5)\n",
      "memory usage: 19.7 KB\n"
     ]
    }
   ],
   "source": [
    "#Additional info about our dataset:\n",
    "data.info()"
   ]
  },
  {
   "cell_type": "markdown",
   "id": "8055aa96",
   "metadata": {},
   "source": [
    "##### Obtenga información estadística sobre el conjunto de datos:"
   ]
  },
  {
   "cell_type": "markdown",
   "id": "9dfdd270",
   "metadata": {},
   "source": [
    "Nos da alguna información estadística como el número total de filas, media, desviación estándar, valor mínimo, percentil 25, percentil 50, percentil 75 y valor máximo para cada columna."
   ]
  },
  {
   "cell_type": "code",
   "execution_count": 7,
   "id": "ea783a22",
   "metadata": {},
   "outputs": [
    {
     "data": {
      "text/html": [
       "<div>\n",
       "<style scoped>\n",
       "    .dataframe tbody tr th:only-of-type {\n",
       "        vertical-align: middle;\n",
       "    }\n",
       "\n",
       "    .dataframe tbody tr th {\n",
       "        vertical-align: top;\n",
       "    }\n",
       "\n",
       "    .dataframe thead th {\n",
       "        text-align: right;\n",
       "    }\n",
       "</style>\n",
       "<table border=\"1\" class=\"dataframe\">\n",
       "  <thead>\n",
       "    <tr style=\"text-align: right;\">\n",
       "      <th></th>\n",
       "      <th>Unnamed: 0</th>\n",
       "      <th>inst</th>\n",
       "      <th>time</th>\n",
       "      <th>status</th>\n",
       "      <th>age</th>\n",
       "      <th>sex</th>\n",
       "      <th>ph.ecog</th>\n",
       "      <th>ph.karno</th>\n",
       "      <th>pat.karno</th>\n",
       "      <th>meal.cal</th>\n",
       "      <th>wt.loss</th>\n",
       "    </tr>\n",
       "  </thead>\n",
       "  <tbody>\n",
       "    <tr>\n",
       "      <th>count</th>\n",
       "      <td>228.00000</td>\n",
       "      <td>227.000000</td>\n",
       "      <td>228.000000</td>\n",
       "      <td>228.000000</td>\n",
       "      <td>228.000000</td>\n",
       "      <td>228.000000</td>\n",
       "      <td>227.000000</td>\n",
       "      <td>227.000000</td>\n",
       "      <td>225.000000</td>\n",
       "      <td>181.000000</td>\n",
       "      <td>214.000000</td>\n",
       "    </tr>\n",
       "    <tr>\n",
       "      <th>mean</th>\n",
       "      <td>114.50000</td>\n",
       "      <td>11.088106</td>\n",
       "      <td>305.232456</td>\n",
       "      <td>1.723684</td>\n",
       "      <td>62.447368</td>\n",
       "      <td>1.394737</td>\n",
       "      <td>0.951542</td>\n",
       "      <td>81.938326</td>\n",
       "      <td>79.955556</td>\n",
       "      <td>928.779006</td>\n",
       "      <td>9.831776</td>\n",
       "    </tr>\n",
       "    <tr>\n",
       "      <th>std</th>\n",
       "      <td>65.96211</td>\n",
       "      <td>8.303491</td>\n",
       "      <td>210.645543</td>\n",
       "      <td>0.448159</td>\n",
       "      <td>9.073457</td>\n",
       "      <td>0.489870</td>\n",
       "      <td>0.717872</td>\n",
       "      <td>12.327955</td>\n",
       "      <td>14.623177</td>\n",
       "      <td>402.174707</td>\n",
       "      <td>13.139902</td>\n",
       "    </tr>\n",
       "    <tr>\n",
       "      <th>min</th>\n",
       "      <td>1.00000</td>\n",
       "      <td>1.000000</td>\n",
       "      <td>5.000000</td>\n",
       "      <td>1.000000</td>\n",
       "      <td>39.000000</td>\n",
       "      <td>1.000000</td>\n",
       "      <td>0.000000</td>\n",
       "      <td>50.000000</td>\n",
       "      <td>30.000000</td>\n",
       "      <td>96.000000</td>\n",
       "      <td>-24.000000</td>\n",
       "    </tr>\n",
       "    <tr>\n",
       "      <th>25%</th>\n",
       "      <td>57.75000</td>\n",
       "      <td>3.000000</td>\n",
       "      <td>166.750000</td>\n",
       "      <td>1.000000</td>\n",
       "      <td>56.000000</td>\n",
       "      <td>1.000000</td>\n",
       "      <td>0.000000</td>\n",
       "      <td>75.000000</td>\n",
       "      <td>70.000000</td>\n",
       "      <td>635.000000</td>\n",
       "      <td>0.000000</td>\n",
       "    </tr>\n",
       "    <tr>\n",
       "      <th>50%</th>\n",
       "      <td>114.50000</td>\n",
       "      <td>11.000000</td>\n",
       "      <td>255.500000</td>\n",
       "      <td>2.000000</td>\n",
       "      <td>63.000000</td>\n",
       "      <td>1.000000</td>\n",
       "      <td>1.000000</td>\n",
       "      <td>80.000000</td>\n",
       "      <td>80.000000</td>\n",
       "      <td>975.000000</td>\n",
       "      <td>7.000000</td>\n",
       "    </tr>\n",
       "    <tr>\n",
       "      <th>75%</th>\n",
       "      <td>171.25000</td>\n",
       "      <td>16.000000</td>\n",
       "      <td>396.500000</td>\n",
       "      <td>2.000000</td>\n",
       "      <td>69.000000</td>\n",
       "      <td>2.000000</td>\n",
       "      <td>1.000000</td>\n",
       "      <td>90.000000</td>\n",
       "      <td>90.000000</td>\n",
       "      <td>1150.000000</td>\n",
       "      <td>15.750000</td>\n",
       "    </tr>\n",
       "    <tr>\n",
       "      <th>max</th>\n",
       "      <td>228.00000</td>\n",
       "      <td>33.000000</td>\n",
       "      <td>1022.000000</td>\n",
       "      <td>2.000000</td>\n",
       "      <td>82.000000</td>\n",
       "      <td>2.000000</td>\n",
       "      <td>3.000000</td>\n",
       "      <td>100.000000</td>\n",
       "      <td>100.000000</td>\n",
       "      <td>2600.000000</td>\n",
       "      <td>68.000000</td>\n",
       "    </tr>\n",
       "  </tbody>\n",
       "</table>\n",
       "</div>"
      ],
      "text/plain": [
       "       Unnamed: 0        inst         time      status         age  \\\n",
       "count   228.00000  227.000000   228.000000  228.000000  228.000000   \n",
       "mean    114.50000   11.088106   305.232456    1.723684   62.447368   \n",
       "std      65.96211    8.303491   210.645543    0.448159    9.073457   \n",
       "min       1.00000    1.000000     5.000000    1.000000   39.000000   \n",
       "25%      57.75000    3.000000   166.750000    1.000000   56.000000   \n",
       "50%     114.50000   11.000000   255.500000    2.000000   63.000000   \n",
       "75%     171.25000   16.000000   396.500000    2.000000   69.000000   \n",
       "max     228.00000   33.000000  1022.000000    2.000000   82.000000   \n",
       "\n",
       "              sex     ph.ecog    ph.karno   pat.karno     meal.cal     wt.loss  \n",
       "count  228.000000  227.000000  227.000000  225.000000   181.000000  214.000000  \n",
       "mean     1.394737    0.951542   81.938326   79.955556   928.779006    9.831776  \n",
       "std      0.489870    0.717872   12.327955   14.623177   402.174707   13.139902  \n",
       "min      1.000000    0.000000   50.000000   30.000000    96.000000  -24.000000  \n",
       "25%      1.000000    0.000000   75.000000   70.000000   635.000000    0.000000  \n",
       "50%      1.000000    1.000000   80.000000   80.000000   975.000000    7.000000  \n",
       "75%      2.000000    1.000000   90.000000   90.000000  1150.000000   15.750000  \n",
       "max      2.000000    3.000000  100.000000  100.000000  2600.000000   68.000000  "
      ]
     },
     "execution_count": 7,
     "metadata": {},
     "output_type": "execute_result"
    }
   ],
   "source": [
    "#Statistical info about our dataset:\n",
    "data.describe()"
   ]
  },
  {
   "cell_type": "markdown",
   "id": "8e8e4de1",
   "metadata": {},
   "source": [
    "##### distribución mediante el histograma"
   ]
  },
  {
   "cell_type": "markdown",
   "id": "5f903db8",
   "metadata": {},
   "source": [
    "Esto nos da una idea general sobre cómo se distribuyen nuestros datos. En el siguiente gráfico, podemos ver que alrededor de 139 valores tienen un estado de 1, y aproximadamente 90 valores tienen un estado de 2, lo que significa que hay 139 hombres y alrededor de 90 mujeres en nuestro conjunto de datos."
   ]
  },
  {
   "cell_type": "code",
   "execution_count": 8,
   "id": "d623c306",
   "metadata": {},
   "outputs": [
    {
     "name": "stdout",
     "output_type": "stream",
     "text": [
      "AxesSubplot(0.125,0.125;0.775x0.755)\n"
     ]
    },
    {
     "data": {
      "image/png": "[encoded data removed]",
      "text/plain": [
       "<Figure size 432x288 with 1 Axes>"
      ]
     },
     "metadata": {
      "needs_background": "light"
     },
     "output_type": "display_data"
    }
   ],
   "source": [
    "#Plot histogram for sex of patient:\n",
    "print(data[\"sex\"].hist())"
   ]
  },
  {
   "cell_type": "code",
   "execution_count": 9,
   "id": "71e8cf82",
   "metadata": {},
   "outputs": [
    {
     "name": "stdout",
     "output_type": "stream",
     "text": [
      "AxesSubplot(0.125,0.125;0.775x0.755)\n"
     ]
    },
    {
     "data": {
      "image/png": "[encoded data removed]",
      "text/plain": [
       "<Figure size 432x288 with 1 Axes>"
      ]
     },
     "metadata": {
      "needs_background": "light"
     },
     "output_type": "display_data"
    }
   ],
   "source": [
    "print(data[\"age\"].hist())"
   ]
  },
  {
   "cell_type": "code",
   "execution_count": 10,
   "id": "459520cb",
   "metadata": {},
   "outputs": [
    {
     "name": "stdout",
     "output_type": "stream",
     "text": [
      "AxesSubplot(0.125,0.125;0.775x0.755)\n"
     ]
    },
    {
     "data": {
      "image/png": "[encoded data removed]",
      "text/plain": [
       "<Figure size 432x288 with 1 Axes>"
      ]
     },
     "metadata": {
      "needs_background": "light"
     },
     "output_type": "display_data"
    }
   ],
   "source": [
    "print(data[\"status\"].hist())"
   ]
  },
  {
   "cell_type": "code",
   "execution_count": 11,
   "id": "906a7aa5",
   "metadata": {},
   "outputs": [
    {
     "name": "stdout",
     "output_type": "stream",
     "text": [
      "AxesSubplot(0.125,0.125;0.775x0.755)\n"
     ]
    },
    {
     "data": {
      "image/png": "[encoded data removed]",
      "text/plain": [
       "<Figure size 432x288 with 1 Axes>"
      ]
     },
     "metadata": {
      "needs_background": "light"
     },
     "output_type": "display_data"
    }
   ],
   "source": [
    "#Plot histogram for sex of patient:\n",
    "print(data[\"ph.ecog\"].hist())"
   ]
  },
  {
   "cell_type": "code",
   "execution_count": 12,
   "id": "401b500d",
   "metadata": {},
   "outputs": [
    {
     "name": "stdout",
     "output_type": "stream",
     "text": [
      "AxesSubplot(0.125,0.125;0.775x0.755)\n"
     ]
    },
    {
     "data": {
      "image/png": "[encoded data removed]",
      "text/plain": [
       "<Figure size 432x288 with 1 Axes>"
      ]
     },
     "metadata": {
      "needs_background": "light"
     },
     "output_type": "display_data"
    }
   ],
   "source": [
    "print(data[\"ph.karno\"].hist())"
   ]
  },
  {
   "cell_type": "markdown",
   "id": "affde22f",
   "metadata": {},
   "source": [
    "##### Organización de los datos"
   ]
  },
  {
   "cell_type": "markdown",
   "id": "da217486",
   "metadata": {},
   "source": [
    "Ahora necesitamos organizar nuestros datos. Agregaremos una nueva columna en nuestro conjunto de datos que se llama \"muerto\". Almacena los datos sobre si una persona que es parte de nuestro experimento está viva o muerta (según el valor de estado). Si nuestro valor de estado es 1, entonces esa persona está viva, y si nuestro valor de estado es 2, entonces la persona está muerta. Es un paso crucial para lo que debemos hacer en el siguiente paso, ya que vamos a almacenar nuestros datos en columnas denominadas censuradas y observadas. Donde los datos observados almacenan el valor de las personas muertas en una línea de tiempo específica, y los datos censurados almacenan el valor de las personas vivas o personas que no vamos a investigar."
   ]
  },
  {
   "cell_type": "code",
   "execution_count": 13,
   "id": "9aff02e5",
   "metadata": {},
   "outputs": [
    {
     "data": {
      "text/html": [
       "<div>\n",
       "<style scoped>\n",
       "    .dataframe tbody tr th:only-of-type {\n",
       "        vertical-align: middle;\n",
       "    }\n",
       "\n",
       "    .dataframe tbody tr th {\n",
       "        vertical-align: top;\n",
       "    }\n",
       "\n",
       "    .dataframe thead th {\n",
       "        text-align: right;\n",
       "    }\n",
       "</style>\n",
       "<table border=\"1\" class=\"dataframe\">\n",
       "  <thead>\n",
       "    <tr style=\"text-align: right;\">\n",
       "      <th></th>\n",
       "      <th>Unnamed: 0</th>\n",
       "      <th>inst</th>\n",
       "      <th>time</th>\n",
       "      <th>status</th>\n",
       "      <th>age</th>\n",
       "      <th>sex</th>\n",
       "      <th>ph.ecog</th>\n",
       "      <th>ph.karno</th>\n",
       "      <th>pat.karno</th>\n",
       "      <th>meal.cal</th>\n",
       "      <th>wt.loss</th>\n",
       "      <th>dead</th>\n",
       "    </tr>\n",
       "  </thead>\n",
       "  <tbody>\n",
       "    <tr>\n",
       "      <th>0</th>\n",
       "      <td>1</td>\n",
       "      <td>3.0</td>\n",
       "      <td>306</td>\n",
       "      <td>2</td>\n",
       "      <td>74</td>\n",
       "      <td>1</td>\n",
       "      <td>1.0</td>\n",
       "      <td>90.0</td>\n",
       "      <td>100.0</td>\n",
       "      <td>1175.0</td>\n",
       "      <td>NaN</td>\n",
       "      <td>1.0</td>\n",
       "    </tr>\n",
       "    <tr>\n",
       "      <th>1</th>\n",
       "      <td>2</td>\n",
       "      <td>3.0</td>\n",
       "      <td>455</td>\n",
       "      <td>2</td>\n",
       "      <td>68</td>\n",
       "      <td>1</td>\n",
       "      <td>0.0</td>\n",
       "      <td>90.0</td>\n",
       "      <td>90.0</td>\n",
       "      <td>1225.0</td>\n",
       "      <td>15.0</td>\n",
       "      <td>1.0</td>\n",
       "    </tr>\n",
       "    <tr>\n",
       "      <th>2</th>\n",
       "      <td>3</td>\n",
       "      <td>3.0</td>\n",
       "      <td>1010</td>\n",
       "      <td>1</td>\n",
       "      <td>56</td>\n",
       "      <td>1</td>\n",
       "      <td>0.0</td>\n",
       "      <td>90.0</td>\n",
       "      <td>90.0</td>\n",
       "      <td>NaN</td>\n",
       "      <td>15.0</td>\n",
       "      <td>0.0</td>\n",
       "    </tr>\n",
       "    <tr>\n",
       "      <th>3</th>\n",
       "      <td>4</td>\n",
       "      <td>5.0</td>\n",
       "      <td>210</td>\n",
       "      <td>2</td>\n",
       "      <td>57</td>\n",
       "      <td>1</td>\n",
       "      <td>1.0</td>\n",
       "      <td>90.0</td>\n",
       "      <td>60.0</td>\n",
       "      <td>1150.0</td>\n",
       "      <td>11.0</td>\n",
       "      <td>1.0</td>\n",
       "    </tr>\n",
       "    <tr>\n",
       "      <th>4</th>\n",
       "      <td>5</td>\n",
       "      <td>1.0</td>\n",
       "      <td>883</td>\n",
       "      <td>2</td>\n",
       "      <td>60</td>\n",
       "      <td>1</td>\n",
       "      <td>0.0</td>\n",
       "      <td>100.0</td>\n",
       "      <td>90.0</td>\n",
       "      <td>NaN</td>\n",
       "      <td>0.0</td>\n",
       "      <td>1.0</td>\n",
       "    </tr>\n",
       "  </tbody>\n",
       "</table>\n",
       "</div>"
      ],
      "text/plain": [
       "   Unnamed: 0  inst  time  status  age  sex  ph.ecog  ph.karno  pat.karno  \\\n",
       "0           1   3.0   306       2   74    1      1.0      90.0      100.0   \n",
       "1           2   3.0   455       2   68    1      0.0      90.0       90.0   \n",
       "2           3   3.0  1010       1   56    1      0.0      90.0       90.0   \n",
       "3           4   5.0   210       2   57    1      1.0      90.0       60.0   \n",
       "4           5   1.0   883       2   60    1      0.0     100.0       90.0   \n",
       "\n",
       "   meal.cal  wt.loss  dead  \n",
       "0    1175.0      NaN   1.0  \n",
       "1    1225.0     15.0   1.0  \n",
       "2       NaN     15.0   0.0  \n",
       "3    1150.0     11.0   1.0  \n",
       "4       NaN      0.0   1.0  "
      ]
     },
     "execution_count": 13,
     "metadata": {},
     "output_type": "execute_result"
    }
   ],
   "source": [
    "#Create an object of KaplanMeierFitter:\n",
    "kmf = KaplanMeierFitter() \n",
    "\n",
    "#Organize our data:\n",
    "\n",
    "#If status = 1 , then dead = 0\n",
    "#If status = 2 , then dead = 1\n",
    "\n",
    "data.loc[data.status == 1, 'dead'] = 0\n",
    "data.loc[data.status == 2, 'dead'] = 1\n",
    "\n",
    "data.head()"
   ]
  },
  {
   "cell_type": "markdown",
   "id": "8a06fd3d",
   "metadata": {},
   "source": [
    "##### Ajustar nuestros datos a un objeto"
   ]
  },
  {
   "cell_type": "markdown",
   "id": "0d412d89",
   "metadata": {},
   "source": [
    "Aquí nuestro objetivo es encontrar el número de días que sobrevivió un paciente antes de morir. Nuestro evento de interés será \"muerte\", que se almacena en la columna \"muertos\". El primer argumento que se necesita es la línea de tiempo de nuestro experimento."
   ]
  },
  {
   "cell_type": "code",
   "execution_count": 14,
   "id": "a6c52625",
   "metadata": {},
   "outputs": [
    {
     "data": {
      "text/plain": [
       "<lifelines.KaplanMeierFitter:\"KM_estimate\", fitted with 228 total observations, 63 right-censored observations>"
      ]
     },
     "execution_count": 14,
     "metadata": {},
     "output_type": "execute_result"
    }
   ],
   "source": [
    "#Fit the parameter values in our object:\n",
    "kmf.fit(durations =  data[\"time\"], event_observed = data[\"dead\"])"
   ]
  },
  {
   "cell_type": "markdown",
   "id": "2613694b",
   "metadata": {},
   "source": [
    "#####  Generar tabla de eventos:"
   ]
  },
  {
   "cell_type": "markdown",
   "id": "4693b19d",
   "metadata": {},
   "source": [
    "Uno de los métodos más importantes del objeto kmf es \"event_table\". Nos da diversa información para nuestro análisis de supervivencia. Echemos un vistazo columna por columna."
   ]
  },
  {
   "cell_type": "code",
   "execution_count": 15,
   "id": "f1901431",
   "metadata": {},
   "outputs": [
    {
     "data": {
      "text/html": [
       "<div>\n",
       "<style scoped>\n",
       "    .dataframe tbody tr th:only-of-type {\n",
       "        vertical-align: middle;\n",
       "    }\n",
       "\n",
       "    .dataframe tbody tr th {\n",
       "        vertical-align: top;\n",
       "    }\n",
       "\n",
       "    .dataframe thead th {\n",
       "        text-align: right;\n",
       "    }\n",
       "</style>\n",
       "<table border=\"1\" class=\"dataframe\">\n",
       "  <thead>\n",
       "    <tr style=\"text-align: right;\">\n",
       "      <th></th>\n",
       "      <th>removed</th>\n",
       "      <th>observed</th>\n",
       "      <th>censored</th>\n",
       "      <th>entrance</th>\n",
       "      <th>at_risk</th>\n",
       "    </tr>\n",
       "    <tr>\n",
       "      <th>event_at</th>\n",
       "      <th></th>\n",
       "      <th></th>\n",
       "      <th></th>\n",
       "      <th></th>\n",
       "      <th></th>\n",
       "    </tr>\n",
       "  </thead>\n",
       "  <tbody>\n",
       "    <tr>\n",
       "      <th>0.0</th>\n",
       "      <td>0</td>\n",
       "      <td>0</td>\n",
       "      <td>0</td>\n",
       "      <td>228</td>\n",
       "      <td>228</td>\n",
       "    </tr>\n",
       "    <tr>\n",
       "      <th>5.0</th>\n",
       "      <td>1</td>\n",
       "      <td>1</td>\n",
       "      <td>0</td>\n",
       "      <td>0</td>\n",
       "      <td>228</td>\n",
       "    </tr>\n",
       "    <tr>\n",
       "      <th>11.0</th>\n",
       "      <td>3</td>\n",
       "      <td>3</td>\n",
       "      <td>0</td>\n",
       "      <td>0</td>\n",
       "      <td>227</td>\n",
       "    </tr>\n",
       "    <tr>\n",
       "      <th>12.0</th>\n",
       "      <td>1</td>\n",
       "      <td>1</td>\n",
       "      <td>0</td>\n",
       "      <td>0</td>\n",
       "      <td>224</td>\n",
       "    </tr>\n",
       "    <tr>\n",
       "      <th>13.0</th>\n",
       "      <td>2</td>\n",
       "      <td>2</td>\n",
       "      <td>0</td>\n",
       "      <td>0</td>\n",
       "      <td>223</td>\n",
       "    </tr>\n",
       "    <tr>\n",
       "      <th>...</th>\n",
       "      <td>...</td>\n",
       "      <td>...</td>\n",
       "      <td>...</td>\n",
       "      <td>...</td>\n",
       "      <td>...</td>\n",
       "    </tr>\n",
       "    <tr>\n",
       "      <th>840.0</th>\n",
       "      <td>1</td>\n",
       "      <td>0</td>\n",
       "      <td>1</td>\n",
       "      <td>0</td>\n",
       "      <td>5</td>\n",
       "    </tr>\n",
       "    <tr>\n",
       "      <th>883.0</th>\n",
       "      <td>1</td>\n",
       "      <td>1</td>\n",
       "      <td>0</td>\n",
       "      <td>0</td>\n",
       "      <td>4</td>\n",
       "    </tr>\n",
       "    <tr>\n",
       "      <th>965.0</th>\n",
       "      <td>1</td>\n",
       "      <td>0</td>\n",
       "      <td>1</td>\n",
       "      <td>0</td>\n",
       "      <td>3</td>\n",
       "    </tr>\n",
       "    <tr>\n",
       "      <th>1010.0</th>\n",
       "      <td>1</td>\n",
       "      <td>0</td>\n",
       "      <td>1</td>\n",
       "      <td>0</td>\n",
       "      <td>2</td>\n",
       "    </tr>\n",
       "    <tr>\n",
       "      <th>1022.0</th>\n",
       "      <td>1</td>\n",
       "      <td>0</td>\n",
       "      <td>1</td>\n",
       "      <td>0</td>\n",
       "      <td>1</td>\n",
       "    </tr>\n",
       "  </tbody>\n",
       "</table>\n",
       "<p>187 rows × 5 columns</p>\n",
       "</div>"
      ],
      "text/plain": [
       "          removed  observed  censored  entrance  at_risk\n",
       "event_at                                                \n",
       "0.0             0         0         0       228      228\n",
       "5.0             1         1         0         0      228\n",
       "11.0            3         3         0         0      227\n",
       "12.0            1         1         0         0      224\n",
       "13.0            2         2         0         0      223\n",
       "...           ...       ...       ...       ...      ...\n",
       "840.0           1         0         1         0        5\n",
       "883.0           1         1         0         0        4\n",
       "965.0           1         0         1         0        3\n",
       "1010.0          1         0         1         0        2\n",
       "1022.0          1         0         1         0        1\n",
       "\n",
       "[187 rows x 5 columns]"
      ]
     },
     "execution_count": 15,
     "metadata": {},
     "output_type": "execute_result"
    }
   ],
   "source": [
    "#Print the event table:\n",
    "\n",
    "kmf.event_table\n",
    "\n",
    "# Removed = Observed + Censored\n",
    "# Censored = Person that didn't die.(They are of no use to us!)\n",
    "# Observed = Persons that died."
   ]
  },
  {
   "cell_type": "code",
   "execution_count": 16,
   "id": "397d7201",
   "metadata": {},
   "outputs": [
    {
     "name": "stdout",
     "output_type": "stream",
     "text": [
      "          removed  observed  censored  entrance  at_risk\n",
      "event_at                                                \n",
      "0.0             0         0         0       228      228\n",
      "5.0             1         1         0         0      228\n",
      "11.0            3         3         0         0      227\n",
      "12.0            1         1         0         0      224\n",
      "13.0            2         2         0         0      223\n"
     ]
    }
   ],
   "source": [
    "events_table = kmf.event_table\n",
    "# df.iloc[filas:columnas]\n",
    "print(events_table.iloc[:5,:])"
   ]
  },
  {
   "attachments": {
    "imagen-2.png": {
     "image/png": "[encoded data removed]"
    },
    "imagen.png": {
     "image/png": "[encoded data removed]"
    }
   },
   "cell_type": "markdown",
   "id": "29b822cd",
   "metadata": {},
   "source": [
    "a) event_at: Almacena el valor de la línea de tiempo para nuestro conjunto de datos. es decir, cuándo se observó al paciente en nuestro experimento o cuándo se realizó el experimento. Pueden ser varios minutos, días, meses, años y otros. En nuestro caso, será por muchos días. Almacena el valor de los días de supervivencia de los sujetos.\n",
    "\n",
    "b) at_risk: Almacena el número de pacientes actuales bajo observación. Al principio, será el número total de pacientes que vamos a observar en nuestro experimento. Si se agregan nuevos pacientes en un momento determinado, tenemos que aumentar su valor en consecuencia. Por lo tanto:\n",
    "\n",
    "![imagen-2.png](attachment:imagen-2.png)\n",
    "\n",
    "c) entrada: almacena el valor de los nuevos pacientes en una línea de tiempo determinada. Es posible que durante la experimentación, otros pacientes también sean diagnosticados con la enfermedad. Para dar cuenta de eso, tenemos la columna de entrada.\n",
    "\n",
    "d) censurado: Nuestro objetivo final es encontrar la probabilidad de supervivencia de un paciente. Al final del experimento, si la persona aún está viva, la agregaremos a la categoría censurada. Ya hemos discutido los tipos de censura.\n",
    "\n",
    "e) observado: Almacena el valor del número de sujetos que murieron durante el experimento. Desde una perspectiva amplia, estas son las personas que conocieron nuestro evento de interés.\n",
    "\n",
    "f) eliminado: Almacena los valores de los pacientes que ya no forman parte de nuestro experimento. Si una persona muere o es censurada, entra en esta categoría. En resumen, es una adición de los datos en la categoría de observados y censurados.\n",
    "\n",
    "![imagen.png](attachment:imagen.png)"
   ]
  },
  {
   "cell_type": "markdown",
   "id": "0f6261b8",
   "metadata": {},
   "source": [
    "##### Cálculo de la probabilidad de supervivencia para líneas de tiempo individuales:"
   ]
  },
  {
   "attachments": {
    "imagen.png": {
     "image/png": "[encoded data removed]"
    }
   },
   "cell_type": "markdown",
   "id": "78ff956b",
   "metadata": {},
   "source": [
    "Veamos primero la fórmula para calcular la supervivencia de una persona en particular en un momento dado.\n",
    "\n",
    "![imagen.png](attachment:imagen.png)"
   ]
  },
  {
   "attachments": {
    "imagen.png": {
     "image/png": "[encoded data removed]"
    }
   },
   "cell_type": "markdown",
   "id": "6534995f",
   "metadata": {},
   "source": [
    "a) Probabilidad de supervivencia en t = 0 únicamente:\n",
    "\n",
    "![imagen.png](attachment:imagen.png)"
   ]
  },
  {
   "cell_type": "code",
   "execution_count": 17,
   "id": "9da42d9b",
   "metadata": {},
   "outputs": [
    {
     "name": "stdout",
     "output_type": "stream",
     "text": [
      "1.0\n"
     ]
    }
   ],
   "source": [
    "#Calculamos la probabilidad de suvervivencia en un instante de tiempo t:\n",
    "\n",
    "# Indicamos que queremos coger la primera fila t = 0  y todas las columnas\n",
    "event_at_0 = kmf.event_table.iloc[0,:]  \n",
    "\n",
    "#Calculamos la probabilidad de suvervivencia en un instante de tiempo t=0:\n",
    "\n",
    "#Accedemos a las columnas del dataframe con dataframe.columna\n",
    "surv_for_0 = (event_at_0.at_risk - event_at_0.observed)/event_at_0.at_risk\n",
    "\n",
    "# La probabilidad de supervivencia en el instante t=0 será del 100%\n",
    "print(surv_for_0)"
   ]
  },
  {
   "attachments": {
    "imagen.png": {
     "image/png": "[encoded data removed]"
    }
   },
   "cell_type": "markdown",
   "id": "dc42fe71",
   "metadata": {},
   "source": [
    "b) Probabilidad de supervivencia en t = 5:\n",
    "\n",
    "![imagen.png](attachment:imagen.png)"
   ]
  },
  {
   "cell_type": "code",
   "execution_count": 18,
   "id": "41bc1ab6",
   "metadata": {},
   "outputs": [
    {
     "data": {
      "text/plain": [
       "0.9956140350877193"
      ]
     },
     "execution_count": 18,
     "metadata": {},
     "output_type": "execute_result"
    }
   ],
   "source": [
    "#Calculating the survival probability for a given time:\n",
    "\n",
    "event_at_5 = kmf.event_table.iloc[1,:]\n",
    "\n",
    "#Calculate the survival probability for t=5:\n",
    "surv_for_5 = (event_at_5.at_risk - event_at_5.observed)/event_at_5.at_risk\n",
    "surv_for_5"
   ]
  },
  {
   "attachments": {
    "imagen.png": {
     "image/png": "[encoded data removed]"
    }
   },
   "cell_type": "markdown",
   "id": "4267c400",
   "metadata": {},
   "source": [
    "c) Probabilidad de supervivencia en t = 11\n",
    "\n",
    "![imagen.png](attachment:imagen.png)"
   ]
  },
  {
   "cell_type": "code",
   "execution_count": 19,
   "id": "e28f37f6",
   "metadata": {},
   "outputs": [
    {
     "data": {
      "text/plain": [
       "0.986784140969163"
      ]
     },
     "execution_count": 19,
     "metadata": {},
     "output_type": "execute_result"
    }
   ],
   "source": [
    "#Calculating the survival probability for a given time:\n",
    "\n",
    "event_at_11 = kmf.event_table.iloc[2,:]\n",
    "\n",
    "#Calculate the survival probability for t=11:\n",
    "surv_for_11 = (event_at_11.at_risk - event_at_11.observed)/event_at_11.at_risk\n",
    "surv_for_11"
   ]
  },
  {
   "cell_type": "markdown",
   "id": "0627e62a",
   "metadata": {},
   "source": [
    "Ahora, lo que encontramos aquí es la probabilidad para un tiempo específico. Lo que queremos es la probabilidad de todo el tiempo para un paciente. es decir, la probabilidad de que el paciente sobreviva a todas las rondas del experimento.\n",
    "\n",
    "En pocas palabras, queremos encontrar la probabilidad de que una persona sobreviva todo el tiempo que vivió después del diagnóstico. Lo que acabamos de encontrar es la probabilidad de un experimento en particular solamente."
   ]
  },
  {
   "cell_type": "markdown",
   "id": "29d3e817",
   "metadata": {},
   "source": [
    "#### Ejemplo de probabilidad"
   ]
  },
  {
   "attachments": {
    "imagen-2.png": {
     "image/png": "[encoded data removed]"
    },
    "imagen-3.png": {
     "image/png": "[encoded data removed]"
    },
    "imagen-4.png": {
     "image/png": "[encoded data removed]"
    },
    "imagen-5.png": {
     "image/png": "[encoded data removed]"
    },
    "imagen.png": {
     "image/png": "[encoded data removed]"
    }
   },
   "cell_type": "markdown",
   "id": "56f3f121",
   "metadata": {},
   "source": [
    "Tomemos un ejemplo sencillo para comprender el concepto de probabilidad condicional. Por ejemplo, tenemos un total de 15 bolas en una caja no transparente. De las 15 bolas, somos siete bolas negras, cinco bolas rojas y tres bolas verdes. Aquí hay una vista pictórica para eso.\n",
    "\n",
    "![imagen.png](attachment:imagen.png)\n",
    "\n",
    "a) Probabilidad de elegir una bola roja:\n",
    "\n",
    "![imagen-2.png](attachment:imagen-2.png)\n",
    "\n",
    "b) Probabilidad de elegir la segunda bola roja:\n",
    "Como quitamos una bola que era roja, el número total de bolas rojas que tenemos es 4 y el número total de bolas que tenemos es 14.\n",
    "\n",
    "![imagen-3.png](attachment:imagen-3.png)\n",
    "\n",
    "Si nuestra pregunta es encontrar la probabilidad de que ambas bolas sean rojas, la multiplicaremos, y eso es precisamente lo que vamos a hacer en el análisis de supervivencia. Sabemos que un paciente ha sobrevivido al primer intervalo de tiempo y queremos encontrar la probabilidad de que sobreviva al segundo intervalo de tiempo dado que ha sobrevivido al primer intervalo de tiempo. Mi punto aquí es que no queremos encontrar la probabilidad del segundo intervalo de tiempo solamente. Queremos la probabilidad total de que sobreviva todo el período.\n",
    "\n",
    "En nuestro ejemplo, la probabilidad de que ambas bolas sean rojas es la siguiente:\n",
    "\n",
    "![imagen-4.png](attachment:imagen-4.png)\n",
    "\n",
    "En el análisis de supervivencia, podemos escribir la fórmula de la siguiente manera:\n",
    "\n",
    "![imagen-5.png](attachment:imagen-5.png)"
   ]
  },
  {
   "attachments": {
    "imagen.png": {
     "image/png": "[encoded data removed]"
    }
   },
   "cell_type": "markdown",
   "id": "2e60a0cb",
   "metadata": {},
   "source": [
    "#### Encontrar la probabilidad de supervivencia\n",
    "\n",
    "Queremos encontrar la probabilidad de que un paciente haya sobrevivido durante toda la línea de tiempo hasta ahora. Ahora necesitamos encontrar la probabilidad de supervivencia real de un paciente.\n",
    "\n",
    "##### a) Probabilidad de supervivencia para t = 0:\n",
    "\n",
    "![imagen.png](attachment:imagen.png)"
   ]
  },
  {
   "cell_type": "code",
   "execution_count": 20,
   "id": "6c9cd717",
   "metadata": {},
   "outputs": [
    {
     "name": "stdout",
     "output_type": "stream",
     "text": [
      "Survival Probability After 0 Days:  1.0\n"
     ]
    }
   ],
   "source": [
    "#Calculating the actual survival probability at a given time:\n",
    "\n",
    "surv_after_0 = surv_for_0 \n",
    "print(\"Survival Probability After 0 Days: \",surv_after_0)"
   ]
  },
  {
   "attachments": {
    "imagen.png": {
     "image/png": "[encoded data removed]"
    }
   },
   "cell_type": "markdown",
   "id": "8ac7e3e4",
   "metadata": {},
   "source": [
    "##### b) Probabilidad de supervivencia para t = 5:\n",
    "\n",
    "![imagen.png](attachment:imagen.png)"
   ]
  },
  {
   "cell_type": "code",
   "execution_count": 21,
   "id": "0627aa4b",
   "metadata": {},
   "outputs": [
    {
     "name": "stdout",
     "output_type": "stream",
     "text": [
      "Survival Probability After 5 Days:  0.9956140350877193\n"
     ]
    }
   ],
   "source": [
    "#Calculating the actual survival probability at a given time:\n",
    "\n",
    "surv_after_5 = surv_for_0 * surv_for_5\n",
    "print(\"Survival Probability After 5 Days: \",surv_after_5)"
   ]
  },
  {
   "attachments": {
    "imagen.png": {
     "image/png": "[encoded data removed]"
    }
   },
   "cell_type": "markdown",
   "id": "d16bb070",
   "metadata": {},
   "source": [
    "##### c) Probabilidad de supervivencia para t = 11:\n",
    "\n",
    "![imagen.png](attachment:imagen.png)"
   ]
  },
  {
   "cell_type": "code",
   "execution_count": 22,
   "id": "499051f8",
   "metadata": {},
   "outputs": [
    {
     "name": "stdout",
     "output_type": "stream",
     "text": [
      "Survival Probability After 11 Days:  0.9824561403508771\n"
     ]
    }
   ],
   "source": [
    "#Calculating the actual survival probability at a given time:\n",
    "\n",
    "surv_after_11 = surv_for_0 * surv_for_5 * surv_for_11\n",
    "print(\"Survival Probability After 11 Days: \",surv_after_11)"
   ]
  },
  {
   "cell_type": "markdown",
   "id": "57ef56e6",
   "metadata": {},
   "source": [
    "#### Predecir la probabilidad:\n",
    "Ahora, la función de predicción del objeto kmf hace todo este trabajo por nosotros. Sin embargo, siempre es una buena práctica conocer la lógica detrás de esto."
   ]
  },
  {
   "cell_type": "code",
   "execution_count": 23,
   "id": "93d43621",
   "metadata": {},
   "outputs": [
    {
     "name": "stdout",
     "output_type": "stream",
     "text": [
      "Survival probability for t=0:  1.0\n",
      "Survival probability for t=5:  0.9956140350877193\n",
      "Survival probability for t=11:  0.9824561403508766\n"
     ]
    }
   ],
   "source": [
    "#Get the probability values the easy way!\n",
    "\n",
    "print(\"Survival probability for t=0: \",kmf.predict(0))\n",
    "print(\"Survival probability for t=5: \",kmf.predict(5))\n",
    "print(\"Survival probability for t=11: \",kmf.predict(11))"
   ]
  },
  {
   "cell_type": "markdown",
   "id": "5197b707",
   "metadata": {},
   "source": [
    "##### Encontrar la probabilidad de supervivencia para una matriz de la línea de tiempo:"
   ]
  },
  {
   "cell_type": "code",
   "execution_count": 24,
   "id": "921249fd",
   "metadata": {},
   "outputs": [
    {
     "data": {
      "text/plain": [
       "0     1.000000\n",
       "5     0.995614\n",
       "11    0.982456\n",
       "12    0.978070\n",
       "Name: KM_estimate, dtype: float64"
      ]
     },
     "execution_count": 24,
     "metadata": {},
     "output_type": "execute_result"
    }
   ],
   "source": [
    "kmf.predict([0,5,11,12])"
   ]
  },
  {
   "cell_type": "markdown",
   "id": "d15ec3d7",
   "metadata": {},
   "source": [
    "##### Obtenga la probabilidad de supervivencia para toda la línea de tiempo:"
   ]
  },
  {
   "cell_type": "code",
   "execution_count": 25,
   "id": "8d6c5b61",
   "metadata": {},
   "outputs": [
    {
     "data": {
      "text/html": [
       "<div>\n",
       "<style scoped>\n",
       "    .dataframe tbody tr th:only-of-type {\n",
       "        vertical-align: middle;\n",
       "    }\n",
       "\n",
       "    .dataframe tbody tr th {\n",
       "        vertical-align: top;\n",
       "    }\n",
       "\n",
       "    .dataframe thead th {\n",
       "        text-align: right;\n",
       "    }\n",
       "</style>\n",
       "<table border=\"1\" class=\"dataframe\">\n",
       "  <thead>\n",
       "    <tr style=\"text-align: right;\">\n",
       "      <th></th>\n",
       "      <th>KM_estimate</th>\n",
       "    </tr>\n",
       "    <tr>\n",
       "      <th>timeline</th>\n",
       "      <th></th>\n",
       "    </tr>\n",
       "  </thead>\n",
       "  <tbody>\n",
       "    <tr>\n",
       "      <th>0.0</th>\n",
       "      <td>1.000000</td>\n",
       "    </tr>\n",
       "    <tr>\n",
       "      <th>5.0</th>\n",
       "      <td>0.995614</td>\n",
       "    </tr>\n",
       "    <tr>\n",
       "      <th>11.0</th>\n",
       "      <td>0.982456</td>\n",
       "    </tr>\n",
       "    <tr>\n",
       "      <th>12.0</th>\n",
       "      <td>0.978070</td>\n",
       "    </tr>\n",
       "    <tr>\n",
       "      <th>13.0</th>\n",
       "      <td>0.969298</td>\n",
       "    </tr>\n",
       "    <tr>\n",
       "      <th>...</th>\n",
       "      <td>...</td>\n",
       "    </tr>\n",
       "    <tr>\n",
       "      <th>840.0</th>\n",
       "      <td>0.067127</td>\n",
       "    </tr>\n",
       "    <tr>\n",
       "      <th>883.0</th>\n",
       "      <td>0.050346</td>\n",
       "    </tr>\n",
       "    <tr>\n",
       "      <th>965.0</th>\n",
       "      <td>0.050346</td>\n",
       "    </tr>\n",
       "    <tr>\n",
       "      <th>1010.0</th>\n",
       "      <td>0.050346</td>\n",
       "    </tr>\n",
       "    <tr>\n",
       "      <th>1022.0</th>\n",
       "      <td>0.050346</td>\n",
       "    </tr>\n",
       "  </tbody>\n",
       "</table>\n",
       "<p>187 rows × 1 columns</p>\n",
       "</div>"
      ],
      "text/plain": [
       "          KM_estimate\n",
       "timeline             \n",
       "0.0          1.000000\n",
       "5.0          0.995614\n",
       "11.0         0.982456\n",
       "12.0         0.978070\n",
       "13.0         0.969298\n",
       "...               ...\n",
       "840.0        0.067127\n",
       "883.0        0.050346\n",
       "965.0        0.050346\n",
       "1010.0       0.050346\n",
       "1022.0       0.050346\n",
       "\n",
       "[187 rows x 1 columns]"
      ]
     },
     "execution_count": 25,
     "metadata": {},
     "output_type": "execute_result"
    }
   ],
   "source": [
    "#To get the full list:\n",
    "kmf.survival_function_"
   ]
  },
  {
   "cell_type": "markdown",
   "id": "64d6d98c",
   "metadata": {},
   "source": [
    "La probabilidad de supervivencia de un paciente en la línea de tiempo 0 es 1. Al captar nuestros pensamientos, deducimos que la probabilidad de que una persona muera el primer día del diagnóstico es casi igual a 0. Por lo tanto, podemos decir que la probabilidad de supervivencia es tan alta como posible. A medida que aumenta la línea de tiempo, la probabilidad de supervivencia disminuye para un paciente."
   ]
  },
  {
   "cell_type": "markdown",
   "id": "22c4c8e9",
   "metadata": {},
   "source": [
    "##### Trace el gráfico:"
   ]
  },
  {
   "cell_type": "code",
   "execution_count": 26,
   "id": "5214e545",
   "metadata": {},
   "outputs": [
    {
     "data": {
      "text/plain": [
       "Text(0, 0.5, 'Probability of survival')"
      ]
     },
     "execution_count": 26,
     "metadata": {},
     "output_type": "execute_result"
    },
    {
     "data": {
      "image/png": "[encoded data removed]",
      "text/plain": [
       "<Figure size 432x288 with 1 Axes>"
      ]
     },
     "metadata": {
      "needs_background": "light"
     },
     "output_type": "display_data"
    }
   ],
   "source": [
    "#Plot the graph:\n",
    "kmf.plot()\n",
    "plt.title(\"The Kaplan-Meier Estimate\")\n",
    "plt.xlabel(\"Number of days\")\n",
    "plt.ylabel(\"Probability of survival\")"
   ]
  },
  {
   "cell_type": "markdown",
   "id": "4c7164e7",
   "metadata": {},
   "source": [
    "##### La mediana del número de días de supervivencia:\n",
    "Proporciona el número de días en los que, en promedio, sobrevivió el 50% de los pacientes."
   ]
  },
  {
   "cell_type": "code",
   "execution_count": 27,
   "id": "b9f56ed1",
   "metadata": {},
   "outputs": [
    {
     "name": "stdout",
     "output_type": "stream",
     "text": [
      "The median survival time:  310.0\n"
     ]
    }
   ],
   "source": [
    "#The median number of days:\n",
    "print(\"The median survival time: \",kmf.median_survival_time_)"
   ]
  },
  {
   "cell_type": "markdown",
   "id": "1af91396",
   "metadata": {},
   "source": [
    "Del código anterior, podemos decir que, en promedio, una persona vivió 310 días después del día del diagnóstico."
   ]
  },
  {
   "cell_type": "markdown",
   "id": "8277383d",
   "metadata": {},
   "source": [
    "##### Probabilidad de supervivencia con intervalo de confianza:"
   ]
  },
  {
   "cell_type": "code",
   "execution_count": 28,
   "id": "20bb26da",
   "metadata": {},
   "outputs": [
    {
     "data": {
      "text/html": [
       "<div>\n",
       "<style scoped>\n",
       "    .dataframe tbody tr th:only-of-type {\n",
       "        vertical-align: middle;\n",
       "    }\n",
       "\n",
       "    .dataframe tbody tr th {\n",
       "        vertical-align: top;\n",
       "    }\n",
       "\n",
       "    .dataframe thead th {\n",
       "        text-align: right;\n",
       "    }\n",
       "</style>\n",
       "<table border=\"1\" class=\"dataframe\">\n",
       "  <thead>\n",
       "    <tr style=\"text-align: right;\">\n",
       "      <th></th>\n",
       "      <th>KM_estimate_lower_0.95</th>\n",
       "      <th>KM_estimate_upper_0.95</th>\n",
       "    </tr>\n",
       "  </thead>\n",
       "  <tbody>\n",
       "    <tr>\n",
       "      <th>0.0</th>\n",
       "      <td>1.000000</td>\n",
       "      <td>1.000000</td>\n",
       "    </tr>\n",
       "    <tr>\n",
       "      <th>5.0</th>\n",
       "      <td>0.969277</td>\n",
       "      <td>0.999381</td>\n",
       "    </tr>\n",
       "    <tr>\n",
       "      <th>11.0</th>\n",
       "      <td>0.953935</td>\n",
       "      <td>0.993379</td>\n",
       "    </tr>\n",
       "    <tr>\n",
       "      <th>12.0</th>\n",
       "      <td>0.948120</td>\n",
       "      <td>0.990813</td>\n",
       "    </tr>\n",
       "    <tr>\n",
       "      <th>13.0</th>\n",
       "      <td>0.936682</td>\n",
       "      <td>0.985244</td>\n",
       "    </tr>\n",
       "    <tr>\n",
       "      <th>...</th>\n",
       "      <td>...</td>\n",
       "      <td>...</td>\n",
       "    </tr>\n",
       "    <tr>\n",
       "      <th>840.0</th>\n",
       "      <td>0.030728</td>\n",
       "      <td>0.123060</td>\n",
       "    </tr>\n",
       "    <tr>\n",
       "      <th>883.0</th>\n",
       "      <td>0.017866</td>\n",
       "      <td>0.108662</td>\n",
       "    </tr>\n",
       "    <tr>\n",
       "      <th>965.0</th>\n",
       "      <td>0.017866</td>\n",
       "      <td>0.108662</td>\n",
       "    </tr>\n",
       "    <tr>\n",
       "      <th>1010.0</th>\n",
       "      <td>0.017866</td>\n",
       "      <td>0.108662</td>\n",
       "    </tr>\n",
       "    <tr>\n",
       "      <th>1022.0</th>\n",
       "      <td>0.017866</td>\n",
       "      <td>0.108662</td>\n",
       "    </tr>\n",
       "  </tbody>\n",
       "</table>\n",
       "<p>187 rows × 2 columns</p>\n",
       "</div>"
      ],
      "text/plain": [
       "        KM_estimate_lower_0.95  KM_estimate_upper_0.95\n",
       "0.0                   1.000000                1.000000\n",
       "5.0                   0.969277                0.999381\n",
       "11.0                  0.953935                0.993379\n",
       "12.0                  0.948120                0.990813\n",
       "13.0                  0.936682                0.985244\n",
       "...                        ...                     ...\n",
       "840.0                 0.030728                0.123060\n",
       "883.0                 0.017866                0.108662\n",
       "965.0                 0.017866                0.108662\n",
       "1010.0                0.017866                0.108662\n",
       "1022.0                0.017866                0.108662\n",
       "\n",
       "[187 rows x 2 columns]"
      ]
     },
     "execution_count": 28,
     "metadata": {},
     "output_type": "execute_result"
    }
   ],
   "source": [
    "# Estimación de la probabilidad de supervivencia con un intervalo de confianza.\n",
    "kmf.confidence_interval_survival_function_"
   ]
  },
  {
   "cell_type": "markdown",
   "id": "9a9e3a16",
   "metadata": {},
   "source": [
    "##### Gráfico de probabilidad de supervivencia con intervalo de confianza:"
   ]
  },
  {
   "cell_type": "code",
   "execution_count": 29,
   "id": "f22dcf7e",
   "metadata": {},
   "outputs": [
    {
     "data": {
      "text/plain": [
       "<matplotlib.legend.Legend at 0x7fd1e91f14c0>"
      ]
     },
     "execution_count": 29,
     "metadata": {},
     "output_type": "execute_result"
    },
    {
     "data": {
      "image/png": "[encoded data removed]",
      "text/plain": [
       "<Figure size 432x288 with 1 Axes>"
      ]
     },
     "metadata": {
      "needs_background": "light"
     },
     "output_type": "display_data"
    }
   ],
   "source": [
    "#Plot survival function with confidence interval:\n",
    "confidence_surv_func = kmf.confidence_interval_survival_function_\n",
    "plt.plot(confidence_surv_func[\"KM_estimate_lower_0.95\"],label=\"Lower\")\n",
    "plt.plot(confidence_surv_func[\"KM_estimate_upper_0.95\"],label=\"Upper\")\n",
    "plt.title(\"Survival Function With Confidence Interval\")\n",
    "plt.xlabel(\"Number of days\")\n",
    "plt.ylabel(\"Survival Probability\")\n",
    "plt.legend()"
   ]
  },
  {
   "cell_type": "markdown",
   "id": "f6304682",
   "metadata": {},
   "source": [
    "Ahora toda la información que tenemos es para la supervivencia de una persona. Ahora veremos cuál es la probabilidad de que una persona muera en una línea de tiempo específica. Aquí observe que una mayor probabilidad de supervivencia es adecuada para una persona, ¡pero una mayor densidad acumulativa (probabilidad de que una persona muera) no es tan buena!"
   ]
  },
  {
   "attachments": {
    "imagen-2.png": {
     "image/png": "[encoded data removed]"
    },
    "imagen-3.png": {
     "image/png": "[encoded data removed]"
    },
    "imagen-4.png": {
     "image/png": "[encoded data removed]"
    },
    "imagen-5.png": {
     "image/png": "[encoded data removed]"
    },
    "imagen-6.png": {
     "image/png": "[encoded data removed]"
    },
    "imagen-7.png": {
     "image/png": "[encoded data removed]"
    },
    "imagen-8.png": {
     "image/png": "[encoded data removed]"
    },
    "imagen.png": {
     "image/png": "[encoded data removed]"
    }
   },
   "cell_type": "markdown",
   "id": "4d932a10",
   "metadata": {},
   "source": [
    "##### Probabilidad de que una persona muera:\n",
    "\n",
    "![imagen.png](attachment:imagen.png)\n",
    "\n",
    "Aquí el valor del denominador está sujeto a riesgo en la fila anterior.\n",
    "\n",
    "La fórmula de la densidad acumulativa:\n",
    "\n",
    "![imagen-2.png](attachment:imagen-2.png)\n",
    "\n",
    "a) Probabilidad de que una persona muera en t = 0:\n",
    "\n",
    "![imagen-3.png](attachment:imagen-3.png)\n",
    "\n",
    "b) Probabilidad de que una persona muera en t = 5:\n",
    "\n",
    "![imagen-4.png](attachment:imagen-4.png)\n",
    "\n",
    "c) Probabilidad de que una persona muera en t = 11:\n",
    "\n",
    "![imagen-5.png](attachment:imagen-5.png)\n",
    "\n",
    "Encuentre la densidad acumulada:\n",
    "d) Densidad acumulada en t = 0:\n",
    "\n",
    "![imagen-6.png](attachment:imagen-6.png)\n",
    "\n",
    "e) Densidad acumulada en t = 5:\n",
    "\n",
    "![imagen-7.png](attachment:imagen-7.png)\n",
    "\n",
    "f) Densidad acumulada en t = 11:\n",
    "\n",
    "![imagen-8.png](attachment:imagen-8.png)"
   ]
  },
  {
   "cell_type": "code",
   "execution_count": 30,
   "id": "1dabb86b",
   "metadata": {},
   "outputs": [
    {
     "data": {
      "text/html": [
       "<div>\n",
       "<style scoped>\n",
       "    .dataframe tbody tr th:only-of-type {\n",
       "        vertical-align: middle;\n",
       "    }\n",
       "\n",
       "    .dataframe tbody tr th {\n",
       "        vertical-align: top;\n",
       "    }\n",
       "\n",
       "    .dataframe thead th {\n",
       "        text-align: right;\n",
       "    }\n",
       "</style>\n",
       "<table border=\"1\" class=\"dataframe\">\n",
       "  <thead>\n",
       "    <tr style=\"text-align: right;\">\n",
       "      <th></th>\n",
       "      <th>KM_estimate</th>\n",
       "    </tr>\n",
       "    <tr>\n",
       "      <th>timeline</th>\n",
       "      <th></th>\n",
       "    </tr>\n",
       "  </thead>\n",
       "  <tbody>\n",
       "    <tr>\n",
       "      <th>0.0</th>\n",
       "      <td>0.000000</td>\n",
       "    </tr>\n",
       "    <tr>\n",
       "      <th>5.0</th>\n",
       "      <td>0.004386</td>\n",
       "    </tr>\n",
       "    <tr>\n",
       "      <th>11.0</th>\n",
       "      <td>0.017544</td>\n",
       "    </tr>\n",
       "    <tr>\n",
       "      <th>12.0</th>\n",
       "      <td>0.021930</td>\n",
       "    </tr>\n",
       "    <tr>\n",
       "      <th>13.0</th>\n",
       "      <td>0.030702</td>\n",
       "    </tr>\n",
       "    <tr>\n",
       "      <th>...</th>\n",
       "      <td>...</td>\n",
       "    </tr>\n",
       "    <tr>\n",
       "      <th>840.0</th>\n",
       "      <td>0.932873</td>\n",
       "    </tr>\n",
       "    <tr>\n",
       "      <th>883.0</th>\n",
       "      <td>0.949654</td>\n",
       "    </tr>\n",
       "    <tr>\n",
       "      <th>965.0</th>\n",
       "      <td>0.949654</td>\n",
       "    </tr>\n",
       "    <tr>\n",
       "      <th>1010.0</th>\n",
       "      <td>0.949654</td>\n",
       "    </tr>\n",
       "    <tr>\n",
       "      <th>1022.0</th>\n",
       "      <td>0.949654</td>\n",
       "    </tr>\n",
       "  </tbody>\n",
       "</table>\n",
       "<p>187 rows × 1 columns</p>\n",
       "</div>"
      ],
      "text/plain": [
       "          KM_estimate\n",
       "timeline             \n",
       "0.0          0.000000\n",
       "5.0          0.004386\n",
       "11.0         0.017544\n",
       "12.0         0.021930\n",
       "13.0         0.030702\n",
       "...               ...\n",
       "840.0        0.932873\n",
       "883.0        0.949654\n",
       "965.0        0.949654\n",
       "1010.0       0.949654\n",
       "1022.0       0.949654\n",
       "\n",
       "[187 rows x 1 columns]"
      ]
     },
     "execution_count": 30,
     "metadata": {},
     "output_type": "execute_result"
    }
   ],
   "source": [
    "#Probabaility of a subject dying:\n",
    "#p(1022) = p(0) +......+p(1022)\n",
    "kmf.cumulative_density_"
   ]
  },
  {
   "cell_type": "markdown",
   "id": "36da0ce3",
   "metadata": {},
   "source": [
    "##### Trace el gráfico de densidad acumulada:"
   ]
  },
  {
   "cell_type": "code",
   "execution_count": 31,
   "id": "b932df9d",
   "metadata": {},
   "outputs": [
    {
     "data": {
      "text/plain": [
       "Text(0, 0.5, \"Probability of person's death\")"
      ]
     },
     "execution_count": 31,
     "metadata": {},
     "output_type": "execute_result"
    },
    {
     "data": {
      "image/png": "[encoded data removed]",
      "text/plain": [
       "<Figure size 432x288 with 1 Axes>"
      ]
     },
     "metadata": {
      "needs_background": "light"
     },
     "output_type": "display_data"
    }
   ],
   "source": [
    "#Plot the cumulative density graph:\n",
    "kmf.plot_cumulative_density()\n",
    "plt.title(\"Cumulative Density Plot\")\n",
    "plt.xlabel(\"Number of days\")\n",
    "plt.ylabel(\"Probability of person's death\")"
   ]
  },
  {
   "cell_type": "markdown",
   "id": "cf2ccef8",
   "metadata": {},
   "source": [
    "Observe que, a medida que aumenta el número de días de supervivencia, aumenta la probabilidad de que una persona muera."
   ]
  },
  {
   "cell_type": "markdown",
   "id": "ae8486fc",
   "metadata": {},
   "source": [
    "##### La densidad acumulada con intervalo de confianza:"
   ]
  },
  {
   "cell_type": "code",
   "execution_count": 32,
   "id": "077689f4",
   "metadata": {},
   "outputs": [
    {
     "data": {
      "text/html": [
       "<div>\n",
       "<style scoped>\n",
       "    .dataframe tbody tr th:only-of-type {\n",
       "        vertical-align: middle;\n",
       "    }\n",
       "\n",
       "    .dataframe tbody tr th {\n",
       "        vertical-align: top;\n",
       "    }\n",
       "\n",
       "    .dataframe thead th {\n",
       "        text-align: right;\n",
       "    }\n",
       "</style>\n",
       "<table border=\"1\" class=\"dataframe\">\n",
       "  <thead>\n",
       "    <tr style=\"text-align: right;\">\n",
       "      <th></th>\n",
       "      <th>KM_estimate_lower_0.95</th>\n",
       "      <th>KM_estimate_upper_0.95</th>\n",
       "    </tr>\n",
       "  </thead>\n",
       "  <tbody>\n",
       "    <tr>\n",
       "      <th>0.0</th>\n",
       "      <td>0.000000</td>\n",
       "      <td>0.000000</td>\n",
       "    </tr>\n",
       "    <tr>\n",
       "      <th>5.0</th>\n",
       "      <td>0.030723</td>\n",
       "      <td>0.000619</td>\n",
       "    </tr>\n",
       "    <tr>\n",
       "      <th>11.0</th>\n",
       "      <td>0.046065</td>\n",
       "      <td>0.006621</td>\n",
       "    </tr>\n",
       "    <tr>\n",
       "      <th>12.0</th>\n",
       "      <td>0.051880</td>\n",
       "      <td>0.009187</td>\n",
       "    </tr>\n",
       "    <tr>\n",
       "      <th>13.0</th>\n",
       "      <td>0.063318</td>\n",
       "      <td>0.014756</td>\n",
       "    </tr>\n",
       "    <tr>\n",
       "      <th>...</th>\n",
       "      <td>...</td>\n",
       "      <td>...</td>\n",
       "    </tr>\n",
       "    <tr>\n",
       "      <th>840.0</th>\n",
       "      <td>0.969272</td>\n",
       "      <td>0.876940</td>\n",
       "    </tr>\n",
       "    <tr>\n",
       "      <th>883.0</th>\n",
       "      <td>0.982134</td>\n",
       "      <td>0.891338</td>\n",
       "    </tr>\n",
       "    <tr>\n",
       "      <th>965.0</th>\n",
       "      <td>0.982134</td>\n",
       "      <td>0.891338</td>\n",
       "    </tr>\n",
       "    <tr>\n",
       "      <th>1010.0</th>\n",
       "      <td>0.982134</td>\n",
       "      <td>0.891338</td>\n",
       "    </tr>\n",
       "    <tr>\n",
       "      <th>1022.0</th>\n",
       "      <td>0.982134</td>\n",
       "      <td>0.891338</td>\n",
       "    </tr>\n",
       "  </tbody>\n",
       "</table>\n",
       "<p>187 rows × 2 columns</p>\n",
       "</div>"
      ],
      "text/plain": [
       "        KM_estimate_lower_0.95  KM_estimate_upper_0.95\n",
       "0.0                   0.000000                0.000000\n",
       "5.0                   0.030723                0.000619\n",
       "11.0                  0.046065                0.006621\n",
       "12.0                  0.051880                0.009187\n",
       "13.0                  0.063318                0.014756\n",
       "...                        ...                     ...\n",
       "840.0                 0.969272                0.876940\n",
       "883.0                 0.982134                0.891338\n",
       "965.0                 0.982134                0.891338\n",
       "1010.0                0.982134                0.891338\n",
       "1022.0                0.982134                0.891338\n",
       "\n",
       "[187 rows x 2 columns]"
      ]
     },
     "execution_count": 32,
     "metadata": {},
     "output_type": "execute_result"
    }
   ],
   "source": [
    "#Cumulative density with confidence interval:\n",
    "kmf.confidence_interval_cumulative_density_"
   ]
  },
  {
   "cell_type": "markdown",
   "id": "c5733acb",
   "metadata": {},
   "source": [
    "##### Gráfico de densidad acumulada con intervalo de confianza:"
   ]
  },
  {
   "cell_type": "code",
   "execution_count": 33,
   "id": "2f9be171",
   "metadata": {},
   "outputs": [
    {
     "data": {
      "text/plain": [
       "<matplotlib.legend.Legend at 0x7fd1e90d49d0>"
      ]
     },
     "execution_count": 33,
     "metadata": {},
     "output_type": "execute_result"
    },
    {
     "data": {
      "image/png": "[encoded data removed]",
      "text/plain": [
       "<Figure size 432x288 with 1 Axes>"
      ]
     },
     "metadata": {
      "needs_background": "light"
     },
     "output_type": "display_data"
    }
   ],
   "source": [
    "#Plot cumulative density with confidence interval:\n",
    "confidence_cumulative_density = kmf.confidence_interval_cumulative_density_\n",
    "plt.plot(kmf.confidence_interval_cumulative_density_[\"KM_estimate_lower_0.95\"],label=\"Lower\")\n",
    "plt.plot(kmf.confidence_interval_cumulative_density_[\"KM_estimate_upper_0.95\"],label=\"Upper\")\n",
    "plt.title(\"Cumulative Density With Confidence Interval\")\n",
    "plt.xlabel(\"Number of days\")\n",
    "plt.ylabel(\"Cumulative Density\")\n",
    "plt.legend()"
   ]
  },
  {
   "cell_type": "markdown",
   "id": "5efb5000",
   "metadata": {},
   "source": [
    "##### Obtenga la densidad acumulativa para un día en particular:"
   ]
  },
  {
   "cell_type": "code",
   "execution_count": 34,
   "id": "f506b583",
   "metadata": {},
   "outputs": [
    {
     "data": {
      "text/plain": [
       "200    0.319727\n",
       "Name: KM_estimate, dtype: float64"
      ]
     },
     "execution_count": 34,
     "metadata": {},
     "output_type": "execute_result"
    }
   ],
   "source": [
    "#Densidad acumulada con intervalo de confianza mayor al 95%\n",
    "#Encontramos en el punto t=200\n",
    "kmf.cumulative_density_at_times(times=200)"
   ]
  },
  {
   "cell_type": "markdown",
   "id": "37d2eb57",
   "metadata": {},
   "source": [
    "##### El tiempo medio hasta un evento:"
   ]
  },
  {
   "cell_type": "code",
   "execution_count": 35,
   "id": "7d26729d",
   "metadata": {},
   "outputs": [
    {
     "data": {
      "text/html": [
       "<div>\n",
       "<style scoped>\n",
       "    .dataframe tbody tr th:only-of-type {\n",
       "        vertical-align: middle;\n",
       "    }\n",
       "\n",
       "    .dataframe tbody tr th {\n",
       "        vertical-align: top;\n",
       "    }\n",
       "\n",
       "    .dataframe thead th {\n",
       "        text-align: right;\n",
       "    }\n",
       "</style>\n",
       "<table border=\"1\" class=\"dataframe\">\n",
       "  <thead>\n",
       "    <tr style=\"text-align: right;\">\n",
       "      <th></th>\n",
       "      <th>KM_estimate - Conditional median duration remaining to event</th>\n",
       "    </tr>\n",
       "    <tr>\n",
       "      <th>timeline</th>\n",
       "      <th></th>\n",
       "    </tr>\n",
       "  </thead>\n",
       "  <tbody>\n",
       "    <tr>\n",
       "      <th>0.0</th>\n",
       "      <td>310.0</td>\n",
       "    </tr>\n",
       "    <tr>\n",
       "      <th>5.0</th>\n",
       "      <td>305.0</td>\n",
       "    </tr>\n",
       "    <tr>\n",
       "      <th>11.0</th>\n",
       "      <td>309.0</td>\n",
       "    </tr>\n",
       "    <tr>\n",
       "      <th>12.0</th>\n",
       "      <td>308.0</td>\n",
       "    </tr>\n",
       "    <tr>\n",
       "      <th>13.0</th>\n",
       "      <td>316.0</td>\n",
       "    </tr>\n",
       "    <tr>\n",
       "      <th>...</th>\n",
       "      <td>...</td>\n",
       "    </tr>\n",
       "    <tr>\n",
       "      <th>840.0</th>\n",
       "      <td>inf</td>\n",
       "    </tr>\n",
       "    <tr>\n",
       "      <th>883.0</th>\n",
       "      <td>inf</td>\n",
       "    </tr>\n",
       "    <tr>\n",
       "      <th>965.0</th>\n",
       "      <td>inf</td>\n",
       "    </tr>\n",
       "    <tr>\n",
       "      <th>1010.0</th>\n",
       "      <td>inf</td>\n",
       "    </tr>\n",
       "    <tr>\n",
       "      <th>1022.0</th>\n",
       "      <td>inf</td>\n",
       "    </tr>\n",
       "  </tbody>\n",
       "</table>\n",
       "<p>187 rows × 1 columns</p>\n",
       "</div>"
      ],
      "text/plain": [
       "          KM_estimate - Conditional median duration remaining to event\n",
       "timeline                                                              \n",
       "0.0                                                   310.0           \n",
       "5.0                                                   305.0           \n",
       "11.0                                                  309.0           \n",
       "12.0                                                  308.0           \n",
       "13.0                                                  316.0           \n",
       "...                                                     ...           \n",
       "840.0                                                   inf           \n",
       "883.0                                                   inf           \n",
       "965.0                                                   inf           \n",
       "1010.0                                                  inf           \n",
       "1022.0                                                  inf           \n",
       "\n",
       "[187 rows x 1 columns]"
      ]
     },
     "execution_count": 35,
     "metadata": {},
     "output_type": "execute_result"
    }
   ],
   "source": [
    "#Podemos obtener la cantidad de tiempo restante del tiempo medio de supervivencia.\n",
    "kmf.conditional_time_to_event_"
   ]
  },
  {
   "cell_type": "markdown",
   "id": "3d6428f7",
   "metadata": {},
   "source": [
    "##### Gráfico de la mediana del tiempo transcurrido hasta el evento:"
   ]
  },
  {
   "cell_type": "code",
   "execution_count": 36,
   "id": "4c7d5f0b",
   "metadata": {},
   "outputs": [
    {
     "data": {
      "text/plain": [
       "<matplotlib.legend.Legend at 0x7fd1e90a8e50>"
      ]
     },
     "execution_count": 36,
     "metadata": {},
     "output_type": "execute_result"
    },
    {
     "data": {
      "image/png": "[encoded data removed]",
      "text/plain": [
       "<Figure size 432x288 with 1 Axes>"
      ]
     },
     "metadata": {
      "needs_background": "light"
     },
     "output_type": "display_data"
    }
   ],
   "source": [
    "#Conditional median time left for event:\n",
    "median_time_to_event = kmf.conditional_time_to_event_\n",
    "plt.plot(median_time_to_event,label=\"Median Time left\")\n",
    "plt.title(\"Medain time to event\")\n",
    "plt.xlabel(\"Total days\")\n",
    "plt.ylabel(\"Conditional median time to event\")\n",
    "plt.legend()"
   ]
  },
  {
   "attachments": {
    "imagen.png": {
     "image/png": "[encoded data removed]"
    }
   },
   "cell_type": "markdown",
   "id": "3d200915",
   "metadata": {},
   "source": [
    "## Estimación de las tasas de riesgo mediante Nelson-Aalen\n",
    "### Función de peligro H (t):\n",
    "Hasta ahora, discutimos la función de supervivencia de Kaplan-Meier. Usando eso, podemos obtener la probabilidad de que el evento de interés (muerte en nuestro caso) no ocurra en ese momento. Las funciones de supervivencia son una excelente manera de resumir y visualizar el conjunto de datos de supervivencia; sin embargo, no es la única forma. Podemos visualizar la información agregada sobre supervivencia utilizando la función de riesgo de Nelson-Aalen h (t). La función de riesgo h (t) nos da la probabilidad de que un sujeto bajo observación en el momento t tenga un evento de interés (muerte) en ese momento. Para obtener la información sobre la función de riesgo, no podemos transformar el estimador de Kaplan-Meier. Para eso, existe un estimador no paramétrico adecuado de la función de riesgo acumulativo :\n",
    "\n",
    "Función de riesgo acumulativo:\n",
    "\n",
    "![imagen.png](attachment:imagen.png)\n",
    "\n",
    "##### Importe las bibliotecas necesarias:"
   ]
  },
  {
   "cell_type": "code",
   "execution_count": 37,
   "id": "46abcb96",
   "metadata": {},
   "outputs": [
    {
     "data": {
      "text/plain": [
       "<lifelines.NelsonAalenFitter:\"NA_estimate\", fitted with 228 total observations, 63 right-censored observations>"
      ]
     },
     "execution_count": 37,
     "metadata": {},
     "output_type": "execute_result"
    }
   ],
   "source": [
    "#Hazard function:\n",
    "from lifelines import NelsonAalenFitter\n",
    "\n",
    "#Crea un objeto de Nelson-Aalen-Fitter:\n",
    "naf = NelsonAalenFitter()\n",
    "\n",
    "#Ajuste de los datos:\n",
    "naf.fit(data[\"time\"], event_observed=data[\"dead\"])"
   ]
  },
  {
   "cell_type": "markdown",
   "id": "669eec42",
   "metadata": {},
   "source": [
    "##### Encontrar el peligro acumulativo:\n",
    "Aquí usaremos la tabla de eventos generada en la parte anterior para comprender cómo funciona realmente la función de peligro."
   ]
  },
  {
   "cell_type": "code",
   "execution_count": 38,
   "id": "16e92a96",
   "metadata": {},
   "outputs": [
    {
     "data": {
      "text/html": [
       "<div>\n",
       "<style scoped>\n",
       "    .dataframe tbody tr th:only-of-type {\n",
       "        vertical-align: middle;\n",
       "    }\n",
       "\n",
       "    .dataframe tbody tr th {\n",
       "        vertical-align: top;\n",
       "    }\n",
       "\n",
       "    .dataframe thead th {\n",
       "        text-align: right;\n",
       "    }\n",
       "</style>\n",
       "<table border=\"1\" class=\"dataframe\">\n",
       "  <thead>\n",
       "    <tr style=\"text-align: right;\">\n",
       "      <th></th>\n",
       "      <th>removed</th>\n",
       "      <th>observed</th>\n",
       "      <th>censored</th>\n",
       "      <th>entrance</th>\n",
       "      <th>at_risk</th>\n",
       "    </tr>\n",
       "    <tr>\n",
       "      <th>event_at</th>\n",
       "      <th></th>\n",
       "      <th></th>\n",
       "      <th></th>\n",
       "      <th></th>\n",
       "      <th></th>\n",
       "    </tr>\n",
       "  </thead>\n",
       "  <tbody>\n",
       "    <tr>\n",
       "      <th>0.0</th>\n",
       "      <td>0</td>\n",
       "      <td>0</td>\n",
       "      <td>0</td>\n",
       "      <td>228</td>\n",
       "      <td>228</td>\n",
       "    </tr>\n",
       "    <tr>\n",
       "      <th>5.0</th>\n",
       "      <td>1</td>\n",
       "      <td>1</td>\n",
       "      <td>0</td>\n",
       "      <td>0</td>\n",
       "      <td>228</td>\n",
       "    </tr>\n",
       "    <tr>\n",
       "      <th>11.0</th>\n",
       "      <td>3</td>\n",
       "      <td>3</td>\n",
       "      <td>0</td>\n",
       "      <td>0</td>\n",
       "      <td>227</td>\n",
       "    </tr>\n",
       "    <tr>\n",
       "      <th>12.0</th>\n",
       "      <td>1</td>\n",
       "      <td>1</td>\n",
       "      <td>0</td>\n",
       "      <td>0</td>\n",
       "      <td>224</td>\n",
       "    </tr>\n",
       "    <tr>\n",
       "      <th>13.0</th>\n",
       "      <td>2</td>\n",
       "      <td>2</td>\n",
       "      <td>0</td>\n",
       "      <td>0</td>\n",
       "      <td>223</td>\n",
       "    </tr>\n",
       "    <tr>\n",
       "      <th>...</th>\n",
       "      <td>...</td>\n",
       "      <td>...</td>\n",
       "      <td>...</td>\n",
       "      <td>...</td>\n",
       "      <td>...</td>\n",
       "    </tr>\n",
       "    <tr>\n",
       "      <th>840.0</th>\n",
       "      <td>1</td>\n",
       "      <td>0</td>\n",
       "      <td>1</td>\n",
       "      <td>0</td>\n",
       "      <td>5</td>\n",
       "    </tr>\n",
       "    <tr>\n",
       "      <th>883.0</th>\n",
       "      <td>1</td>\n",
       "      <td>1</td>\n",
       "      <td>0</td>\n",
       "      <td>0</td>\n",
       "      <td>4</td>\n",
       "    </tr>\n",
       "    <tr>\n",
       "      <th>965.0</th>\n",
       "      <td>1</td>\n",
       "      <td>0</td>\n",
       "      <td>1</td>\n",
       "      <td>0</td>\n",
       "      <td>3</td>\n",
       "    </tr>\n",
       "    <tr>\n",
       "      <th>1010.0</th>\n",
       "      <td>1</td>\n",
       "      <td>0</td>\n",
       "      <td>1</td>\n",
       "      <td>0</td>\n",
       "      <td>2</td>\n",
       "    </tr>\n",
       "    <tr>\n",
       "      <th>1022.0</th>\n",
       "      <td>1</td>\n",
       "      <td>0</td>\n",
       "      <td>1</td>\n",
       "      <td>0</td>\n",
       "      <td>1</td>\n",
       "    </tr>\n",
       "  </tbody>\n",
       "</table>\n",
       "<p>187 rows × 5 columns</p>\n",
       "</div>"
      ],
      "text/plain": [
       "          removed  observed  censored  entrance  at_risk\n",
       "event_at                                                \n",
       "0.0             0         0         0       228      228\n",
       "5.0             1         1         0         0      228\n",
       "11.0            3         3         0         0      227\n",
       "12.0            1         1         0         0      224\n",
       "13.0            2         2         0         0      223\n",
       "...           ...       ...       ...       ...      ...\n",
       "840.0           1         0         1         0        5\n",
       "883.0           1         1         0         0        4\n",
       "965.0           1         0         1         0        3\n",
       "1010.0          1         0         1         0        2\n",
       "1022.0          1         0         1         0        1\n",
       "\n",
       "[187 rows x 5 columns]"
      ]
     },
     "execution_count": 38,
     "metadata": {},
     "output_type": "execute_result"
    }
   ],
   "source": [
    "kmf.event_table"
   ]
  },
  {
   "attachments": {
    "imagen-2.png": {
     "image/png": "[encoded data removed]"
    },
    "imagen-3.png": {
     "image/png": "[encoded data removed]"
    },
    "imagen-4.png": {
     "image/png": "[encoded data removed]"
    },
    "imagen-5.png": {
     "image/png": "[encoded data removed]"
    },
    "imagen-6.png": {
     "image/png": "[encoded data removed]"
    },
    "imagen-7.png": {
     "image/png": "[encoded data removed]"
    },
    "imagen.png": {
     "image/png": "[encoded data removed]"
    }
   },
   "cell_type": "markdown",
   "id": "14cfeb98",
   "metadata": {},
   "source": [
    "Aquí está la fórmula para encontrar la probabilidad de peligro no acumulativa en un momento específico:\n",
    "\n",
    "![imagen.png](attachment:imagen.png)\n",
    "\n",
    "a) Hallar la probabilidad de peligro en t = 0:\n",
    "\n",
    "![imagen-2.png](attachment:imagen-2.png)\n",
    "\n",
    "b) Encontrar la probabilidad de peligro en t = 5:\n",
    "\n",
    "![imagen-3.png](attachment:imagen-3.png)\n",
    "\n",
    "c) Encontrar la probabilidad de peligro en t = 11:\n",
    "\n",
    "![imagen-4.png](attachment:imagen-4.png)\n",
    "\n",
    "d) Encontrar la probabilidad de peligro acumulada en t = 0:\n",
    "\n",
    "![imagen-5.png](attachment:imagen-5.png)\n",
    "\n",
    "e) Hallar la probabilidad de peligro acumulada en t = 5:\n",
    "\n",
    "![imagen-6.png](attachment:imagen-6.png)\n",
    "\n",
    "f) Encontrar la probabilidad de peligro acumulada en t = 11:\n",
    "\n",
    "![imagen-7.png](attachment:imagen-7.png)"
   ]
  },
  {
   "cell_type": "code",
   "execution_count": 39,
   "id": "3a2f9331",
   "metadata": {},
   "outputs": [
    {
     "data": {
      "text/html": [
       "<div>\n",
       "<style scoped>\n",
       "    .dataframe tbody tr th:only-of-type {\n",
       "        vertical-align: middle;\n",
       "    }\n",
       "\n",
       "    .dataframe tbody tr th {\n",
       "        vertical-align: top;\n",
       "    }\n",
       "\n",
       "    .dataframe thead th {\n",
       "        text-align: right;\n",
       "    }\n",
       "</style>\n",
       "<table border=\"1\" class=\"dataframe\">\n",
       "  <thead>\n",
       "    <tr style=\"text-align: right;\">\n",
       "      <th></th>\n",
       "      <th>NA_estimate</th>\n",
       "    </tr>\n",
       "    <tr>\n",
       "      <th>timeline</th>\n",
       "      <th></th>\n",
       "    </tr>\n",
       "  </thead>\n",
       "  <tbody>\n",
       "    <tr>\n",
       "      <th>0.0</th>\n",
       "      <td>0.000000</td>\n",
       "    </tr>\n",
       "    <tr>\n",
       "      <th>5.0</th>\n",
       "      <td>0.004386</td>\n",
       "    </tr>\n",
       "    <tr>\n",
       "      <th>11.0</th>\n",
       "      <td>0.017660</td>\n",
       "    </tr>\n",
       "    <tr>\n",
       "      <th>12.0</th>\n",
       "      <td>0.022125</td>\n",
       "    </tr>\n",
       "    <tr>\n",
       "      <th>13.0</th>\n",
       "      <td>0.031114</td>\n",
       "    </tr>\n",
       "    <tr>\n",
       "      <th>...</th>\n",
       "      <td>...</td>\n",
       "    </tr>\n",
       "    <tr>\n",
       "      <th>840.0</th>\n",
       "      <td>2.641565</td>\n",
       "    </tr>\n",
       "    <tr>\n",
       "      <th>883.0</th>\n",
       "      <td>2.891565</td>\n",
       "    </tr>\n",
       "    <tr>\n",
       "      <th>965.0</th>\n",
       "      <td>2.891565</td>\n",
       "    </tr>\n",
       "    <tr>\n",
       "      <th>1010.0</th>\n",
       "      <td>2.891565</td>\n",
       "    </tr>\n",
       "    <tr>\n",
       "      <th>1022.0</th>\n",
       "      <td>2.891565</td>\n",
       "    </tr>\n",
       "  </tbody>\n",
       "</table>\n",
       "<p>187 rows × 1 columns</p>\n",
       "</div>"
      ],
      "text/plain": [
       "          NA_estimate\n",
       "timeline             \n",
       "0.0          0.000000\n",
       "5.0          0.004386\n",
       "11.0         0.017660\n",
       "12.0         0.022125\n",
       "13.0         0.031114\n",
       "...               ...\n",
       "840.0        2.641565\n",
       "883.0        2.891565\n",
       "965.0        2.891565\n",
       "1010.0       2.891565\n",
       "1022.0       2.891565\n",
       "\n",
       "[187 rows x 1 columns]"
      ]
     },
     "execution_count": 39,
     "metadata": {},
     "output_type": "execute_result"
    }
   ],
   "source": [
    "#Print the cumulative hazard:\n",
    "naf.cumulative_hazard_"
   ]
  },
  {
   "cell_type": "markdown",
   "id": "41c45d34",
   "metadata": {},
   "source": [
    "##### Trace el gráfico de peligro acumulativo"
   ]
  },
  {
   "cell_type": "code",
   "execution_count": 40,
   "id": "0124ce58",
   "metadata": {},
   "outputs": [
    {
     "data": {
      "text/plain": [
       "Text(0, 0.5, \"Cumulative Probability of person's death\")"
      ]
     },
     "execution_count": 40,
     "metadata": {},
     "output_type": "execute_result"
    },
    {
     "data": {
      "image/png": "[encoded data removed]",
      "text/plain": [
       "<Figure size 432x288 with 1 Axes>"
      ]
     },
     "metadata": {
      "needs_background": "light"
     },
     "output_type": "display_data"
    }
   ],
   "source": [
    "#Plot the cumulative hazard grpah:\n",
    "naf.plot_cumulative_hazard()\n",
    "plt.title(\"Cumulative Probability for Event of Interest\")\n",
    "plt.xlabel(\"Number of days\")\n",
    "plt.ylabel(\"Cumulative Probability of person's death\")"
   ]
  },
  {
   "cell_type": "markdown",
   "id": "ebcefe32",
   "metadata": {},
   "source": [
    "El peligro acumulativo tiene una comprensión menos clara que las funciones de supervivencia, pero las funciones de peligro se basan en técnicas de análisis de supervivencia más avanzadas."
   ]
  },
  {
   "cell_type": "markdown",
   "id": "088b687e",
   "metadata": {},
   "source": [
    "##### Predecir un valor"
   ]
  },
  {
   "cell_type": "code",
   "execution_count": 41,
   "id": "2d81f137",
   "metadata": {},
   "outputs": [
    {
     "name": "stdout",
     "output_type": "stream",
     "text": [
      "Time = 500 days:  1.219546171331098\n",
      "Time = 1022 days:  2.8915648373471052\n"
     ]
    }
   ],
   "source": [
    "#We can predict the value at a certain point :\n",
    "print(\"Time = 500 days: \",naf.predict(500))\n",
    "print(\"Time = 1022 days: \",naf.predict(1022))"
   ]
  },
  {
   "cell_type": "markdown",
   "id": "7554a621",
   "metadata": {},
   "source": [
    "##### Probabilidad de peligro acumulada con intervalo de confianza"
   ]
  },
  {
   "cell_type": "code",
   "execution_count": 42,
   "id": "ee7f121e",
   "metadata": {},
   "outputs": [
    {
     "data": {
      "text/html": [
       "<div>\n",
       "<style scoped>\n",
       "    .dataframe tbody tr th:only-of-type {\n",
       "        vertical-align: middle;\n",
       "    }\n",
       "\n",
       "    .dataframe tbody tr th {\n",
       "        vertical-align: top;\n",
       "    }\n",
       "\n",
       "    .dataframe thead th {\n",
       "        text-align: right;\n",
       "    }\n",
       "</style>\n",
       "<table border=\"1\" class=\"dataframe\">\n",
       "  <thead>\n",
       "    <tr style=\"text-align: right;\">\n",
       "      <th></th>\n",
       "      <th>NA_estimate_lower_0.95</th>\n",
       "      <th>NA_estimate_upper_0.95</th>\n",
       "    </tr>\n",
       "  </thead>\n",
       "  <tbody>\n",
       "    <tr>\n",
       "      <th>0.0</th>\n",
       "      <td>0.000000</td>\n",
       "      <td>0.000000</td>\n",
       "    </tr>\n",
       "    <tr>\n",
       "      <th>5.0</th>\n",
       "      <td>0.000618</td>\n",
       "      <td>0.031136</td>\n",
       "    </tr>\n",
       "    <tr>\n",
       "      <th>11.0</th>\n",
       "      <td>0.006628</td>\n",
       "      <td>0.047055</td>\n",
       "    </tr>\n",
       "    <tr>\n",
       "      <th>12.0</th>\n",
       "      <td>0.009209</td>\n",
       "      <td>0.053156</td>\n",
       "    </tr>\n",
       "    <tr>\n",
       "      <th>13.0</th>\n",
       "      <td>0.014832</td>\n",
       "      <td>0.065266</td>\n",
       "    </tr>\n",
       "    <tr>\n",
       "      <th>...</th>\n",
       "      <td>...</td>\n",
       "      <td>...</td>\n",
       "    </tr>\n",
       "    <tr>\n",
       "      <th>840.0</th>\n",
       "      <td>2.058738</td>\n",
       "      <td>3.389389</td>\n",
       "    </tr>\n",
       "    <tr>\n",
       "      <th>883.0</th>\n",
       "      <td>2.176987</td>\n",
       "      <td>3.840697</td>\n",
       "    </tr>\n",
       "    <tr>\n",
       "      <th>965.0</th>\n",
       "      <td>2.176987</td>\n",
       "      <td>3.840697</td>\n",
       "    </tr>\n",
       "    <tr>\n",
       "      <th>1010.0</th>\n",
       "      <td>2.176987</td>\n",
       "      <td>3.840697</td>\n",
       "    </tr>\n",
       "    <tr>\n",
       "      <th>1022.0</th>\n",
       "      <td>2.176987</td>\n",
       "      <td>3.840697</td>\n",
       "    </tr>\n",
       "  </tbody>\n",
       "</table>\n",
       "<p>187 rows × 2 columns</p>\n",
       "</div>"
      ],
      "text/plain": [
       "        NA_estimate_lower_0.95  NA_estimate_upper_0.95\n",
       "0.0                   0.000000                0.000000\n",
       "5.0                   0.000618                0.031136\n",
       "11.0                  0.006628                0.047055\n",
       "12.0                  0.009209                0.053156\n",
       "13.0                  0.014832                0.065266\n",
       "...                        ...                     ...\n",
       "840.0                 2.058738                3.389389\n",
       "883.0                 2.176987                3.840697\n",
       "965.0                 2.176987                3.840697\n",
       "1010.0                2.176987                3.840697\n",
       "1022.0                2.176987                3.840697\n",
       "\n",
       "[187 rows x 2 columns]"
      ]
     },
     "execution_count": 42,
     "metadata": {},
     "output_type": "execute_result"
    }
   ],
   "source": [
    "#Cumulative hazard with confidence interval:\n",
    "naf.confidence_interval_"
   ]
  },
  {
   "cell_type": "markdown",
   "id": "e169d612",
   "metadata": {},
   "source": [
    "##### Gráfico de probabilidad de peligro acumulada con intervalo de confianza"
   ]
  },
  {
   "cell_type": "code",
   "execution_count": 43,
   "id": "9ef4412d",
   "metadata": {},
   "outputs": [
    {
     "data": {
      "text/plain": [
       "<matplotlib.legend.Legend at 0x7fd1e8fc77f0>"
      ]
     },
     "execution_count": 43,
     "metadata": {},
     "output_type": "execute_result"
    },
    {
     "data": {
      "image/png": "[encoded data removed]",
      "text/plain": [
       "<Figure size 432x288 with 1 Axes>"
      ]
     },
     "metadata": {
      "needs_background": "light"
     },
     "output_type": "display_data"
    }
   ],
   "source": [
    "#Plot cumulative hazard with confidence interval:\n",
    "confidence_interval = naf.confidence_interval_\n",
    "plt.plot(confidence_interval[\"NA_estimate_lower_0.95\"],label=\"Lower\")\n",
    "plt.plot(confidence_interval[\"NA_estimate_upper_0.95\"],label=\"Upper\")\n",
    "plt.title(\"Cumulative hazard With Confidence Interval\")\n",
    "plt.xlabel(\"Number of days\")\n",
    "plt.ylabel(\"Cumulative hazard\")\n",
    "plt.legend()"
   ]
  },
  {
   "cell_type": "markdown",
   "id": "48eed94e",
   "metadata": {},
   "source": [
    "##### Peligro acumulativo frente a densidad acumulada"
   ]
  },
  {
   "cell_type": "code",
   "execution_count": 44,
   "id": "903d5e02",
   "metadata": {},
   "outputs": [
    {
     "data": {
      "text/plain": [
       "Text(0.5, 0, 'Number of Days')"
      ]
     },
     "execution_count": 44,
     "metadata": {},
     "output_type": "execute_result"
    },
    {
     "data": {
      "image/png": "[encoded data removed]",
      "text/plain": [
       "<Figure size 432x288 with 1 Axes>"
      ]
     },
     "metadata": {
      "needs_background": "light"
     },
     "output_type": "display_data"
    }
   ],
   "source": [
    "#Plot the cumulative_hazard and cumulative density:\n",
    "kmf.plot_cumulative_density(label=\"Cumulative Hazard\")\n",
    "naf.plot_cumulative_hazard(label=\"Cumulative Density\")\n",
    "plt.xlabel(\"Number of Days\")"
   ]
  }
 ],
 "metadata": {
  "kernelspec": {
   "display_name": "Python 3 (ipykernel)",
   "language": "python",
   "name": "python3"
  },
  "language_info": {
   "codemirror_mode": {
    "name": "ipython",
    "version": 3
   },
   "file_extension": ".py",
   "mimetype": "text/x-python",
   "name": "python",
   "nbconvert_exporter": "python",
   "pygments_lexer": "ipython3",
   "version": "3.8.12"
  }
 },
 "nbformat": 4,
 "nbformat_minor": 5
}
