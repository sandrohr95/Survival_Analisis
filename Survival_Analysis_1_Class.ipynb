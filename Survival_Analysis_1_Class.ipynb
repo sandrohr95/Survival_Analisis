{
 "cells": [
  {
   "cell_type": "markdown",
   "id": "d7f36cf3",
   "metadata": {},
   "source": [
    "# Análisis de Supervivencia (Parte 1)"
   ]
  },
  {
   "cell_type": "markdown",
   "id": "1bdbe300",
   "metadata": {},
   "source": [
    "### Tabla de contenido:\n",
    "- Conceptos básicos del análisis de supervivencia\n",
    "- Teoría del ajustador de Kaplan-Meier con un ejemplo.\n",
    "- Teoría del ajustador de Nelson-Aalen con un ejemplo.\n",
    "- Instalador Kaplan-Meier basado en diferentes grupos.\n",
    "- Prueba de rango logarítmico.\n",
    "- Regresión de Cox."
   ]
  },
  {
   "cell_type": "markdown",
   "id": "30e0808d",
   "metadata": {},
   "source": [
    "### Instalación de librerías mendiantes pip install o conda install\n"
   ]
  },
  {
   "cell_type": "markdown",
   "id": "d8ba7783",
   "metadata": {},
   "source": [
    "- pip install lifelines\n",
    "- pip install panda\n",
    "- pip install numpy\n",
    "- pip install matplotlib"
   ]
  },
  {
   "cell_type": "code",
   "execution_count": null,
   "id": "8f3fa6f2",
   "metadata": {},
   "outputs": [],
   "source": [
    "#Importamos las librerías Necesarias para trabajar\n",
    "import pandas as pd\n",
    "import numpy as np\n",
    "import matplotlib.pyplot as plt\n",
    "from lifelines import KaplanMeierFitter"
   ]
  },
  {
   "cell_type": "markdown",
   "id": "83e2aefa",
   "metadata": {},
   "source": [
    "### Descargamos los datos"
   ]
  },
  {
   "cell_type": "code",
   "execution_count": null,
   "id": "adf9d423",
   "metadata": {},
   "outputs": [],
   "source": [
    "# !wget https://raw.githubusercontent.com/towardsai/tutorials/master/survival_analysis_in_python/lung.csv"
   ]
  },
  {
   "cell_type": "markdown",
   "id": "ca2d39fd",
   "metadata": {},
   "source": [
    "### Lectura del dataset:"
   ]
  },
  {
   "cell_type": "code",
   "execution_count": null,
   "id": "53da847c",
   "metadata": {},
   "outputs": [],
   "source": [
    "data = pd.read_csv(\"lung.csv\")\n",
    "data.head()"
   ]
  },
  {
   "cell_type": "markdown",
   "id": "c00f8113",
   "metadata": {},
   "source": [
    "### Descripción de los datos\n",
    "- Inst: Código de la Institución\n",
    "- Time: Tiempo de supervivencia del paciente\n",
    "- Status: Estado de censura de los datos; 1=Censurado (Vivo); 2=Muerto\n",
    "- Age: Edad del paciente en años\n",
    "- Sex: Seco del paciente; Hombre=1; Mujer=2\n",
    "- Ph.ecog: Ecog performance score; 0=bueno; 5=muerto;\n",
    "- Ph.Karno: KArnosky performance score rated by phisician; 0=Malo; 100=Bueno;\n",
    "- Meal.cal: Calorías consumidas por el paciente\n",
    "- Wt.loss: Peso perdido por el paciente\n",
    "\n",
    "##### Escala ECOG\n",
    "La escala ECOG es una forma práctica de medir la calidad de vida de un paciente exclusivamente con cáncer u oncológico, cuyas expectativas de vida cambian en el transcurso de meses, semanas e incluso días. \n",
    "\n",
    "La escala ECOG valora la evolución de las capacidades del paciente en su vida diaria manteniendo al máximo su autonomía. Este dato es muy importante cuando se plantea un tratamiento, ya que de esta escala dependerá el protocolo terapéutico y el pronóstico de la enfermedad.\n",
    "\n",
    "\n",
    "https://es.wikipedia.org/wiki/Escala_ECOG\n",
    "\n",
    "##### Escala Karnofsky\n",
    "La Escala Karnofsky, también llamada, KPS, es la forma típica de medir la capacidad de los pacientes con cáncer de realizar tareas rutinarias. Los puntajes de la escala de rendimiento de Karnofsky oscilan entre 0 y 100. Un puntaje más alto significa que el paciente tiene mejor capacidad de realizar las actividades cotidianas. La KPS se puede usar para determinar el pronóstico del paciente, medir los cambios en la capacidad del paciente para funcionar o decidir si un paciente puede ser incluido en un estudio clínico. \n",
    "\n",
    "https://es.wikipedia.org/wiki/Escala_Karnofsky\n"
   ]
  },
  {
   "cell_type": "markdown",
   "id": "6223b23a",
   "metadata": {},
   "source": [
    "#####  Imprima las columnas en nuestro conjunto de datos:"
   ]
  },
  {
   "cell_type": "code",
   "execution_count": null,
   "id": "878ebcb4",
   "metadata": {},
   "outputs": [],
   "source": [
    "#Print the column names of our data:\n",
    "print(data.columns)"
   ]
  },
  {
   "cell_type": "markdown",
   "id": "800ec6f8",
   "metadata": {},
   "source": [
    "##### Limpieza de los datos"
   ]
  },
  {
   "cell_type": "markdown",
   "id": "26977641",
   "metadata": {},
   "source": [
    "Necesitamos eliminar las columnas que no ofrecen información a nuestro modelo de predicción"
   ]
  },
  {
   "cell_type": "code",
   "execution_count": null,
   "id": "40628bb4",
   "metadata": {},
   "outputs": [],
   "source": [
    "data.drop(columns=['Unnamed: 0'])\n",
    "# Si queremos eliminar varias columnas:\n",
    "# data.drop(columns=['Unnamed: 0','sex'])\n",
    "data.head()"
   ]
  },
  {
   "cell_type": "markdown",
   "id": "0bec7863",
   "metadata": {},
   "source": [
    "##### Obtenga información adicional sobre el conjunto de datos:"
   ]
  },
  {
   "cell_type": "markdown",
   "id": "5b8a3702",
   "metadata": {},
   "source": [
    "Nos da información sobre el tipo de datos de las columnas junto con su contador de valor nulo. Necesitamos eliminar las filas con un valor nulo para algunos de los métodos de análisis de supervivencia."
   ]
  },
  {
   "cell_type": "code",
   "execution_count": null,
   "id": "0927a3ce",
   "metadata": {},
   "outputs": [],
   "source": [
    "#Additional info about our dataset:\n",
    "data.info()"
   ]
  },
  {
   "cell_type": "markdown",
   "id": "8055aa96",
   "metadata": {},
   "source": [
    "##### Obtenga información estadística sobre el conjunto de datos:"
   ]
  },
  {
   "cell_type": "markdown",
   "id": "9dfdd270",
   "metadata": {},
   "source": [
    "Nos da alguna información estadística como el número total de filas, media, desviación estándar, valor mínimo, percentil 25, percentil 50, percentil 75 y valor máximo para cada columna."
   ]
  },
  {
   "cell_type": "code",
   "execution_count": null,
   "id": "ea783a22",
   "metadata": {},
   "outputs": [],
   "source": [
    "#Statistical info about our dataset:\n",
    "data.describe()"
   ]
  },
  {
   "cell_type": "markdown",
   "id": "8e8e4de1",
   "metadata": {},
   "source": [
    "##### Distribución de los datos mediante histograma"
   ]
  },
  {
   "cell_type": "code",
   "execution_count": null,
   "id": "d623c306",
   "metadata": {},
   "outputs": [],
   "source": [
    "#Plot histogram for sex of patient:\n",
    "print(data[\"sex\"].hist())"
   ]
  },
  {
   "cell_type": "markdown",
   "id": "5f903db8",
   "metadata": {},
   "source": [
    "Esto nos da una idea general sobre cómo se distribuyen nuestros datos. En el siguiente gráfico, podemos ver que alrededor de 139 valores tienen un estado de 1, y aproximadamente 90 valores tienen un estado de 2, lo que significa que hay 139 hombres y alrededor de 90 mujeres en nuestro conjunto de datos."
   ]
  },
  {
   "cell_type": "code",
   "execution_count": null,
   "id": "71e8cf82",
   "metadata": {},
   "outputs": [],
   "source": [
    "print(data[\"age\"].hist())"
   ]
  },
  {
   "cell_type": "code",
   "execution_count": null,
   "id": "459520cb",
   "metadata": {},
   "outputs": [],
   "source": [
    "print(data[\"status\"].hist())"
   ]
  },
  {
   "cell_type": "code",
   "execution_count": null,
   "id": "d1763859",
   "metadata": {},
   "outputs": [],
   "source": [
    "print(data[\"ph.ecog\"].hist())"
   ]
  },
  {
   "cell_type": "code",
   "execution_count": null,
   "id": "b1745c41",
   "metadata": {},
   "outputs": [],
   "source": [
    "print(data[\"ph.karno\"].hist())"
   ]
  },
  {
   "cell_type": "markdown",
   "id": "affde22f",
   "metadata": {},
   "source": [
    "##### Organización de los datos"
   ]
  },
  {
   "cell_type": "markdown",
   "id": "da217486",
   "metadata": {},
   "source": [
    "Ahora necesitamos organizar nuestros datos. Agregaremos una nueva columna en nuestro conjunto de datos que se llama \"muerto\". Almacena los datos sobre si una persona que es parte de nuestro experimento está viva o muerta (según el valor de estado). Si nuestro valor de estado es 1, entonces esa persona está viva, y si nuestro valor de estado es 2, entonces la persona está muerta. Es un paso crucial para lo que debemos hacer en el siguiente paso, ya que vamos a almacenar nuestros datos en columnas denominadas censuradas y observadas. Donde los datos observados almacenan el valor de las personas muertas en una línea de tiempo específica, y los datos censurados almacenan el valor de las personas vivas o personas que no vamos a investigar."
   ]
  },
  {
   "cell_type": "code",
   "execution_count": null,
   "id": "9aff02e5",
   "metadata": {},
   "outputs": [],
   "source": [
    "#Organize our data:\n",
    "\n",
    "#If status = 1 , then dead = 0\n",
    "#If status = 2 , then dead = 1\n",
    "\n",
    "data.loc[data.status == 1, 'dead'] = 0\n",
    "data.loc[data.status == 2, 'dead'] = 1\n",
    "\n",
    "data.head()"
   ]
  },
  {
   "cell_type": "markdown",
   "id": "8a06fd3d",
   "metadata": {},
   "source": [
    "## Cálculo de la curva de supervivencia (Método Kaplan Meier)"
   ]
  },
  {
   "cell_type": "markdown",
   "id": "0d412d89",
   "metadata": {},
   "source": [
    "Aquí nuestro objetivo es encontrar el número de días que sobrevivió un paciente antes de morir. Nuestro evento de interés será \"muerte\", que se almacena en la columna \"muertos\". El primer argumento que se necesita es la línea de tiempo de nuestro experimento."
   ]
  },
  {
   "cell_type": "code",
   "execution_count": null,
   "id": "a6c52625",
   "metadata": {},
   "outputs": [],
   "source": [
    "#Create an object of KaplanMeierFitter:\n",
    "kmf = KaplanMeierFitter() \n",
    "#Fit the parameter values in our object:\n",
    "kmf.fit(durations =  data[\"time\"], event_observed = data[\"dead\"])"
   ]
  },
  {
   "cell_type": "markdown",
   "id": "2613694b",
   "metadata": {},
   "source": [
    "####  Generar tabla de eventos:"
   ]
  },
  {
   "cell_type": "markdown",
   "id": "4693b19d",
   "metadata": {},
   "source": [
    "Uno de los métodos más importantes del objeto kmf es \"event_table\". Nos da diversa información para nuestro análisis de supervivencia. Echemos un vistazo columna por columna."
   ]
  },
  {
   "cell_type": "code",
   "execution_count": null,
   "id": "f1901431",
   "metadata": {},
   "outputs": [],
   "source": [
    "#Print the event table:\n",
    "\n",
    "kmf.event_table\n",
    "\n",
    "# Removed = Observed + Censored\n",
    "# Censored = Person that didn't die.(They are of no use to us!)\n",
    "# Observed = Persons that died."
   ]
  },
  {
   "cell_type": "code",
   "execution_count": null,
   "id": "397d7201",
   "metadata": {},
   "outputs": [],
   "source": [
    "# Visualizamos las primeras 5 filas de nuestra tabla de eventos\n",
    "events_table = kmf.event_table\n",
    "# df.iloc[filas:columnas]\n",
    "print(events_table.iloc[:5,:])"
   ]
  },
  {
   "attachments": {
    "imagen-2.png": {
     "image/png": "[encoded data removed]"
    },
    "imagen.png": {
     "image/png": "[encoded data removed]"
    }
   },
   "cell_type": "markdown",
   "id": "29b822cd",
   "metadata": {},
   "source": [
    "a) event_at: Almacena el valor de la línea de tiempo para nuestro conjunto de datos. es decir, cuándo se observó al paciente en nuestro experimento o cuándo se realizó el experimento. Pueden ser varios minutos, días, meses, años y otros. En nuestro caso, será por muchos días. Almacena el valor de los días de supervivencia de los sujetos.\n",
    "\n",
    "b) at_risk: Almacena el número de pacientes actuales bajo observación. Al principio, será el número total de pacientes que vamos a observar en nuestro experimento. Si se agregan nuevos pacientes en un momento determinado, tenemos que aumentar su valor en consecuencia. Por lo tanto:\n",
    "\n",
    "![imagen-2.png](attachment:imagen-2.png)\n",
    "\n",
    "c) entrada: almacena el valor de los nuevos pacientes en una línea de tiempo determinada. Es posible que durante la experimentación, otros pacientes también sean diagnosticados con la enfermedad. Para dar cuenta de eso, tenemos la columna de entrada.\n",
    "\n",
    "d) censurado: Nuestro objetivo final es encontrar la probabilidad de supervivencia de un paciente. Al final del experimento, si la persona aún está viva, la agregaremos a la categoría censurada. Ya hemos discutido los tipos de censura.\n",
    "\n",
    "e) observado: Almacena el valor del número de sujetos que murieron durante el experimento. Desde una perspectiva amplia, estas son las personas que conocieron nuestro evento de interés.\n",
    "\n",
    "f) eliminado: Almacena los valores de los pacientes que ya no forman parte de nuestro experimento. Si una persona muere o es censurada, entra en esta categoría. En resumen, es una adición de los datos en la categoría de observados y censurados.\n",
    "\n",
    "![imagen.png](attachment:imagen.png)"
   ]
  },
  {
   "cell_type": "markdown",
   "id": "0f6261b8",
   "metadata": {},
   "source": [
    "### Cálculo de la probabilidad de supervivencia para líneas de tiempo individuales:"
   ]
  },
  {
   "attachments": {
    "imagen.png": {
     "image/png": "[encoded data removed]"
    }
   },
   "cell_type": "markdown",
   "id": "78ff956b",
   "metadata": {},
   "source": [
    "Veamos primero la fórmula para calcular la supervivencia de una persona en particular en un momento dado.\n",
    "\n",
    "![imagen.png](attachment:imagen.png)"
   ]
  },
  {
   "cell_type": "code",
   "execution_count": null,
   "id": "9057d3f1",
   "metadata": {},
   "outputs": [],
   "source": [
    "print(events_table.iloc[:5,:])"
   ]
  },
  {
   "attachments": {
    "imagen.png": {
     "image/png": "[encoded data removed]"
    }
   },
   "cell_type": "markdown",
   "id": "6534995f",
   "metadata": {},
   "source": [
    "##### a) Probabilidad de supervivencia en t = 0 únicamente:\n",
    "\n",
    "![imagen.png](attachment:imagen.png)"
   ]
  },
  {
   "cell_type": "code",
   "execution_count": null,
   "id": "9da42d9b",
   "metadata": {},
   "outputs": [],
   "source": [
    "#Calculamos la probabilidad de suvervivencia en un instante de tiempo t:\n",
    "\n",
    "# Indicamos que queremos coger la primera fila t = 0  y todas las columnas\n",
    "event_at_0 = kmf.event_table.iloc[0,:]  \n",
    "\n",
    "#Calculamos la probabilidad de suvervivencia en un instante de tiempo t=0:\n",
    "\n",
    "#Accedemos a las columnas del dataframe con dataframe.columna\n",
    "surv_for_0 = (event_at_0.at_risk - event_at_0.observed)/event_at_0.at_risk\n",
    "\n",
    "# La probabilidad de supervivencia en el instante t=0 será del 100%\n",
    "print(surv_for_0)"
   ]
  },
  {
   "cell_type": "code",
   "execution_count": null,
   "id": "fd14972d",
   "metadata": {},
   "outputs": [],
   "source": [
    "print(events_table.iloc[:5,:])"
   ]
  },
  {
   "attachments": {
    "imagen.png": {
     "image/png": "[encoded data removed]"
    }
   },
   "cell_type": "markdown",
   "id": "dc42fe71",
   "metadata": {},
   "source": [
    "##### b) Probabilidad de supervivencia en t = 5:\n",
    "\n",
    "![imagen.png](attachment:imagen.png)"
   ]
  },
  {
   "cell_type": "code",
   "execution_count": null,
   "id": "41bc1ab6",
   "metadata": {},
   "outputs": [],
   "source": [
    "#Calculating the survival probability for a given time:\n",
    "\n",
    "event_at_5 = kmf.event_table.iloc[1,:]\n",
    "\n",
    "#Calculate the survival probability for t=5:\n",
    "surv_for_5 = (event_at_5.at_risk - event_at_5.observed)/event_at_5.at_risk\n",
    "surv_for_5"
   ]
  },
  {
   "cell_type": "markdown",
   "id": "4267c400",
   "metadata": {},
   "source": [
    "## ¿Podríais calcular la probabilidad de supervivencia de un paciente en t = 11?\n"
   ]
  },
  {
   "cell_type": "code",
   "execution_count": null,
   "id": "0171fdfd",
   "metadata": {},
   "outputs": [],
   "source": [
    "print(events_table.iloc[:5,:])"
   ]
  },
  {
   "cell_type": "markdown",
   "id": "0627e62a",
   "metadata": {},
   "source": [
    "Ahora, lo que encontramos aquí es la probabilidad para un tiempo específico. Lo que queremos es la probabilidad de todo el tiempo para un paciente. es decir, la probabilidad de que el paciente sobreviva a todas las rondas del experimento.\n",
    "\n",
    "En pocas palabras, queremos encontrar la probabilidad de que una persona sobreviva todo el tiempo que vivió después del diagnóstico. Lo que acabamos de encontrar es la probabilidad de un experimento en particular solamente."
   ]
  },
  {
   "cell_type": "markdown",
   "id": "29d3e817",
   "metadata": {},
   "source": [
    "## Ejemplo de probabilidad"
   ]
  },
  {
   "attachments": {
    "imagen-2.png": {
     "image/png": "[encoded data removed]"
    },
    "imagen-3.png": {
     "image/png": "[encoded data removed]"
    },
    "imagen-4.png": {
     "image/png": "[encoded data removed]"
    },
    "imagen-5.png": {
     "image/png": "[encoded data removed]"
    },
    "imagen.png": {
     "image/png": "[encoded data removed]"
    }
   },
   "cell_type": "markdown",
   "id": "56f3f121",
   "metadata": {},
   "source": [
    "Tomemos un ejemplo sencillo para comprender el concepto de probabilidad condicional. Por ejemplo, tenemos un total de 15 bolas en una caja no transparente. De las 15 bolas, somos siete bolas negras, cinco bolas rojas y tres bolas verdes. Aquí hay una vista pictórica para eso.\n",
    "\n",
    "![imagen.png](attachment:imagen.png)\n",
    "\n",
    "a) Probabilidad de elegir una bola roja:\n",
    "\n",
    "![imagen-2.png](attachment:imagen-2.png)\n",
    "\n",
    "b) Probabilidad de elegir la segunda bola roja:\n",
    "Como quitamos una bola que era roja, el número total de bolas rojas que tenemos es 4 y el número total de bolas que tenemos es 14.\n",
    "\n",
    "![imagen-3.png](attachment:imagen-3.png)\n",
    "\n",
    "Si nuestra pregunta es encontrar la probabilidad de que ambas bolas sean rojas, la multiplicaremos, y eso es precisamente lo que vamos a hacer en el análisis de supervivencia. Sabemos que un paciente ha sobrevivido al primer intervalo de tiempo y queremos encontrar la probabilidad de que sobreviva al segundo intervalo de tiempo dado que ha sobrevivido al primer intervalo de tiempo. Mi punto aquí es que no queremos encontrar la probabilidad del segundo intervalo de tiempo solamente. Queremos la probabilidad total de que sobreviva todo el período.\n",
    "\n",
    "En nuestro ejemplo, la probabilidad de que ambas bolas sean rojas es la siguiente:\n",
    "\n",
    "![imagen-4.png](attachment:imagen-4.png)\n",
    "\n",
    "En el análisis de supervivencia, podemos escribir la fórmula de la siguiente manera:\n",
    "\n",
    "![imagen-5.png](attachment:imagen-5.png)"
   ]
  },
  {
   "attachments": {
    "imagen.png": {
     "image/png": "[encoded data removed]"
    }
   },
   "cell_type": "markdown",
   "id": "2e60a0cb",
   "metadata": {},
   "source": [
    "## Encontrar la probabilidad de supervivencia\n",
    "\n",
    "Queremos encontrar la probabilidad de que un paciente haya sobrevivido durante toda la línea de tiempo hasta ahora. Ahora necesitamos encontrar la probabilidad de supervivencia real de un paciente.\n",
    "\n",
    "##### a) Probabilidad de supervivencia para t = 0:\n",
    "\n",
    "![imagen.png](attachment:imagen.png)"
   ]
  },
  {
   "cell_type": "code",
   "execution_count": null,
   "id": "6c9cd717",
   "metadata": {},
   "outputs": [],
   "source": [
    "#Calculating the actual survival probability at a given time:\n",
    "\n",
    "surv_after_0 = surv_for_0 \n",
    "print(\"Survival Probability After 0 Days: \",surv_after_0)"
   ]
  },
  {
   "attachments": {
    "imagen.png": {
     "image/png": "[encoded data removed]"
    }
   },
   "cell_type": "markdown",
   "id": "8ac7e3e4",
   "metadata": {},
   "source": [
    "##### b) Probabilidad de supervivencia para t = 5:\n",
    "\n",
    "![imagen.png](attachment:imagen.png)"
   ]
  },
  {
   "cell_type": "code",
   "execution_count": null,
   "id": "0627aa4b",
   "metadata": {},
   "outputs": [],
   "source": [
    "#Calculating the actual survival probability at a given time:\n",
    "\n",
    "surv_after_5 = surv_for_0 * surv_for_5\n",
    "print(\"Survival Probability After 5 Days: \",surv_after_5)"
   ]
  },
  {
   "cell_type": "markdown",
   "id": "d16bb070",
   "metadata": {},
   "source": [
    "## ¿Podríais clacular la Probabilidad de supervivencia de un paciente durante toda la línea de tiempo hasta llegar al instante t = 11?"
   ]
  },
  {
   "cell_type": "markdown",
   "id": "57ef56e6",
   "metadata": {},
   "source": [
    "## Predecir la probabilidad con el Método Kaplan Meier:\n",
    "Ahora, la función de predicción del objeto kmf hace todo este trabajo por nosotros. Sin embargo, siempre es una buena práctica conocer la lógica detrás de esto."
   ]
  },
  {
   "cell_type": "code",
   "execution_count": null,
   "id": "93d43621",
   "metadata": {},
   "outputs": [],
   "source": [
    "#Get the probability values the easy way!\n",
    "\n",
    "print(\"Survival probability for t=0: \",kmf.predict(0))\n",
    "print(\"Survival probability for t=5: \",kmf.predict(5))\n",
    "print(\"Survival probability for t=11: \",kmf.predict(11))"
   ]
  },
  {
   "cell_type": "markdown",
   "id": "5197b707",
   "metadata": {},
   "source": [
    "##### Encontrar la probabilidad de supervivencia para una matriz de la línea de tiempo:"
   ]
  },
  {
   "cell_type": "code",
   "execution_count": null,
   "id": "921249fd",
   "metadata": {},
   "outputs": [],
   "source": [
    "kmf.predict([0,5,11,12])"
   ]
  },
  {
   "cell_type": "markdown",
   "id": "d15ec3d7",
   "metadata": {},
   "source": [
    "### Obtenga la probabilidad de supervivencia para toda la línea de tiempo:"
   ]
  },
  {
   "cell_type": "code",
   "execution_count": null,
   "id": "8d6c5b61",
   "metadata": {},
   "outputs": [],
   "source": [
    "#To get the full list:\n",
    "kmf.survival_function_"
   ]
  },
  {
   "cell_type": "markdown",
   "id": "64d6d98c",
   "metadata": {},
   "source": [
    "La probabilidad de supervivencia de un paciente en la línea de tiempo 0 es 1. Al captar nuestros pensamientos, deducimos que la probabilidad de que una persona muera el primer día del diagnóstico es casi igual a 0. Por lo tanto, podemos decir que la probabilidad de supervivencia es tan alta como posible. A medida que aumenta la línea de tiempo, la probabilidad de supervivencia disminuye para un paciente."
   ]
  },
  {
   "cell_type": "markdown",
   "id": "22c4c8e9",
   "metadata": {},
   "source": [
    "##### Trace el gráfico:"
   ]
  },
  {
   "cell_type": "code",
   "execution_count": null,
   "id": "5214e545",
   "metadata": {},
   "outputs": [],
   "source": [
    "#Plot the graph:\n",
    "kmf.plot()\n",
    "plt.title(\"The Kaplan-Meier Estimate\")\n",
    "plt.xlabel(\"Number of days\")\n",
    "plt.ylabel(\"Probability of survival\")"
   ]
  },
  {
   "cell_type": "markdown",
   "id": "4c7164e7",
   "metadata": {},
   "source": [
    "### La mediana del número de días de supervivencia:\n",
    "Proporciona el número de días en los que, en promedio, sobrevivió el 50% de los pacientes."
   ]
  },
  {
   "cell_type": "code",
   "execution_count": null,
   "id": "b9f56ed1",
   "metadata": {},
   "outputs": [],
   "source": [
    "#The median number of days:\n",
    "print(\"The median survival time: \",kmf.median_survival_time_)"
   ]
  },
  {
   "cell_type": "markdown",
   "id": "1af91396",
   "metadata": {},
   "source": [
    "Del código anterior, podemos decir que, en promedio, una persona vivió 310 días después del día del diagnóstico."
   ]
  },
  {
   "cell_type": "markdown",
   "id": "8277383d",
   "metadata": {},
   "source": [
    "### Probabilidad de supervivencia con intervalo de confianza:\n",
    "El método de Kaplan-Meier para el cálculo de supervivencia nos proporciona un intervalo de confianza en el cual confiaremos si la tasa de error es menor a 0.05"
   ]
  },
  {
   "cell_type": "code",
   "execution_count": null,
   "id": "20bb26da",
   "metadata": {},
   "outputs": [],
   "source": [
    "# Estimación de la probabilidad de supervivencia con un intervalo de confianza.\n",
    "kmf.confidence_interval_survival_function_"
   ]
  },
  {
   "cell_type": "markdown",
   "id": "9a9e3a16",
   "metadata": {},
   "source": [
    "### Gráfico de probabilidad de supervivencia con intervalo de confianza:"
   ]
  },
  {
   "cell_type": "code",
   "execution_count": null,
   "id": "f22dcf7e",
   "metadata": {},
   "outputs": [],
   "source": [
    "#Plot survival function with confidence interval:\n",
    "confidence_surv_func = kmf.confidence_interval_survival_function_\n",
    "plt.plot(confidence_surv_func[\"KM_estimate_lower_0.95\"],label=\"Lower\")\n",
    "plt.plot(confidence_surv_func[\"KM_estimate_upper_0.95\"],label=\"Upper\")\n",
    "plt.title(\"Survival Function With Confidence Interval\")\n",
    "plt.xlabel(\"Number of days\")\n",
    "plt.ylabel(\"Survival Probability\")\n",
    "plt.legend()"
   ]
  },
  {
   "cell_type": "markdown",
   "id": "f6304682",
   "metadata": {},
   "source": [
    "Ahora toda la información que tenemos es para la supervivencia de una persona. Ahora veremos cuál es la probabilidad de que una persona muera en una línea de tiempo específica. Aquí observe que una mayor probabilidad de supervivencia es adecuada para una persona, ¡pero una mayor densidad acumulativa (probabilidad de que una persona muera) no es tan buena!"
   ]
  },
  {
   "cell_type": "markdown",
   "id": "3d5c8a46",
   "metadata": {},
   "source": [
    "### Calcular la  Probabilidad de que una persona muera:\n"
   ]
  },
  {
   "cell_type": "code",
   "execution_count": null,
   "id": "51f5e16f",
   "metadata": {},
   "outputs": [],
   "source": [
    "print(events_table.iloc[:5,:])"
   ]
  },
  {
   "attachments": {
    "imagen-2.png": {
     "image/png": "[encoded data removed]"
    },
    "imagen-3.png": {
     "image/png": "[encoded data removed]"
    },
    "imagen-4.png": {
     "image/png": "[encoded data removed]"
    },
    "imagen-5.png": {
     "image/png": "[encoded data removed]"
    },
    "imagen-6.png": {
     "image/png": "[encoded data removed]"
    },
    "imagen-7.png": {
     "image/png": "[encoded data removed]"
    },
    "imagen-8.png": {
     "image/png": "[encoded data removed]"
    },
    "imagen.png": {
     "image/png": "[encoded data removed]"
    }
   },
   "cell_type": "markdown",
   "id": "4d932a10",
   "metadata": {},
   "source": [
    "![imagen.png](attachment:imagen.png)\n",
    "\n",
    "a) Probabilidad de que una persona muera en t = 0:\n",
    "\n",
    "![imagen-3.png](attachment:imagen-3.png)\n",
    "\n",
    "b) Probabilidad de que una persona muera en t = 5:\n",
    "\n",
    "![imagen-4.png](attachment:imagen-4.png)\n",
    "\n",
    "c) Probabilidad de que una persona muera en t = 11:\n",
    "\n",
    "![imagen-5.png](attachment:imagen-5.png)\n",
    "\n",
    "#### Densidad Acumulada:\n",
    "\n",
    "La fórmula de la densidad acumulativa:\n",
    "\n",
    "![imagen-2.png](attachment:imagen-2.png)\n",
    "\n",
    "Encuentre la densidad acumulada:\n",
    "\n",
    "d) Densidad acumulada en t = 0:\n",
    "\n",
    "![imagen-6.png](attachment:imagen-6.png)\n",
    "\n",
    "e) Densidad acumulada en t = 5:\n",
    "\n",
    "![imagen-7.png](attachment:imagen-7.png)\n",
    "\n",
    "f) Densidad acumulada en t = 11:\n",
    "\n",
    "![imagen-8.png](attachment:imagen-8.png)"
   ]
  },
  {
   "cell_type": "markdown",
   "id": "f577df33",
   "metadata": {},
   "source": [
    "## Cáculo de la densidad acumulada mediante el Método Kaplan Meier"
   ]
  },
  {
   "cell_type": "code",
   "execution_count": null,
   "id": "1dabb86b",
   "metadata": {},
   "outputs": [],
   "source": [
    "#Probabaility of a subject dying:\n",
    "#p(1022) = p(0) +......+p(1022)\n",
    "kmf.cumulative_density_"
   ]
  },
  {
   "cell_type": "markdown",
   "id": "36da0ce3",
   "metadata": {},
   "source": [
    "##### Trace el gráfico de densidad acumulada:"
   ]
  },
  {
   "cell_type": "code",
   "execution_count": null,
   "id": "b932df9d",
   "metadata": {},
   "outputs": [],
   "source": [
    "#Plot the cumulative density graph:\n",
    "kmf.plot_cumulative_density()\n",
    "plt.title(\"Cumulative Density Plot\")\n",
    "plt.xlabel(\"Number of days\")\n",
    "plt.ylabel(\"Probability of person's death\")"
   ]
  },
  {
   "cell_type": "markdown",
   "id": "cf2ccef8",
   "metadata": {},
   "source": [
    "Observe que, a medida que aumenta el número de días de supervivencia, aumenta la probabilidad de que una persona muera."
   ]
  },
  {
   "cell_type": "markdown",
   "id": "ae8486fc",
   "metadata": {},
   "source": [
    "#### La densidad acumulada con intervalo de confianza:"
   ]
  },
  {
   "cell_type": "code",
   "execution_count": null,
   "id": "077689f4",
   "metadata": {},
   "outputs": [],
   "source": [
    "#Cumulative density with confidence interval:\n",
    "kmf.confidence_interval_cumulative_density_"
   ]
  },
  {
   "cell_type": "markdown",
   "id": "c5733acb",
   "metadata": {},
   "source": [
    "#### Gráfico de densidad acumulada con intervalo de confianza:"
   ]
  },
  {
   "cell_type": "code",
   "execution_count": null,
   "id": "2f9be171",
   "metadata": {},
   "outputs": [],
   "source": [
    "#Plot cumulative density with confidence interval:\n",
    "confidence_cumulative_density = kmf.confidence_interval_cumulative_density_\n",
    "plt.plot(kmf.confidence_interval_cumulative_density_[\"KM_estimate_lower_0.95\"],label=\"Lower\")\n",
    "plt.plot(kmf.confidence_interval_cumulative_density_[\"KM_estimate_upper_0.95\"],label=\"Upper\")\n",
    "plt.title(\"Cumulative Density With Confidence Interval\")\n",
    "plt.xlabel(\"Number of days\")\n",
    "plt.ylabel(\"Cumulative Density\")\n",
    "plt.legend()"
   ]
  },
  {
   "cell_type": "markdown",
   "id": "5efb5000",
   "metadata": {},
   "source": [
    "##### Obtenga la densidad acumulativa para un día en particular:"
   ]
  },
  {
   "cell_type": "code",
   "execution_count": null,
   "id": "f506b583",
   "metadata": {},
   "outputs": [],
   "source": [
    "#Densidad acumulada con intervalo de confianza mayor al 95%\n",
    "#Encontramos en el punto t=200\n",
    "kmf.cumulative_density_at_times(times=200)"
   ]
  },
  {
   "cell_type": "markdown",
   "id": "37d2eb57",
   "metadata": {},
   "source": [
    "#### El tiempo medio hasta que ocurra un evento\n",
    "Podemos obtener la cantidad de tiempo restante del tiempo medio de supervivencia. Este tiempo irá variando a medida que pasa el tiempo, ya que se irá recalculando a medida que mueran o se recuperen personas.\n"
   ]
  },
  {
   "cell_type": "code",
   "execution_count": null,
   "id": "7d26729d",
   "metadata": {},
   "outputs": [],
   "source": [
    "kmf.conditional_time_to_event_"
   ]
  },
  {
   "cell_type": "markdown",
   "id": "3d6428f7",
   "metadata": {},
   "source": [
    "### Gráfico de la mediana del tiempo transcurrido hasta el evento:"
   ]
  },
  {
   "cell_type": "code",
   "execution_count": null,
   "id": "4c7d5f0b",
   "metadata": {},
   "outputs": [],
   "source": [
    "#Conditional median time left for event:\n",
    "median_time_to_event = kmf.conditional_time_to_event_\n",
    "plt.plot(median_time_to_event,label=\"Median Time left\")\n",
    "plt.title(\"Medain time to event\")\n",
    "plt.xlabel(\"Total days\")\n",
    "plt.ylabel(\"Conditional median time to event\")\n",
    "plt.legend()"
   ]
  },
  {
   "cell_type": "markdown",
   "id": "1f551cdd",
   "metadata": {},
   "source": [
    "Se puede observar que la gráfica no es linealmente decreciente, ya que se irá recalculando el tiempo medio de supervivencia a medida que sucenden eventos (muertes, recuperaciones, censuras ...)"
   ]
  },
  {
   "attachments": {
    "imagen.png": {
     "image/png": "[encoded data removed]"
    }
   },
   "cell_type": "markdown",
   "id": "3d200915",
   "metadata": {},
   "source": [
    "## Estimación de las tasas de riesgo mediante Nelson-Aalen\n",
    "### Función de peligro H (t):\n",
    "Hasta ahora, discutimos la función de supervivencia de Kaplan-Meier. Usando eso, podemos obtener la probabilidad de que el evento de interés (muerte en nuestro caso) no ocurra en ese momento. Las funciones de supervivencia son una excelente manera de resumir y visualizar el conjunto de datos de supervivencia; sin embargo, no es la única forma. Podemos visualizar la información agregada sobre supervivencia utilizando la función de riesgo de Nelson-Aalen h (t). La función de riesgo h (t) nos da la probabilidad de que un sujeto bajo observación en el momento t tenga un evento de interés (muerte) en ese momento. Para obtener la información sobre la función de riesgo, no podemos transformar el estimador de Kaplan-Meier. Para eso, existe un estimador no paramétrico adecuado de la función de riesgo acumulativo :\n",
    "\n",
    "Función de riesgo acumulativo:\n",
    "\n",
    "![imagen.png](attachment:imagen.png)\n",
    "\n",
    "##### Importe las bibliotecas necesarias:"
   ]
  },
  {
   "cell_type": "code",
   "execution_count": null,
   "id": "46abcb96",
   "metadata": {},
   "outputs": [],
   "source": [
    "#Hazard function:\n",
    "from lifelines import NelsonAalenFitter\n",
    "\n",
    "#Crea un objeto de Nelson-Aalen-Fitter:\n",
    "naf = NelsonAalenFitter()\n",
    "\n",
    "#Ajuste de los datos:\n",
    "naf.fit(data[\"time\"], event_observed=data[\"dead\"])"
   ]
  },
  {
   "cell_type": "markdown",
   "id": "669eec42",
   "metadata": {},
   "source": [
    "##### Encontrar el peligro acumulativo:\n",
    "Aquí usaremos la tabla de eventos generada en la parte anterior para comprender cómo funciona realmente la función de peligro."
   ]
  },
  {
   "cell_type": "code",
   "execution_count": null,
   "id": "16e92a96",
   "metadata": {},
   "outputs": [],
   "source": [
    "kmf.event_table"
   ]
  },
  {
   "attachments": {
    "imagen-2.png": {
     "image/png": "[encoded data removed]"
    },
    "imagen-3.png": {
     "image/png": "[encoded data removed]"
    },
    "imagen-4.png": {
     "image/png": "[encoded data removed]"
    },
    "imagen-5.png": {
     "image/png": "[encoded data removed]"
    },
    "imagen-6.png": {
     "image/png": "[encoded data removed]"
    },
    "imagen-7.png": {
     "image/png": "[encoded data removed]"
    },
    "imagen.png": {
     "image/png": "[encoded data removed]"
    }
   },
   "cell_type": "markdown",
   "id": "14cfeb98",
   "metadata": {},
   "source": [
    "Aquí está la fórmula para encontrar la probabilidad de peligro no acumulativa en un momento específico:\n",
    "\n",
    "![imagen.png](attachment:imagen.png)\n",
    "\n",
    "a) Hallar la probabilidad de peligro en t = 0:\n",
    "\n",
    "![imagen-2.png](attachment:imagen-2.png)\n",
    "\n",
    "b) Encontrar la probabilidad de peligro en t = 5:\n",
    "\n",
    "![imagen-3.png](attachment:imagen-3.png)\n",
    "\n",
    "c) Encontrar la probabilidad de peligro en t = 11:\n",
    "\n",
    "![imagen-4.png](attachment:imagen-4.png)\n",
    "\n",
    "d) Encontrar la probabilidad de peligro acumulada en t = 0:\n",
    "\n",
    "![imagen-5.png](attachment:imagen-5.png)\n",
    "\n",
    "e) Hallar la probabilidad de peligro acumulada en t = 5:\n",
    "\n",
    "![imagen-6.png](attachment:imagen-6.png)\n",
    "\n",
    "f) Encontrar la probabilidad de peligro acumulada en t = 11:\n",
    "\n",
    "![imagen-7.png](attachment:imagen-7.png)"
   ]
  },
  {
   "cell_type": "code",
   "execution_count": null,
   "id": "3a2f9331",
   "metadata": {},
   "outputs": [],
   "source": [
    "#Print the cumulative hazard:\n",
    "naf.cumulative_hazard_"
   ]
  },
  {
   "cell_type": "markdown",
   "id": "41c45d34",
   "metadata": {},
   "source": [
    "##### Trace el gráfico de peligro acumulativo"
   ]
  },
  {
   "cell_type": "code",
   "execution_count": null,
   "id": "0124ce58",
   "metadata": {},
   "outputs": [],
   "source": [
    "#Plot the cumulative hazard grpah:\n",
    "naf.plot_cumulative_hazard()\n",
    "plt.title(\"Cumulative Probability for Event of Interest\")\n",
    "plt.xlabel(\"Number of days\")\n",
    "plt.ylabel(\"Cumulative Probability of person's death\")"
   ]
  },
  {
   "cell_type": "markdown",
   "id": "ebcefe32",
   "metadata": {},
   "source": [
    "El peligro acumulativo tiene una comprensión menos clara que las funciones de supervivencia, pero las funciones de peligro se basan en técnicas de análisis de supervivencia más avanzadas."
   ]
  },
  {
   "cell_type": "markdown",
   "id": "088b687e",
   "metadata": {},
   "source": [
    "##### Predecir un valor"
   ]
  },
  {
   "cell_type": "code",
   "execution_count": null,
   "id": "2d81f137",
   "metadata": {},
   "outputs": [],
   "source": [
    "#We can predict the value at a certain point :\n",
    "print(\"Time = 500 days: \",naf.predict(500))\n",
    "print(\"Time = 1022 days: \",naf.predict(1022))"
   ]
  },
  {
   "cell_type": "markdown",
   "id": "7554a621",
   "metadata": {},
   "source": [
    "##### Probabilidad de peligro acumulada con intervalo de confianza"
   ]
  },
  {
   "cell_type": "code",
   "execution_count": null,
   "id": "ee7f121e",
   "metadata": {},
   "outputs": [],
   "source": [
    "#Cumulative hazard with confidence interval:\n",
    "naf.confidence_interval_"
   ]
  },
  {
   "cell_type": "markdown",
   "id": "e169d612",
   "metadata": {},
   "source": [
    "##### Gráfico de probabilidad de peligro acumulada con intervalo de confianza"
   ]
  },
  {
   "cell_type": "code",
   "execution_count": null,
   "id": "9ef4412d",
   "metadata": {},
   "outputs": [],
   "source": [
    "#Plot cumulative hazard with confidence interval:\n",
    "confidence_interval = naf.confidence_interval_\n",
    "plt.plot(confidence_interval[\"NA_estimate_lower_0.95\"],label=\"Lower\")\n",
    "plt.plot(confidence_interval[\"NA_estimate_upper_0.95\"],label=\"Upper\")\n",
    "plt.title(\"Cumulative hazard With Confidence Interval\")\n",
    "plt.xlabel(\"Number of days\")\n",
    "plt.ylabel(\"Cumulative hazard\")\n",
    "plt.legend()"
   ]
  },
  {
   "cell_type": "markdown",
   "id": "48eed94e",
   "metadata": {},
   "source": [
    "##### Peligro acumulativo frente a densidad acumulada"
   ]
  },
  {
   "cell_type": "code",
   "execution_count": null,
   "id": "903d5e02",
   "metadata": {},
   "outputs": [],
   "source": [
    "#Plot the cumulative_hazard and cumulative density:\n",
    "kmf.plot_cumulative_density(label=\"Cumulative Hazard\")\n",
    "naf.plot_cumulative_hazard(label=\"Cumulative Density\")\n",
    "plt.xlabel(\"Number of Days\")"
   ]
  }
 ],
 "metadata": {
  "kernelspec": {
   "display_name": "Python 3 (ipykernel)",
   "language": "python",
   "name": "python3"
  },
  "language_info": {
   "codemirror_mode": {
    "name": "ipython",
    "version": 3
   },
   "file_extension": ".py",
   "mimetype": "text/x-python",
   "name": "python",
   "nbconvert_exporter": "python",
   "pygments_lexer": "ipython3",
   "version": "3.8.12"
  }
 },
 "nbformat": 4,
 "nbformat_minor": 5
}
